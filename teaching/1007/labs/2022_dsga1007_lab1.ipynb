{
 "cells": [
  {
   "cell_type": "markdown",
   "id": "61381e37",
   "metadata": {},
   "source": [
    "### CDS NYU\n",
    "### DS-GA 1007 | Programming for Data Science\n",
    "### Lab 01\n",
    "### September 07, 2022\n",
    "\n",
    "\n",
    "# Basic Setup for Programming in Python"
   ]
  },
  {
   "cell_type": "markdown",
   "id": "cb470f5f",
   "metadata": {},
   "source": [
    "▶ This introductory lab is aimed at setting up your system so you can write and execute programs in Python\n",
    "\n",
    "▶ For today, goal is just to understand the basic set up necessary for Labs and Homework, and for executing programs presented during the Lectures. If you are all set up already, feel free to use this time to explore the case study provided at the end of this notebook\n",
    "\n",
    "▶ Lecture 04 will cover more exhaustively the many different ways to interact with Python programs"
   ]
  },
  {
   "cell_type": "markdown",
   "id": "a453cb44",
   "metadata": {},
   "source": [
    "## To do:\n",
    "\n",
    "1. Install Python/Anaconda and open Jupyter Notebook\n",
    "2. Write and Execute first commands in Jupyter Notebook + create doc cells\n",
    "3. Execute a program with interactive user input \n",
    "4. Execute a program with input data read from file \n",
    "5. Execute a program stored on file\n",
    "6. Advanced [optional for today]: Analyze data stored on file "
   ]
  },
  {
   "cell_type": "markdown",
   "id": "6c9170aa",
   "metadata": {},
   "source": [
    "## Resources\n",
    "\n",
    "* All you need to install is here: https://www.anaconda.com, just look for the `Download` button, click on it, then follow instructions\n",
    "\n",
    "For more details and level of control:\n",
    "\n",
    "* Install Python: https://www.python.org\n",
    "\n",
    "* Install Anaconda: https://docs.anaconda.com/anaconda/install\n",
    "\n",
    "* Guide for overall setup: https://swcarpentry.github.io/python-novice-inflammation/setup.html\n",
    "\n",
    "* Write/Execute a Program in Python:\n",
    "\n",
    "    * Option A: Jupyter Notebook\n",
    "\n",
    "    * Option B: IPython interpreter \n",
    "    \n",
    "    * Option C: Plain-vanilla Python interpreter"
   ]
  },
  {
   "cell_type": "markdown",
   "id": "62831b01",
   "metadata": {},
   "source": [
    "## Seek help for Setup during Lab and Office Hour\n",
    "\n",
    "Cora Mao  --  ym1596@nyu.edu  -- \n",
    "\n",
    "Devarsh Patel --  dp3324@nyu.edu  --\n"
   ]
  },
  {
   "cell_type": "markdown",
   "id": "a1fbff52",
   "metadata": {},
   "source": [
    "## Execute code in Jupyter Notebook\n",
    "\n",
    "### Keyboard Shortcuts \n",
    "\n",
    "`ctrl+return`: Evaluate the current cell\n",
    "\n",
    "\n",
    "`shift+return`: Evaluate the current cell and move to the next"
   ]
  },
  {
   "cell_type": "code",
   "execution_count": null,
   "id": "bc275405",
   "metadata": {
    "scrolled": true
   },
   "outputs": [],
   "source": [
    "print(\"ctrl + return\")\n",
    "1 + 1"
   ]
  },
  {
   "cell_type": "code",
   "execution_count": null,
   "id": "9f762d48",
   "metadata": {},
   "outputs": [],
   "source": [
    "print(\"shift + return\")"
   ]
  },
  {
   "cell_type": "markdown",
   "id": "f6312dc2",
   "metadata": {},
   "source": [
    "## Execute a program with interactive user input "
   ]
  },
  {
   "cell_type": "code",
   "execution_count": 4,
   "id": "271d6435",
   "metadata": {},
   "outputs": [
    {
     "name": "stdout",
     "output_type": "stream",
     "text": [
      "Write a song (add \"nextline\" between lyrics) hello hello hello\n",
      "Type your favorite word: hello\n",
      "\n",
      "====================\n",
      "Here is your song:\n",
      "====================\n",
      "> hello hello hello\n",
      "\n",
      " The word \"hello\" appears 3 times in this song\n"
     ]
    }
   ],
   "source": [
    "'''\n",
    "Program to analyze a song \n",
    " 1) Execute this cell and when prompted, write as song (or copy-paste the example provided below)\n",
    "    Example: \"Here is a little song I wrote nextline You might want to sing it note for note nextline Don't worry, be happy\"\n",
    " 2) When prompted to type your favorite word, type whatever you like.  I recommend the word 'note' \n",
    "'''\n",
    "\n",
    "song = input(\"Write a song (add \\\"nextline\\\" between lyrics) \")\n",
    "s = song.split(\"nextline\") \n",
    "word = input(\"Type your favorite word: \")\n",
    "d = {word: 0}\n",
    "\n",
    "print(\"\\n====================\\nHere is your song:\\n====================\")\n",
    "\n",
    "for line in s:\n",
    "    print(\"> {}\".format(line))\n",
    "    if word in line:\n",
    "        d[word] += line.count(word)\n",
    "        \n",
    "print('\\n The word \\\"{}\\\" appears {} times in this song'.format(word, d[word]))\n"
   ]
  },
  {
   "cell_type": "markdown",
   "id": "51ee86f7",
   "metadata": {},
   "source": [
    "## Execute a program with input data read from file "
   ]
  },
  {
   "cell_type": "code",
   "execution_count": 5,
   "id": "2097f124",
   "metadata": {},
   "outputs": [
    {
     "name": "stdout",
     "output_type": "stream",
     "text": [
      "Type your favorite word: Hallelujah\n",
      "\n",
      " The word \"Hallelujah\" appears 25 times in this song\n"
     ]
    }
   ],
   "source": [
    "''' \n",
    "Program to read a song from file and analyze it\n",
    " 1) Execute this cell \n",
    " 2) When prompted to type your favorite word, type whatever you like.  I recommend the word 'Hallelujah' \n",
    "'''\n",
    "\n",
    "song = open(\"lyrics.txt\",\"r\")\n",
    "word = input(\"Type your favorite word: \")\n",
    "d = {word: 0}\n",
    "for line in song:\n",
    "    if word in line:\n",
    "        d[word] += line.count(word)\n",
    "print('\\n The word \\\"{}\\\" appears {} times in this song'.format(word, d[word]))\n"
   ]
  },
  {
   "cell_type": "markdown",
   "id": "cac4311e",
   "metadata": {},
   "source": [
    "## Execute a program stored on file"
   ]
  },
  {
   "cell_type": "code",
   "execution_count": 2,
   "id": "6d07b1b0",
   "metadata": {},
   "outputs": [
    {
     "name": "stdout",
     "output_type": "stream",
     "text": [
      "\u001b[1;38;5;57m Hi Everyone! Welcome to DS-GA 1007!\r\n"
     ]
    }
   ],
   "source": [
    "!python welcome.py # Execute the program stored in the file called \"welcome.py\""
   ]
  },
  {
   "cell_type": "code",
   "execution_count": 3,
   "id": "100cd2b8",
   "metadata": {},
   "outputs": [
    {
     "name": "stdout",
     "output_type": "stream",
     "text": [
      "# This program contains only one line of code \r\n",
      "print('\\x1b[1;38;5;57m Hi Everyone! Welcome to DS-GA 1007!')\r\n"
     ]
    }
   ],
   "source": [
    "!cat welcome.py # Read the content of the file called \"welcome.py\" "
   ]
  },
  {
   "cell_type": "markdown",
   "id": "ca1b55c8",
   "metadata": {},
   "source": [
    "## [Optional] Advanced Case Study\n",
    "\n",
    "### Statistical data analysis of clinical trial results stored on file \n",
    "\n",
    "**Source**: https://swcarpentry.github.io/python-novice-inflammation/02-numpy/index.html\n",
    "\n",
    "Are you all set up and ready to go? If you would like to start exploring programming for data science, follow along the detailed example at the link above. The input data file is also provided in the lab material under the name `MedicalData.csv`. Here is a summary of the case study:   \n",
    "\n",
    "A new drug that was claimed to cure arthritis inflammation flare-ups within 3 weeks since initially taking the medication was tested in clinical trials, with key results stored in a CSV file.\n",
    "\n",
    "The CSV file contains the number of inflammation flare-ups per day for 60 patients enrolled in the clinical trial. This trial lasted 40 days. Each row corresponds to a patient, and each column corresponds to a day in the trial. Once patients have their first inflammation flare-up they take the medication and wait a few weeks for it to take effect and reduce flare-ups.\n",
    "\n",
    "To see how effective the treatment is we would like to calculate the average inflammation per day across all patients.\n",
    "\n",
    "This material is provided only for you to explore a *first* typical data analysis use case, but this is relatively advanced and we will take the time over next 5 weeks to cover all concepts involved (data types, indexing and slicing, statistical analysis, etc).\n"
   ]
  },
  {
   "cell_type": "markdown",
   "id": "5d48ce9b",
   "metadata": {},
   "source": [
    "## **Thank you everyone!**"
   ]
  }
 ],
 "metadata": {
  "kernelspec": {
   "display_name": "Python 3 (ipykernel)",
   "language": "python",
   "name": "python3"
  },
  "language_info": {
   "codemirror_mode": {
    "name": "ipython",
    "version": 3
   },
   "file_extension": ".py",
   "mimetype": "text/x-python",
   "name": "python",
   "nbconvert_exporter": "python",
   "pygments_lexer": "ipython3",
   "version": "3.9.12"
  }
 },
 "nbformat": 4,
 "nbformat_minor": 5
}
