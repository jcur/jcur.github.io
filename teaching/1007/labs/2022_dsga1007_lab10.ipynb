{
 "cells": [
  {
   "cell_type": "markdown",
   "id": "650ddd51",
   "metadata": {},
   "source": [
    "### CDS NYU\n",
    "### DS-GA 1007 | Programming for Data Science\n",
    "### Lab 10\n",
    "### Date: 16th November, 2022\n",
    "\n",
    "\n",
    "# Pandas: Advanced Data Objects (Part 3)\n",
    "\n",
    "### ▶ Statistical Analysis with Aggregation and Group Operations \n",
    "\n",
    "### ▶  Concatenating, Merging and Joining Data Frames "
   ]
  },
  {
   "cell_type": "markdown",
   "id": "dcb07f08",
   "metadata": {},
   "source": [
    "## Section Leaders\n",
    "\n",
    "\n",
    "Cora Mao  --  ym1596@nyu.edu  -- \n",
    "\n",
    "Devarsh Patel --  dp3324@nyu.edu  --\n"
   ]
  },
  {
   "cell_type": "markdown",
   "id": "156b7496",
   "metadata": {},
   "source": [
    "## Resources\n",
    "\n",
    "* Concise textbook introduction to Pandas: ”Python Data Science Handbook” pp. 33-96, by Jake VanderPlas\n",
    "    * Also accessible online at https://jakevdp.github.io/PythonDataScienceHandbook\n",
    "\n",
    "* Pandas's freely acccessible, online, high-quality and concise documentation: https://pandas.pydata.org\n",
    "\n",
    "* Practical Data Analysis Reference: https://github.com/stefmolin/Hands-On-Data-Analysis-with-Pandas/tree/master/ch_04\n"
   ]
  },
  {
   "cell_type": "markdown",
   "metadata": {
    "collapsed": false
   },
   "source": [
    "## 1. Statistical Analysis with Aggregation and Group Operations"
   ]
  },
  {
   "cell_type": "code",
   "execution_count": null,
   "id": "400cc1f5",
   "metadata": {},
   "outputs": [],
   "source": [
    "import pandas as pd\n",
    "import numpy as np"
   ]
  },
  {
   "cell_type": "code",
   "execution_count": null,
   "metadata": {
    "collapsed": false
   },
   "outputs": [],
   "source": [
    "#Aggregation functions on DataFrames and Series\n",
    "df = pd.read_json(\"./IMDB-Movie-Data.json\")\n",
    "\n",
    "# sort based on year\n",
    "df = df.sort_values(by=['Year']).reset_index(drop=True)\n",
    "\n",
    "# display top 7 rows\n",
    "df.head(7)"
   ]
  },
  {
   "cell_type": "code",
   "execution_count": null,
   "id": "06540323",
   "metadata": {},
   "outputs": [],
   "source": [
    "# selecting only numeric columns\n",
    "df_num = df[['Runtime (Minutes)', 'Rating', 'Votes', 'Revenue (Millions)', 'Metascore']]\n",
    "\n",
    "# replace NaN with median of that respective column\n",
    "df_num = df_num.fillna(df_num.median(numeric_only=True))\n",
    "# df_num = df_num.fillna(df_num.median())\n",
    "\n",
    "# display top 7 rows\n",
    "df_num.head(7)"
   ]
  },
  {
   "cell_type": "code",
   "execution_count": null,
   "id": "612182bc",
   "metadata": {},
   "outputs": [],
   "source": [
    "# displaying overall description of the DataFrame\n",
    "df_num.describe()"
   ]
  },
  {
   "cell_type": "markdown",
   "id": "6b3633c5",
   "metadata": {},
   "source": [
    "### Aggregation Functions"
   ]
  },
  {
   "cell_type": "markdown",
   "id": "8661f4f0",
   "metadata": {},
   "source": [
    "#### Aggregation funtions on Series"
   ]
  },
  {
   "cell_type": "code",
   "execution_count": null,
   "id": "b7f3c03b",
   "metadata": {},
   "outputs": [],
   "source": [
    "# using 'Revenue (Millions)' columns as Series\n",
    "s_revenue = df['Revenue (Millions)']\n",
    "type(s_revenue)"
   ]
  },
  {
   "cell_type": "code",
   "execution_count": null,
   "id": "233e32af",
   "metadata": {},
   "outputs": [],
   "source": [
    "# max\n",
    "print('Maximum revenue: ', s_revenue.max(numeric_only=True).round(3))\n",
    "# print('Maximum revenue: ', round(s_revenue.max(), 3))"
   ]
  },
  {
   "cell_type": "code",
   "execution_count": null,
   "id": "af31e65d",
   "metadata": {},
   "outputs": [],
   "source": [
    "# min\n",
    "print('Minimum revenue: ', s_revenue.min(numeric_only=True).round(3))\n",
    "# print('Minimum revenue: ', round(s_revenue.min(),3))"
   ]
  },
  {
   "cell_type": "code",
   "execution_count": null,
   "id": "9ea643b1",
   "metadata": {},
   "outputs": [],
   "source": [
    "# mean\n",
    "print('Mean revenue: ', s_revenue.mean(numeric_only=True).round(3))\n",
    "# print('Mean revenue: ', round(s_revenue.mean(), 3))"
   ]
  },
  {
   "cell_type": "code",
   "execution_count": null,
   "id": "04e39690",
   "metadata": {},
   "outputs": [],
   "source": [
    "# median\n",
    "print('Median in revenue: ', s_revenue.median(numeric_only=True).round(3))\n",
    "# print('Median in revenue: ', round(s_revenue.median(), 3))"
   ]
  },
  {
   "cell_type": "code",
   "execution_count": null,
   "id": "1d9a9acb",
   "metadata": {},
   "outputs": [],
   "source": [
    "# std\n",
    "print('Standard deviation in revenue: ', s_revenue.std(numeric_only=True).round(3))\n",
    "# print('Standard deviation in revenue: ', round(s_revenue.std(), 3))"
   ]
  },
  {
   "cell_type": "code",
   "execution_count": null,
   "id": "791a44d8",
   "metadata": {},
   "outputs": [],
   "source": [
    "# plotting revenue graph\n",
    "import matplotlib.pyplot as plt\n",
    "\n",
    "plt.plot(s_revenue.values, 'm')\n",
    "plt.xlabel('Movie Index')\n",
    "plt.ylabel('Revenue (Millions)')\n",
    "plt.title('Movie - Revenue')\n",
    "plt.show()"
   ]
  },
  {
   "cell_type": "markdown",
   "id": "6056d338",
   "metadata": {},
   "source": [
    "#### Aggregation functions on DataFrame"
   ]
  },
  {
   "cell_type": "code",
   "execution_count": null,
   "id": "3ee7f295",
   "metadata": {},
   "outputs": [],
   "source": [
    "# aggregation\n",
    "df_num.aggregate(np.mean, axis=0)"
   ]
  },
  {
   "cell_type": "code",
   "execution_count": null,
   "id": "3d57a28e",
   "metadata": {},
   "outputs": [],
   "source": [
    "# sum\n",
    "sum_revenue = df['Revenue (Millions)'].sum()\n",
    "print('Total Revenue (Millions): ', sum_revenue.round(2))\n",
    "# print('Total Revenue (Millions): ', round(sum_revenue, 2))"
   ]
  },
  {
   "cell_type": "code",
   "execution_count": null,
   "id": "4b8424a9",
   "metadata": {},
   "outputs": [],
   "source": [
    "# cummulative sum\n",
    "csum_revenue = df['Revenue (Millions)'].cumsum()\n",
    "print('Cummulative sum over \\'Revenue (Millions)\\' column: ', (csum_revenue.values)[:5])"
   ]
  },
  {
   "cell_type": "code",
   "execution_count": null,
   "id": "35de6516",
   "metadata": {},
   "outputs": [],
   "source": [
    "# max\n",
    "max_revenue = df['Revenue (Millions)'].max()\n",
    "print('Maximum Revenue: ', max_revenue)\n",
    "\n",
    "max_revenue_movie = df.loc[df['Revenue (Millions)'].idxmax()]\n",
    "print(f\"Movie \\'{max_revenue_movie['Title']}\\' generated maximum revenue of {max_revenue_movie['Revenue (Millions)']} Millions.\")"
   ]
  },
  {
   "cell_type": "code",
   "execution_count": null,
   "id": "a9224051",
   "metadata": {},
   "outputs": [],
   "source": [
    "# mean\n",
    "avg_runtime = df['Runtime (Minutes)'].mean()\n",
    "print('Average Runtime (Minutes): ', avg_runtime.round(2))\n",
    "# print('Average Runtime (Minutes): ', round(avg_runtime, 2))"
   ]
  },
  {
   "cell_type": "code",
   "execution_count": null,
   "id": "38e25618",
   "metadata": {},
   "outputs": [],
   "source": [
    "# median\n",
    "median_votes = df['Votes'].median()\n",
    "print('Median of Votes: ', median_votes)"
   ]
  },
  {
   "cell_type": "code",
   "execution_count": null,
   "id": "8810dcca",
   "metadata": {},
   "outputs": [],
   "source": [
    "# standard deviation\n",
    "sd_meta = df['Metascore'].std()\n",
    "print('Standard Deviation in Metascore: ', sd_meta.round(4))\n",
    "# print('Standard Deviation in Metascore: ', round(sd_meta, 4))"
   ]
  },
  {
   "cell_type": "markdown",
   "id": "ac732812",
   "metadata": {},
   "source": [
    "### Grouping the data"
   ]
  },
  {
   "cell_type": "code",
   "execution_count": null,
   "id": "28ecba6d",
   "metadata": {},
   "outputs": [],
   "source": [
    "# student performance data\n",
    "df = pd.read_csv('./StudentsPerformance.csv')\n",
    "\n",
    "# replace NaN with median\n",
    "df = df.fillna(df.median(numeric_only=True))\n",
    "# df = df.fillna(df.median())\n",
    "\n",
    "# display top 7 rows\n",
    "df.head(7)"
   ]
  },
  {
   "cell_type": "markdown",
   "id": "ef0f4284",
   "metadata": {},
   "source": [
    "#### Group by single column"
   ]
  },
  {
   "cell_type": "code",
   "execution_count": null,
   "metadata": {
    "collapsed": false
   },
   "outputs": [],
   "source": [
    "# group by only gender\n",
    "df_gender_group = df.groupby('gender')\n",
    "df_gender_group"
   ]
  },
  {
   "cell_type": "code",
   "execution_count": null,
   "metadata": {
    "collapsed": false
   },
   "outputs": [],
   "source": [
    "# sum\n",
    "df_gender_group.sum(numeric_only=True).round(2)\n",
    "# round(df_gender_group.sum(), 2)"
   ]
  },
  {
   "cell_type": "code",
   "execution_count": null,
   "id": "7eee9c24",
   "metadata": {},
   "outputs": [],
   "source": [
    "# max\n",
    "df_gender_group.max(numeric_only=True).round(2)\n",
    "# round(df_gender_group.max(), 2)"
   ]
  },
  {
   "cell_type": "code",
   "execution_count": null,
   "id": "a2cc6f92",
   "metadata": {},
   "outputs": [],
   "source": [
    "# mean\n",
    "df_gender_group.mean(numeric_only=True).round(2)\n",
    "# round(df_gender_group.mean(), 2)"
   ]
  },
  {
   "cell_type": "code",
   "execution_count": null,
   "id": "ab1e9aab",
   "metadata": {},
   "outputs": [],
   "source": [
    "# median\n",
    "df_gender_group.median(numeric_only=True).round(2)\n",
    "# round(df_gender_group.median(), 2)"
   ]
  },
  {
   "cell_type": "code",
   "execution_count": null,
   "id": "9f0dde80",
   "metadata": {},
   "outputs": [],
   "source": [
    "# std\n",
    "df_gender_group.std(numeric_only=True)\n",
    "# df_gender_group.std()"
   ]
  },
  {
   "cell_type": "markdown",
   "id": "f87d4f36",
   "metadata": {},
   "source": [
    "#### Group by multiple column"
   ]
  },
  {
   "cell_type": "code",
   "execution_count": null,
   "id": "cbe63415",
   "metadata": {},
   "outputs": [],
   "source": [
    "df_group = df.groupby(by= ['gender', 'group', 'test preparation course'], group_keys=False)\n",
    "df_group"
   ]
  },
  {
   "cell_type": "code",
   "execution_count": null,
   "id": "cb457bc5",
   "metadata": {},
   "outputs": [],
   "source": [
    "# sum\n",
    "df_group.sum(numeric_only=True)\n",
    "# df_group.sum()"
   ]
  },
  {
   "cell_type": "code",
   "execution_count": null,
   "id": "ec8cf60f",
   "metadata": {},
   "outputs": [],
   "source": [
    "# max\n",
    "df_group.max(numeric_only=True)\n",
    "# df_group.max()"
   ]
  },
  {
   "cell_type": "code",
   "execution_count": null,
   "id": "da7b38ec",
   "metadata": {},
   "outputs": [],
   "source": [
    "# mean\n",
    "df_group.mean(numeric_only=True)\n",
    "# df_group.mean()"
   ]
  },
  {
   "cell_type": "code",
   "execution_count": null,
   "id": "eada31fe",
   "metadata": {},
   "outputs": [],
   "source": [
    "# median\n",
    "df_group.median(numeric_only=True)\n",
    "# df_group.median()"
   ]
  },
  {
   "cell_type": "code",
   "execution_count": null,
   "id": "47c056fd",
   "metadata": {},
   "outputs": [],
   "source": [
    "# std\n",
    "df_group.std(numeric_only=True)\n",
    "# df_group.std()"
   ]
  },
  {
   "cell_type": "markdown",
   "id": "69e6e05d",
   "metadata": {},
   "source": [
    "### DataFrame: filter(), transform() & apply()"
   ]
  },
  {
   "cell_type": "code",
   "execution_count": null,
   "id": "57e54e36",
   "metadata": {},
   "outputs": [],
   "source": [
    "# filter\n",
    "df_group.filter(lambda x: x['math score'].std() > 12.0)"
   ]
  },
  {
   "cell_type": "code",
   "execution_count": null,
   "id": "bbe4ab5b",
   "metadata": {},
   "outputs": [],
   "source": [
    "# transform\n",
    "df_group.transform(lambda x: x - x.mean())"
   ]
  },
  {
   "cell_type": "code",
   "execution_count": null,
   "id": "4d1fd738",
   "metadata": {},
   "outputs": [],
   "source": [
    "# apply\n",
    "def apply_fn(temp_df):\n",
    "    temp_df['reading score'] -= 10\n",
    "    return temp_df\n",
    "\n",
    "df_group.apply(apply_fn)"
   ]
  },
  {
   "cell_type": "markdown",
   "id": "f0e274b2",
   "metadata": {},
   "source": [
    "## 2. Concatenating, Merging and Joining Data Frames in Pandas"
   ]
  },
  {
   "cell_type": "code",
   "execution_count": null,
   "id": "36358dc2",
   "metadata": {
    "id": "fXcGVXXfBY9j"
   },
   "outputs": [],
   "source": [
    "import numpy as np\n",
    "import pandas as pd\n",
    "import matplotlib.pyplot as plt\n",
    "%matplotlib inline"
   ]
  },
  {
   "cell_type": "markdown",
   "id": "e663d293",
   "metadata": {},
   "source": [
    "## Combining and Reshaping\n",
    "- _Merge_ operations combine data sets by linking rows using one or more keys\n",
    "- _Concatenate_ operations combine data sets along a particular axis\n",
    "- _Reshaping_ is used to change the columns/rows to enable different types of analysis"
   ]
  },
  {
   "cell_type": "markdown",
   "id": "35398ea8",
   "metadata": {},
   "source": [
    "#### Merge\n",
    "- Many-to-one merge (default intersection)\n",
    "- Merge using multiple keys\n",
    "- Merge using DataFrame index as key\n",
    "- Merge hierarchically-indexed data on index\n",
    "- Merge using indexes from both DataFrames\n",
    "- Also has join method for merging by index"
   ]
  },
  {
   "cell_type": "code",
   "execution_count": null,
   "id": "329863fa",
   "metadata": {},
   "outputs": [],
   "source": [
    "import numpy as np\n",
    "import pandas as pd\n",
    "\n",
    "df1 = pd.DataFrame({'key': ['b','b','a','c','a','a','b'], \n",
    "                   'data1': range(7)})\n",
    "\n",
    "df2 = pd.DataFrame({'key': ['a','b','d','b'], \n",
    "                   'data2': range(4)})\n",
    "\n",
    "print(df1)\n",
    "print(df2)"
   ]
  },
  {
   "cell_type": "code",
   "execution_count": null,
   "id": "d8556747",
   "metadata": {},
   "outputs": [],
   "source": [
    "# merge based on a column (intersection-like, the default behavior)\n",
    "print(pd.merge(df1,df2,on='key'))"
   ]
  },
  {
   "cell_type": "code",
   "execution_count": null,
   "id": "1dd161ca",
   "metadata": {},
   "outputs": [],
   "source": [
    "# other behaviors can be enforced with the parameter 'how' \n",
    "# how = 'outer' --> union-like behavior)\n",
    "# how = 'inner' --> intersection-like behavior)\n",
    "\n",
    "print(pd.merge(df1,df2,on='key',how='outer'))"
   ]
  },
  {
   "cell_type": "code",
   "execution_count": null,
   "id": "e95ed161",
   "metadata": {},
   "outputs": [],
   "source": [
    "# merge using column and index\n",
    "df1 = pd.DataFrame({'key': ['a','b','a','a','b','c'], 'value': range(6)})\n",
    "\n",
    "df2 = pd.DataFrame({'group_val': [3.5, 7]}, index=['a', 'b'])\n",
    "\n",
    "print(df1)\n",
    "print(df2)\n",
    "\n",
    "print(5*'-')\n",
    "print(pd.merge(df1, df2, left_on='key', right_index=True))"
   ]
  },
  {
   "cell_type": "code",
   "execution_count": null,
   "id": "adb1fbff",
   "metadata": {},
   "outputs": [],
   "source": [
    "# merge using indices from both dataframes\n",
    "\n",
    "df1 = pd.DataFrame([[1,2],[3,4],[5,6]], \n",
    "        index=['a','c','e'], columns=['Ohio','Nevada'])\n",
    "\n",
    "df2 = pd.DataFrame([[7,8],[9,10],[11,12],[13,14]], \n",
    "        index=['b','c','d','e'],\n",
    "        columns=['Missouri','Alabama'])\n",
    "\n",
    "print(df1)\n",
    "print(df2)\n",
    "\n",
    "print(5*'-')\n",
    "print(pd.merge(df1, df2, left_index=True, \n",
    "        right_index=True, how='outer'))"
   ]
  },
  {
   "cell_type": "markdown",
   "id": "03b21213",
   "metadata": {},
   "source": [
    "#### Concatenating\n",
    "- Combine data sets along a particular axis\n",
    "   - By default, concatenate rows (axis = 0)\n",
    "- Concatenating Series by columns (axis = 1) results in a DataFrame\n",
    "- Can combine DataFrames to create a hierarchical index"
   ]
  },
  {
   "cell_type": "code",
   "execution_count": null,
   "id": "5c7cc039",
   "metadata": {},
   "outputs": [],
   "source": [
    "import numpy as np\n",
    "import pandas as pd\n",
    "\n",
    "s1 = pd.Series([0, 1], index=['a', 'b'])\n",
    "s2 = pd.Series([2, 3, 4], index=['c', 'd', 'e'])\n",
    "s3 = pd.Series([5, 6], index=['f', 'g']) \n",
    "\n",
    "print(pd.concat([s1,s2,s3]))"
   ]
  },
  {
   "cell_type": "code",
   "execution_count": null,
   "id": "610d9d22",
   "metadata": {},
   "outputs": [],
   "source": [
    "# by columns give rise to a dataframe\n",
    "print(pd.concat([s1,s2,s3],axis=1))"
   ]
  },
  {
   "cell_type": "code",
   "execution_count": null,
   "id": "6c6d4222",
   "metadata": {},
   "outputs": [],
   "source": [
    "# can combine dataframes with hierarchical index\n",
    "df1 = pd.DataFrame(np.arange(6).reshape(3,2), \n",
    "          index=['a','b','c'], columns=['one','two'])\n",
    "\n",
    "df2 = pd.DataFrame(5+np.arange(4).reshape(2,2), \n",
    "          index=['a','c'], columns=['three','four'])\n",
    "\n",
    "print(df1)\n",
    "print(df2)\n",
    "\n",
    "print(5*'-')\n",
    "print(pd.concat([df1, df2], axis=1, keys=['level1','level2']))"
   ]
  },
  {
   "cell_type": "markdown",
   "id": "ea0fe4b2",
   "metadata": {},
   "source": [
    "#### Reshaping\n",
    "Hierarchical indexing provides a consistent way to rearrange data\n",
    "- stack - “rotates” from the columns to the rows\n",
    "- unstack - pivots from the rows into the columns\n",
    "- pivot - specific version that uses unique values from index / columns to form axes of the resulting DataFrame"
   ]
  },
  {
   "cell_type": "code",
   "execution_count": null,
   "id": "94131b31",
   "metadata": {},
   "outputs": [],
   "source": [
    "# Stacking and unstacking\n",
    "df1 = pd.DataFrame({'Airports':[2,2],'5Star':[8,14],'Metro lines':[3,5]},index=['Rio','Sao Paulo'])\n",
    "print(df1)\n",
    "\n",
    "print(5*'-')\n",
    "df2 = df1.stack()\n",
    "print(df2)\n",
    "\n",
    "print(5*'-')\n",
    "df3 = df2.unstack()\n",
    "print(df3)"
   ]
  },
  {
   "cell_type": "markdown",
   "id": "03b71367",
   "metadata": {},
   "source": [
    "## Statistics\n",
    "- [Many methods](https://chrisalbon.com/python/data_wrangling/pandas_dataframe_descriptive_stats/) for performing statistical analysis\n",
    "- Most are aggregations (produce lower dimensional result)\n",
    "- When applied to a DataFrame, generally take an axis argument\n",
    "   - Default is normally “index” (axis = 0)"
   ]
  },
  {
   "cell_type": "code",
   "execution_count": null,
   "id": "22bbe9d6",
   "metadata": {},
   "outputs": [],
   "source": [
    "import numpy as np\n",
    "import pandas as pd\n",
    "\n",
    "D = np.random.uniform(low=0.0,high=10,size=(50,3))\n",
    "df = pd.DataFrame(data=D,columns=['c0','c1','c2'])\n",
    "print(df.head())"
   ]
  },
  {
   "cell_type": "code",
   "execution_count": null,
   "id": "0220efea",
   "metadata": {},
   "outputs": [],
   "source": [
    "# sum by axis\n",
    "print(df.sum(axis=0))\n",
    "print(df.sum(axis=1).head())\n",
    "\n",
    "print(5*'-')\n",
    "# mean by axis\n",
    "print(df.mean(axis=0))\n",
    "print(df.mean(axis=1).head())"
   ]
  },
  {
   "cell_type": "code",
   "execution_count": null,
   "id": "8900f27e",
   "metadata": {},
   "outputs": [],
   "source": [
    "# statistical summary\n",
    "print(df.describe())"
   ]
  },
  {
   "cell_type": "code",
   "execution_count": null,
   "id": "26cb6b3a",
   "metadata": {},
   "outputs": [],
   "source": [
    "# cumulative sum\n",
    "print(df.cumsum().head())"
   ]
  },
  {
   "cell_type": "markdown",
   "id": "ba0a3ab6",
   "metadata": {},
   "source": [
    "## Plotting\n",
    "- pandas has a number of built-in plotting features\n",
    "- Uses matplotlib to perform the plottings"
   ]
  },
  {
   "cell_type": "markdown",
   "id": "50668aff",
   "metadata": {},
   "source": [
    "#### plot \n",
    "- each column as a different line"
   ]
  },
  {
   "cell_type": "code",
   "execution_count": null,
   "id": "864e51b2",
   "metadata": {},
   "outputs": [],
   "source": [
    "import numpy as np\n",
    "import pandas as pd\n",
    "import matplotlib.pyplot as plt\n",
    "%matplotlib inline\n",
    "\n",
    "D = np.random.uniform(low=0.0,high=10,size=(20,3))\n",
    "df = pd.DataFrame(data=D,columns=['c0','c1','c2'])\n",
    "\n",
    "df.plot()"
   ]
  },
  {
   "cell_type": "markdown",
   "id": "47f138b8",
   "metadata": {},
   "source": [
    "#### bar plot\n",
    "- each column value in a bar"
   ]
  },
  {
   "cell_type": "code",
   "execution_count": null,
   "id": "bd059467",
   "metadata": {},
   "outputs": [],
   "source": [
    "df[:5].plot(kind='bar')"
   ]
  },
  {
   "cell_type": "code",
   "execution_count": null,
   "id": "520dcd7e",
   "metadata": {},
   "outputs": [],
   "source": [
    "# can stake coluns in a single bar\n",
    "df[:5].plot(kind='bar',stacked=True)"
   ]
  },
  {
   "cell_type": "markdown",
   "id": "4b688047",
   "metadata": {},
   "source": [
    "#### histogram\n",
    "- each column goes to a different plot"
   ]
  },
  {
   "cell_type": "code",
   "execution_count": null,
   "id": "5c8b32ee",
   "metadata": {},
   "outputs": [],
   "source": [
    "df[:5].hist(bins=10)"
   ]
  },
  {
   "cell_type": "markdown",
   "id": "0749fded",
   "metadata": {},
   "source": [
    "#### scatter plot and scatter plot matrix\n",
    "- pairwise plot between columns"
   ]
  },
  {
   "cell_type": "code",
   "execution_count": null,
   "id": "366cb679",
   "metadata": {},
   "outputs": [],
   "source": [
    "pd.plotting.scatter_matrix(df,diagonal='kde')"
   ]
  },
  {
   "cell_type": "markdown",
   "id": "f5cc83a4",
   "metadata": {},
   "source": [
    "## Applying Functions\n",
    "- Being able to applying a function to each column or row is very convenient"
   ]
  },
  {
   "cell_type": "code",
   "execution_count": null,
   "id": "7f09e67b",
   "metadata": {},
   "outputs": [],
   "source": [
    "import numpy as np\n",
    "import pandas as pd\n",
    "\n",
    "D = np.random.uniform(low=0.0,high=10,size=(20,3))\n",
    "df = pd.DataFrame(data=D,columns=['c0','c1','c2'])"
   ]
  },
  {
   "cell_type": "code",
   "execution_count": null,
   "id": "89df650a",
   "metadata": {},
   "outputs": [],
   "source": [
    "# z-scoring the columns\n",
    "f = lambda x: (x - x.mean())/x.std()\n",
    "dfz = df.apply(f,axis=0)\n",
    "\n",
    "print(df.head())\n",
    "print(dfz.head())\n",
    "print(dfz.mean())"
   ]
  },
  {
   "cell_type": "code",
   "execution_count": null,
   "id": "6603abb5",
   "metadata": {},
   "outputs": [],
   "source": [
    "# creating a new data frame by applying a function to another one\n",
    "def g(x):\n",
    "    return(pd.Series([x.min(),x.max()],index=['min','max']))\n",
    "\n",
    "print(df.apply(g,axis=0).head())"
   ]
  },
  {
   "cell_type": "code",
   "execution_count": null,
   "id": "17abf257",
   "metadata": {},
   "outputs": [],
   "source": []
  }
 ],
 "metadata": {
  "kernelspec": {
   "display_name": "Python 3.11.0 ('dsga1007')",
   "language": "python",
   "name": "python3"
  },
  "language_info": {
   "codemirror_mode": {
    "name": "ipython",
    "version": 3
   },
   "file_extension": ".py",
   "mimetype": "text/x-python",
   "name": "python",
   "nbconvert_exporter": "python",
   "pygments_lexer": "ipython3",
   "version": "3.11.0"
  },
  "vscode": {
   "interpreter": {
    "hash": "aab6efe3679a89d86a921ca36a205c3b5ca3c63bf1dc25972e27d11c3a999942"
   }
  }
 },
 "nbformat": 4,
 "nbformat_minor": 5
}
