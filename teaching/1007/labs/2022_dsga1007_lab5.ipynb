{
 "cells": [
  {
   "cell_type": "markdown",
   "metadata": {},
   "source": [
    "### CDS NYU\n",
    "### DS-GA 1007 | Programming for Data Science\n",
    "### Lab 05\n",
    "### October 5, 2022\n",
    "\n",
    "\n",
    "# Interacting with Programs"
   ]
  },
  {
   "cell_type": "markdown",
   "metadata": {},
   "source": [
    "## Section Leaders\n",
    "\n",
    "\n",
    "Cora Mao  --  ym1596@nyu.edu  -- \n",
    "\n",
    "Devarsh Patel --  dp3324@nyu.edu  --\n"
   ]
  },
  {
   "cell_type": "markdown",
   "metadata": {},
   "source": [
    "## To access the Shell\n",
    "▶ Windows: Open cmd (Command Prompt)\n",
    "\n",
    "▶ Mac: Open Terminal\n",
    "\n",
    "▶ Linux: Open Linux Console\n",
    "\n",
    "▶ Python Interpreter: Precede command by ”!” (or \"%\", or nothing for most common Linux commands)\n",
    "\n",
    "▶ (Web-) Applications: It varies (on Jupyter: Terminal)\n",
    "\n",
    "\n",
    "## Resources\n",
    "\n",
    "* The Linux Operating System: https://swcarpentry.github.io/shell-novice/01-intro/index.html\n",
    "* Bash Script (code) Examples: https://github.com/rambasnet/Bash-Script-Fundamentals/tree/main/demo-scripts "
   ]
  },
  {
   "cell_type": "markdown",
   "metadata": {},
   "source": [
    "## 1. Linux Shell commands"
   ]
  },
  {
   "cell_type": "markdown",
   "metadata": {},
   "source": [
    "### Executing command from IPython/jupyter Notebook"
   ]
  },
  {
   "cell_type": "markdown",
   "metadata": {},
   "source": [
    "When working interactively with the standard Python interpreter, one of the frustrations is the need to switch between multiple windows to access Python tools and system command-line tools. IPython bridges this gap, and gives you a syntax for executing shell commands directly from within the IPython terminal (for example directly from a Jupyter Notebook). The magic happens with the exclamation point: anything appearing after ```!``` on a line will be executed not by the Python kernel, but by the OS command-line (Shell)."
   ]
  },
  {
   "cell_type": "markdown",
   "metadata": {},
   "source": [
    "Any command that works at the command-line can be used in IPython by prefixing it with the ```!``` character. For example, the ```ls```, ```pwd```, and ```echo``` commands can be run as follows:"
   ]
  },
  {
   "cell_type": "code",
   "execution_count": 13,
   "metadata": {},
   "outputs": [
    {
     "name": "stdout",
     "output_type": "stream",
     "text": [
      "2022_dsga1007_lab5.ipynb bash_function.sh         stock1year.csv\r\n",
      "ascorbic-acid.pdb        bash_if_else.sh\r\n",
      "bash_for.sh              lab5_os.py\r\n"
     ]
    }
   ],
   "source": [
    "!ls"
   ]
  },
  {
   "cell_type": "code",
   "execution_count": 14,
   "metadata": {},
   "outputs": [
    {
     "name": "stdout",
     "output_type": "stream",
     "text": [
      "/Users/reactivecoder/Desktop/ProgrammingForDataScience/dsga1007_lab5\r\n"
     ]
    }
   ],
   "source": [
    "!pwd"
   ]
  },
  {
   "cell_type": "code",
   "execution_count": 15,
   "metadata": {},
   "outputs": [
    {
     "name": "stdout",
     "output_type": "stream",
     "text": [
      "Printing from the shell\r\n"
     ]
    }
   ],
   "source": [
    "!echo \"Printing from the shell\""
   ]
  },
  {
   "cell_type": "markdown",
   "metadata": {},
   "source": [
    "### Shell-Related Magic Commands"
   ]
  },
  {
   "cell_type": "markdown",
   "metadata": {},
   "source": [
    "If you play with IPython's shell commands for a while, you might notice that you cannot use !cd to navigate the filesystem:"
   ]
  },
  {
   "cell_type": "code",
   "execution_count": 16,
   "metadata": {},
   "outputs": [
    {
     "name": "stdout",
     "output_type": "stream",
     "text": [
      "/Users/reactivecoder/Desktop/ProgrammingForDataScience/dsga1007_lab5\r\n"
     ]
    }
   ],
   "source": [
    "!pwd"
   ]
  },
  {
   "cell_type": "code",
   "execution_count": 17,
   "metadata": {},
   "outputs": [],
   "source": [
    "!cd .."
   ]
  },
  {
   "cell_type": "code",
   "execution_count": 18,
   "metadata": {},
   "outputs": [
    {
     "name": "stdout",
     "output_type": "stream",
     "text": [
      "/Users/reactivecoder/Desktop/ProgrammingForDataScience/dsga1007_lab5\r\n"
     ]
    }
   ],
   "source": [
    "!pwd"
   ]
  },
  {
   "cell_type": "markdown",
   "metadata": {},
   "source": [
    "The reason is that shell commands in the notebook are executed in a temporary subshell. If you'd like to change the working directory in a more enduring way, you can use the ```%cd``` magic command:\n"
   ]
  },
  {
   "cell_type": "code",
   "execution_count": 19,
   "metadata": {},
   "outputs": [
    {
     "name": "stdout",
     "output_type": "stream",
     "text": [
      "/Users/reactivecoder/Desktop/ProgrammingForDataScience\n"
     ]
    }
   ],
   "source": [
    "%cd .."
   ]
  },
  {
   "cell_type": "markdown",
   "metadata": {},
   "source": [
    "In fact, by default you can even use this without the % sign:"
   ]
  },
  {
   "cell_type": "code",
   "execution_count": 20,
   "metadata": {},
   "outputs": [
    {
     "name": "stdout",
     "output_type": "stream",
     "text": [
      "/Users/reactivecoder/Desktop/ProgrammingForDataScience/dsga1007_lab5\n"
     ]
    }
   ],
   "source": [
    "cd ./dsga1007_lab5"
   ]
  },
  {
   "cell_type": "markdown",
   "metadata": {},
   "source": [
    "This is known as an automagic function, and this behavior can be toggled with the %automagic magic function."
   ]
  },
  {
   "cell_type": "markdown",
   "metadata": {},
   "source": [
    "Besides %cd, other available Shell-like magic functions are ```%cat```, ```%cp```, ```%env```, ```%ls```, ```%man```, ```%mkdir```, ```%more```, ```%mv```, ```%pwd```, ```%rm```, and ```%rmdir```, any of which can be used without the % sign if automagic is on. This permits to treat the IPython terminla as if it's a Shell terminal for frequently used Linux commands. \n",
    "Accessing the Shell from within the same terminal window as your Python session means there is less switching back and forth between interpreter and Shell as you write Python programs."
   ]
  },
  {
   "cell_type": "code",
   "execution_count": 21,
   "metadata": {},
   "outputs": [],
   "source": [
    "mkdir tmp"
   ]
  },
  {
   "cell_type": "code",
   "execution_count": 22,
   "metadata": {},
   "outputs": [
    {
     "name": "stdout",
     "output_type": "stream",
     "text": [
      "2022_dsga1007_lab5.ipynb  bash_function.sh          stock1year.csv\r\n",
      "ascorbic-acid.pdb         bash_if_else.sh           \u001b[1m\u001b[36mtmp\u001b[m\u001b[m/\r\n",
      "bash_for.sh               lab5_os.py\r\n"
     ]
    }
   ],
   "source": [
    "ls"
   ]
  },
  {
   "cell_type": "code",
   "execution_count": 23,
   "metadata": {},
   "outputs": [],
   "source": [
    "cp ./lab5_os.py tmp/."
   ]
  },
  {
   "cell_type": "code",
   "execution_count": 24,
   "metadata": {},
   "outputs": [
    {
     "name": "stdout",
     "output_type": "stream",
     "text": [
      "lab5_os.py\r\n"
     ]
    }
   ],
   "source": [
    "ls tmp"
   ]
  },
  {
   "cell_type": "code",
   "execution_count": 25,
   "metadata": {},
   "outputs": [],
   "source": [
    "rm -r tmp"
   ]
  },
  {
   "cell_type": "markdown",
   "metadata": {},
   "source": [
    "Use command %env filename to store the path of the file in the variable filename for further exploration task."
   ]
  },
  {
   "cell_type": "code",
   "execution_count": 26,
   "metadata": {},
   "outputs": [
    {
     "name": "stdout",
     "output_type": "stream",
     "text": [
      "/Users/reactivecoder/Desktop/ProgrammingForDataScience/dsga1007_lab5\r\n"
     ]
    }
   ],
   "source": [
    "!pwd"
   ]
  },
  {
   "cell_type": "code",
   "execution_count": 27,
   "metadata": {},
   "outputs": [
    {
     "name": "stdout",
     "output_type": "stream",
     "text": [
      "env: filename=./stock1year.csv\n"
     ]
    }
   ],
   "source": [
    "%env filename = ./stock1year.csv"
   ]
  },
  {
   "cell_type": "code",
   "execution_count": 28,
   "metadata": {
    "scrolled": true
   },
   "outputs": [
    {
     "name": "stdout",
     "output_type": "stream",
     "text": [
      "Date,Open,High,Low,Close,Adj Close,Volume\r\n",
      "2021-09-01,AAPL,152.830002,157.259995,141.270004,141.500000,140.711533,1797835100\r\n",
      "2021-10-01,AAPL,141.899994,153.169998,138.270004,149.800003,148.965271,1565079200\r\n",
      "2021-11-01,AAPL,148.990005,165.699997,147.479996,165.300003,164.378906,1691029000\r\n",
      "2021-12-01,AAPL,167.479996,182.130005,157.800003,177.570007,176.838257,2444766700\r\n"
     ]
    }
   ],
   "source": [
    "!head -n 5 $filename # Display the top n lines in the file. The value of n defaults to 10 if not specified explicitly."
   ]
  },
  {
   "cell_type": "code",
   "execution_count": 29,
   "metadata": {},
   "outputs": [
    {
     "name": "stdout",
     "output_type": "stream",
     "text": [
      "2022-04-01,META,224.550003,236.860001,169.000000,200.470001,200.470001,672255000\r\n",
      "2022-05-01,META,201.169998,224.300003,176.110001,193.639999,193.639999,680548800\r\n",
      "2022-06-01,META,196.509995,202.029999,154.250000,161.250000,161.250000,685975600\r\n",
      "2022-07-01,META,160.309998,183.850006,154.850006,159.100006,159.100006,586482400\r\n",
      "2022-08-01,META,157.250000,183.100006,155.229996,163.050003,163.050003,392597900\r\n"
     ]
    }
   ],
   "source": [
    "!tail -n 5 $filename # Display last n lines in the file"
   ]
  },
  {
   "cell_type": "code",
   "execution_count": 30,
   "metadata": {},
   "outputs": [
    {
     "name": "stdout",
     "output_type": "stream",
     "text": [
      "2021-09-01,AAPL,152.830002,157.259995,141.270004,141.500000,140.711533,1797835100\r\n",
      "2021-10-01,AAPL,141.899994,153.169998,138.270004,149.800003,148.965271,1565079200\r\n",
      "2021-11-01,AAPL,148.990005,165.699997,147.479996,165.300003,164.378906,1691029000\r\n",
      "2021-12-01,AAPL,167.479996,182.130005,157.800003,177.570007,176.838257,2444766700\r\n",
      "2022-01-01,AAPL,177.830002,182.940002,154.699997,174.779999,174.059723,2108446000\r\n",
      "2022-02-01,AAPL,174.009995,176.649994,152.000000,165.119995,164.439545,1627516300\r\n",
      "2022-03-01,AAPL,164.699997,179.610001,150.100006,174.610001,174.111984,2180800100\r\n",
      "2022-04-01,AAPL,174.029999,178.490005,155.380005,157.649994,157.200348,1687795600\r\n",
      "2022-05-01,AAPL,156.710007,166.479996,132.610001,148.839996,148.415482,2401040300\r\n",
      "2022-06-01,AAPL,149.899994,151.740005,129.039993,136.720001,136.530350,1749099800\r\n",
      "2022-07-01,AAPL,136.039993,163.630005,135.660004,162.509995,162.284576,1447027700\r\n",
      "2022-08-01,AAPL,161.009995,176.149994,159.630005,167.570007,167.337570,1032508100\r\n",
      "2021-09-01,AMZN,174.820007,177.499496,163.699493,164.251999,164.251999,1250554000\r\n",
      "2021-10-01,AMZN,164.450500,173.949997,158.812500,168.621506,168.621506,1273466000\r\n",
      "2021-11-01,AMZN,168.089996,188.107498,164.177505,175.353500,175.353500,1515990000\r\n",
      "2021-12-01,AMZN,177.250000,177.994003,165.195007,166.716995,166.716995,1287634000\r\n",
      "2022-01-01,AMZN,167.550003,171.399994,135.352005,149.573502,149.573502,1524654000\r\n",
      "2022-02-01,AMZN,150.000000,163.834503,138.332993,153.563004,153.563004,1689604000\r\n",
      "2022-03-01,AMZN,152.732498,170.831497,133.572495,162.997498,162.997498,1628486000\r\n",
      "2022-04-01,AMZN,164.149506,168.394501,121.625000,124.281502,124.281502,1465008000\r\n",
      "2022-05-01,AMZN,122.401001,126.220497,101.260002,120.209503,120.209503,2258476000\r\n",
      "2022-06-01,AMZN,122.255997,128.990005,101.430000,106.209999,106.209999,1767601100\r\n",
      "2022-07-01,AMZN,106.290001,137.649994,105.849998,134.949997,134.949997,1337675300\r\n",
      "2022-08-01,AMZN,134.960007,146.570007,132.850006,133.220001,133.220001,853548700\r\n",
      "2021-09-01,GOOG,145.649994,146.820496,133.000000,133.265503,133.265503,505198000\r\n",
      "2021-10-01,GOOG,133.554504,149.117996,131.166504,148.270493,148.270493,496572000\r\n",
      "2021-11-01,GOOG,148.164993,151.850006,142.065994,142.451996,142.451996,443172000\r\n",
      "2021-12-01,GOOG,144.212494,149.604996,140.250000,144.679504,144.679504,479260000\r\n",
      "2022-01-01,GOOG,144.475494,146.610001,124.641953,135.698502,135.698502,615510000\r\n",
      "2022-02-01,GOOG,137.835007,152.100006,124.764503,134.891006,134.891006,732650000\r\n",
      "2022-03-01,GOOG,134.479996,144.162506,125.860748,139.649506,139.649506,637420000\r\n",
      "2022-04-01,GOOG,140.009995,144.043747,113.124252,114.966499,114.966499,564940000\r\n",
      "2022-05-01,GOOG,113.906502,123.142998,102.208000,114.039001,114.039001,717486000\r\n",
      "2022-06-01,GOOG,114.931503,119.398499,105.628548,109.372498,109.372498,627132000\r\n",
      "2022-07-01,GOOG,108.336998,120.434998,104.760002,116.639999,116.639999,638766600\r\n",
      "2022-08-01,GOOG,115.529999,123.260002,114.260002,115.070000,115.070000,287065300\r\n",
      "2021-09-01,MSFT,302.869995,305.320007,281.619995,281.920013,279.578522,502918700\r\n",
      "2021-10-01,MSFT,282.119995,332.000000,280.250000,331.619995,328.865753,516515800\r\n",
      "2021-11-01,MSFT,331.359985,349.670013,326.369995,330.589996,327.844269,509885200\r\n",
      "2021-12-01,MSFT,335.130005,344.299988,317.250000,336.320007,334.136902,625674800\r\n",
      "2022-01-01,MSFT,335.350006,338.000000,276.049988,310.980011,308.961395,947531400\r\n",
      "2022-02-01,MSFT,310.410004,315.119995,271.519989,298.790009,296.850494,697050600\r\n",
      "2022-03-01,MSFT,296.399994,315.950012,270.000000,308.309998,306.942047,734334200\r\n",
      "2022-04-01,MSFT,309.369995,315.109985,270.000000,277.519989,276.288666,627343400\r\n",
      "2022-05-01,MSFT,277.709991,290.880005,246.440002,271.869995,270.663727,742902000\r\n",
      "2022-06-01,MSFT,275.200012,277.690002,241.509995,256.829987,256.285980,621372300\r\n",
      "2022-07-01,MSFT,256.390015,282.000000,245.940002,280.739990,280.145355,534868400\r\n",
      "2022-08-01,MSFT,277.820007,294.179993,272.380005,277.750000,277.161682,329408800\r\n",
      "2021-09-01,META,379.589996,384.329987,338.149994,339.390015,339.390015,338121800\r\n",
      "2021-10-01,META,341.609985,345.019989,308.109985,323.570007,323.570007,588382500\r\n",
      "2021-11-01,META,326.040009,353.829987,323.200012,324.459991,324.459991,441125000\r\n",
      "2021-12-01,META,330.290009,352.709991,299.500000,336.350006,336.350006,438246900\r\n",
      "2022-01-01,META,338.299988,343.089996,289.010010,313.260010,313.260010,427237300\r\n",
      "2022-02-01,META,314.559998,328.000000,190.220001,211.029999,211.029999,1128039600\r\n",
      "2022-03-01,META,209.869995,231.149994,185.820007,222.360001,222.360001,733274500\r\n",
      "2022-04-01,META,224.550003,236.860001,169.000000,200.470001,200.470001,672255000\r\n",
      "2022-05-01,META,201.169998,224.300003,176.110001,193.639999,193.639999,680548800\r\n",
      "2022-06-01,META,196.509995,202.029999,154.250000,161.250000,161.250000,685975600\r\n",
      "2022-07-01,META,160.309998,183.850006,154.850006,159.100006,159.100006,586482400\r\n",
      "2022-08-01,META,157.250000,183.100006,155.229996,163.050003,163.050003,392597900\r\n"
     ]
    }
   ],
   "source": [
    "!tail -n +2 $filename # Display all lines starting at line 2 (skip header)"
   ]
  },
  {
   "cell_type": "markdown",
   "metadata": {},
   "source": [
    "### Manipulating files and processes"
   ]
  },
  {
   "cell_type": "markdown",
   "metadata": {},
   "source": [
    "#### wc (wordcount) counts and prints the number of lines, words and characters in files\n",
    "\n",
    "!wc $filename -> Prints total number of lines, words and characters.\n",
    "\n",
    "!wc -l $filename -> Prints only the total number of lines in the file."
   ]
  },
  {
   "cell_type": "code",
   "execution_count": 31,
   "metadata": {},
   "outputs": [
    {
     "name": "stdout",
     "output_type": "stream",
     "text": [
      "      61      62    4926 ./stock1year.csv\r\n"
     ]
    }
   ],
   "source": [
    "!wc $filename "
   ]
  },
  {
   "cell_type": "code",
   "execution_count": 32,
   "metadata": {},
   "outputs": [
    {
     "name": "stdout",
     "output_type": "stream",
     "text": [
      "      61 ./stock1year.csv\r\n"
     ]
    }
   ],
   "source": [
    "!wc -l $filename"
   ]
  },
  {
   "cell_type": "markdown",
   "metadata": {},
   "source": [
    "#### cat displays the content of the file"
   ]
  },
  {
   "cell_type": "markdown",
   "metadata": {},
   "source": [
    "!cat $filename -> Prints out the content of the file.\n",
    "\n",
    "\n",
    "!cat $filename | wc -l  -> Prints out the No. of lines in the file. \n"
   ]
  },
  {
   "cell_type": "code",
   "execution_count": 33,
   "metadata": {},
   "outputs": [
    {
     "name": "stdout",
     "output_type": "stream",
     "text": [
      "Date,Open,High,Low,Close,Adj Close,Volume\r\n",
      "2021-09-01,AAPL,152.830002,157.259995,141.270004,141.500000,140.711533,1797835100\r\n",
      "2021-10-01,AAPL,141.899994,153.169998,138.270004,149.800003,148.965271,1565079200\r\n",
      "2021-11-01,AAPL,148.990005,165.699997,147.479996,165.300003,164.378906,1691029000\r\n",
      "2021-12-01,AAPL,167.479996,182.130005,157.800003,177.570007,176.838257,2444766700\r\n",
      "2022-01-01,AAPL,177.830002,182.940002,154.699997,174.779999,174.059723,2108446000\r\n",
      "2022-02-01,AAPL,174.009995,176.649994,152.000000,165.119995,164.439545,1627516300\r\n",
      "2022-03-01,AAPL,164.699997,179.610001,150.100006,174.610001,174.111984,2180800100\r\n",
      "2022-04-01,AAPL,174.029999,178.490005,155.380005,157.649994,157.200348,1687795600\r\n",
      "2022-05-01,AAPL,156.710007,166.479996,132.610001,148.839996,148.415482,2401040300\r\n",
      "2022-06-01,AAPL,149.899994,151.740005,129.039993,136.720001,136.530350,1749099800\r\n",
      "2022-07-01,AAPL,136.039993,163.630005,135.660004,162.509995,162.284576,1447027700\r\n",
      "2022-08-01,AAPL,161.009995,176.149994,159.630005,167.570007,167.337570,1032508100\r\n",
      "2021-09-01,AMZN,174.820007,177.499496,163.699493,164.251999,164.251999,1250554000\r\n",
      "2021-10-01,AMZN,164.450500,173.949997,158.812500,168.621506,168.621506,1273466000\r\n",
      "2021-11-01,AMZN,168.089996,188.107498,164.177505,175.353500,175.353500,1515990000\r\n",
      "2021-12-01,AMZN,177.250000,177.994003,165.195007,166.716995,166.716995,1287634000\r\n",
      "2022-01-01,AMZN,167.550003,171.399994,135.352005,149.573502,149.573502,1524654000\r\n",
      "2022-02-01,AMZN,150.000000,163.834503,138.332993,153.563004,153.563004,1689604000\r\n",
      "2022-03-01,AMZN,152.732498,170.831497,133.572495,162.997498,162.997498,1628486000\r\n",
      "2022-04-01,AMZN,164.149506,168.394501,121.625000,124.281502,124.281502,1465008000\r\n",
      "2022-05-01,AMZN,122.401001,126.220497,101.260002,120.209503,120.209503,2258476000\r\n",
      "2022-06-01,AMZN,122.255997,128.990005,101.430000,106.209999,106.209999,1767601100\r\n",
      "2022-07-01,AMZN,106.290001,137.649994,105.849998,134.949997,134.949997,1337675300\r\n",
      "2022-08-01,AMZN,134.960007,146.570007,132.850006,133.220001,133.220001,853548700\r\n",
      "2021-09-01,GOOG,145.649994,146.820496,133.000000,133.265503,133.265503,505198000\r\n",
      "2021-10-01,GOOG,133.554504,149.117996,131.166504,148.270493,148.270493,496572000\r\n",
      "2021-11-01,GOOG,148.164993,151.850006,142.065994,142.451996,142.451996,443172000\r\n",
      "2021-12-01,GOOG,144.212494,149.604996,140.250000,144.679504,144.679504,479260000\r\n",
      "2022-01-01,GOOG,144.475494,146.610001,124.641953,135.698502,135.698502,615510000\r\n",
      "2022-02-01,GOOG,137.835007,152.100006,124.764503,134.891006,134.891006,732650000\r\n",
      "2022-03-01,GOOG,134.479996,144.162506,125.860748,139.649506,139.649506,637420000\r\n",
      "2022-04-01,GOOG,140.009995,144.043747,113.124252,114.966499,114.966499,564940000\r\n",
      "2022-05-01,GOOG,113.906502,123.142998,102.208000,114.039001,114.039001,717486000\r\n",
      "2022-06-01,GOOG,114.931503,119.398499,105.628548,109.372498,109.372498,627132000\r\n",
      "2022-07-01,GOOG,108.336998,120.434998,104.760002,116.639999,116.639999,638766600\r\n",
      "2022-08-01,GOOG,115.529999,123.260002,114.260002,115.070000,115.070000,287065300\r\n",
      "2021-09-01,MSFT,302.869995,305.320007,281.619995,281.920013,279.578522,502918700\r\n",
      "2021-10-01,MSFT,282.119995,332.000000,280.250000,331.619995,328.865753,516515800\r\n",
      "2021-11-01,MSFT,331.359985,349.670013,326.369995,330.589996,327.844269,509885200\r\n",
      "2021-12-01,MSFT,335.130005,344.299988,317.250000,336.320007,334.136902,625674800\r\n",
      "2022-01-01,MSFT,335.350006,338.000000,276.049988,310.980011,308.961395,947531400\r\n",
      "2022-02-01,MSFT,310.410004,315.119995,271.519989,298.790009,296.850494,697050600\r\n",
      "2022-03-01,MSFT,296.399994,315.950012,270.000000,308.309998,306.942047,734334200\r\n",
      "2022-04-01,MSFT,309.369995,315.109985,270.000000,277.519989,276.288666,627343400\r\n",
      "2022-05-01,MSFT,277.709991,290.880005,246.440002,271.869995,270.663727,742902000\r\n",
      "2022-06-01,MSFT,275.200012,277.690002,241.509995,256.829987,256.285980,621372300\r\n",
      "2022-07-01,MSFT,256.390015,282.000000,245.940002,280.739990,280.145355,534868400\r\n",
      "2022-08-01,MSFT,277.820007,294.179993,272.380005,277.750000,277.161682,329408800\r\n",
      "2021-09-01,META,379.589996,384.329987,338.149994,339.390015,339.390015,338121800\r\n",
      "2021-10-01,META,341.609985,345.019989,308.109985,323.570007,323.570007,588382500\r\n",
      "2021-11-01,META,326.040009,353.829987,323.200012,324.459991,324.459991,441125000\r\n",
      "2021-12-01,META,330.290009,352.709991,299.500000,336.350006,336.350006,438246900\r\n",
      "2022-01-01,META,338.299988,343.089996,289.010010,313.260010,313.260010,427237300\r\n",
      "2022-02-01,META,314.559998,328.000000,190.220001,211.029999,211.029999,1128039600\r\n",
      "2022-03-01,META,209.869995,231.149994,185.820007,222.360001,222.360001,733274500\r\n",
      "2022-04-01,META,224.550003,236.860001,169.000000,200.470001,200.470001,672255000\r\n",
      "2022-05-01,META,201.169998,224.300003,176.110001,193.639999,193.639999,680548800\r\n",
      "2022-06-01,META,196.509995,202.029999,154.250000,161.250000,161.250000,685975600\r\n",
      "2022-07-01,META,160.309998,183.850006,154.850006,159.100006,159.100006,586482400\r\n",
      "2022-08-01,META,157.250000,183.100006,155.229996,163.050003,163.050003,392597900\r\n"
     ]
    }
   ],
   "source": [
    "!cat $filename"
   ]
  },
  {
   "cell_type": "code",
   "execution_count": 34,
   "metadata": {
    "scrolled": true
   },
   "outputs": [
    {
     "name": "stdout",
     "output_type": "stream",
     "text": [
      "      61\r\n"
     ]
    }
   ],
   "source": [
    "!cat $filename | wc -l "
   ]
  },
  {
   "cell_type": "markdown",
   "metadata": {},
   "source": [
    "Note : The pipe operator | feeds the output of first command !cat $filename as the input to the second command wc-l\n",
    "\n",
    "Multiple command can be piped to each other, like so:"
   ]
  },
  {
   "cell_type": "code",
   "execution_count": 35,
   "metadata": {},
   "outputs": [
    {
     "name": "stdout",
     "output_type": "stream",
     "text": [
      "AAPL\r\n",
      "AAPL\r\n",
      "AAPL\r\n",
      "AAPL\r\n",
      "AAPL\r\n",
      "AAPL\r\n",
      "AAPL\r\n",
      "AAPL\r\n",
      "AAPL\r\n",
      "AAPL\r\n",
      "AAPL\r\n",
      "AAPL\r\n",
      "AMZN\r\n",
      "AMZN\r\n",
      "AMZN\r\n",
      "AMZN\r\n",
      "AMZN\r\n",
      "AMZN\r\n",
      "AMZN\r\n",
      "AMZN\r\n",
      "AMZN\r\n",
      "AMZN\r\n",
      "AMZN\r\n",
      "AMZN\r\n",
      "GOOG\r\n",
      "GOOG\r\n",
      "GOOG\r\n",
      "GOOG\r\n",
      "GOOG\r\n",
      "GOOG\r\n",
      "GOOG\r\n",
      "GOOG\r\n",
      "GOOG\r\n",
      "GOOG\r\n",
      "GOOG\r\n",
      "GOOG\r\n",
      "MSFT\r\n",
      "MSFT\r\n",
      "MSFT\r\n",
      "MSFT\r\n",
      "MSFT\r\n",
      "MSFT\r\n",
      "MSFT\r\n",
      "MSFT\r\n",
      "MSFT\r\n",
      "MSFT\r\n",
      "MSFT\r\n",
      "MSFT\r\n",
      "META\r\n",
      "META\r\n",
      "META\r\n",
      "META\r\n",
      "META\r\n",
      "META\r\n",
      "META\r\n",
      "META\r\n",
      "META\r\n",
      "META\r\n",
      "META\r\n",
      "META\r\n"
     ]
    }
   ],
   "source": [
    "!tail -n +2 $filename | cut -d ',' -f 2 # Remove the header, then select second column"
   ]
  },
  {
   "cell_type": "code",
   "execution_count": 36,
   "metadata": {},
   "outputs": [
    {
     "name": "stdout",
     "output_type": "stream",
     "text": [
      "AAPL\r\n",
      "AMZN\r\n",
      "GOOG\r\n",
      "META\r\n",
      "MSFT\r\n"
     ]
    }
   ],
   "source": [
    "\n",
    "!tail -n +2 $filename | cut -d ',' -f 2 | sort | uniq # then sort and select unique occurences"
   ]
  },
  {
   "cell_type": "markdown",
   "metadata": {},
   "source": [
    "#### grep\n",
    "\n",
    "grep is very frequently used,to look for a text in one or more files. For example in the next command we are looking for all the lines that contain a word, we also specify with -i that we are interested in case insensitive matching, i.e. we don't care about case.\n",
    "\n",
    "```!grep -i 'amzn' $filename``` -> Prints all the lines containing the \n",
    "string 'amzn' in it.\n",
    "\n",
    "\n",
    "```!grep -i 'amzn' $filename | wc -l``` -> Prints the count of all lines  having string 'amzn' in it."
   ]
  },
  {
   "cell_type": "code",
   "execution_count": 37,
   "metadata": {},
   "outputs": [
    {
     "name": "stdout",
     "output_type": "stream",
     "text": [
      "2021-09-01,AMZN,174.820007,177.499496,163.699493,164.251999,164.251999,1250554000\r\n",
      "2021-10-01,AMZN,164.450500,173.949997,158.812500,168.621506,168.621506,1273466000\r\n",
      "2021-11-01,AMZN,168.089996,188.107498,164.177505,175.353500,175.353500,1515990000\r\n",
      "2021-12-01,AMZN,177.250000,177.994003,165.195007,166.716995,166.716995,1287634000\r\n",
      "2022-01-01,AMZN,167.550003,171.399994,135.352005,149.573502,149.573502,1524654000\r\n",
      "2022-02-01,AMZN,150.000000,163.834503,138.332993,153.563004,153.563004,1689604000\r\n",
      "2022-03-01,AMZN,152.732498,170.831497,133.572495,162.997498,162.997498,1628486000\r\n",
      "2022-04-01,AMZN,164.149506,168.394501,121.625000,124.281502,124.281502,1465008000\r\n",
      "2022-05-01,AMZN,122.401001,126.220497,101.260002,120.209503,120.209503,2258476000\r\n",
      "2022-06-01,AMZN,122.255997,128.990005,101.430000,106.209999,106.209999,1767601100\r\n",
      "2022-07-01,AMZN,106.290001,137.649994,105.849998,134.949997,134.949997,1337675300\r\n",
      "2022-08-01,AMZN,134.960007,146.570007,132.850006,133.220001,133.220001,853548700\r\n"
     ]
    }
   ],
   "source": [
    "!grep -i 'amzn' $filename "
   ]
  },
  {
   "cell_type": "code",
   "execution_count": 38,
   "metadata": {},
   "outputs": [
    {
     "name": "stdout",
     "output_type": "stream",
     "text": [
      "      12\r\n"
     ]
    }
   ],
   "source": [
    "!grep -i 'amzn' $filename | wc -l"
   ]
  },
  {
   "cell_type": "markdown",
   "metadata": {},
   "source": [
    "#### sed\n",
    "sed  works similarly to grep, but it also modifies the output text. It uses regular expressions, which are a language to define pattern matching and replacement.\n",
    "\n",
    "Syntax : !sed -e 's/from/to/g' $filename\n",
    "here,\n",
    "\n",
    "s stands for substitution\n",
    "\n",
    "from is the word to be matched\n",
    "\n",
    "to is the replacement string\n",
    "\n",
    "g specifies to apply this to all occurrences on a line, not just the first occurence\n",
    "\n",
    "```!sed -e s/x/y/g $filename``` -> This will replace all occurences of x with y"
   ]
  },
  {
   "cell_type": "code",
   "execution_count": 39,
   "metadata": {},
   "outputs": [
    {
     "name": "stdout",
     "output_type": "stream",
     "text": [
      "Date,Open,High,Low,Close,Adj Close,Volume\r\n",
      "2021-09-01,Apple,152.830002,157.259995,141.270004,141.500000,140.711533,1797835100\r\n",
      "2021-10-01,Apple,141.899994,153.169998,138.270004,149.800003,148.965271,1565079200\r\n",
      "2021-11-01,Apple,148.990005,165.699997,147.479996,165.300003,164.378906,1691029000\r\n",
      "2021-12-01,Apple,167.479996,182.130005,157.800003,177.570007,176.838257,2444766700\r\n",
      "2022-01-01,Apple,177.830002,182.940002,154.699997,174.779999,174.059723,2108446000\r\n",
      "2022-02-01,Apple,174.009995,176.649994,152.000000,165.119995,164.439545,1627516300\r\n",
      "2022-03-01,Apple,164.699997,179.610001,150.100006,174.610001,174.111984,2180800100\r\n",
      "2022-04-01,Apple,174.029999,178.490005,155.380005,157.649994,157.200348,1687795600\r\n",
      "2022-05-01,Apple,156.710007,166.479996,132.610001,148.839996,148.415482,2401040300\r\n",
      "2022-06-01,Apple,149.899994,151.740005,129.039993,136.720001,136.530350,1749099800\r\n",
      "2022-07-01,Apple,136.039993,163.630005,135.660004,162.509995,162.284576,1447027700\r\n",
      "2022-08-01,Apple,161.009995,176.149994,159.630005,167.570007,167.337570,1032508100\r\n",
      "2021-09-01,AMZN,174.820007,177.499496,163.699493,164.251999,164.251999,1250554000\r\n",
      "2021-10-01,AMZN,164.450500,173.949997,158.812500,168.621506,168.621506,1273466000\r\n",
      "2021-11-01,AMZN,168.089996,188.107498,164.177505,175.353500,175.353500,1515990000\r\n",
      "2021-12-01,AMZN,177.250000,177.994003,165.195007,166.716995,166.716995,1287634000\r\n",
      "2022-01-01,AMZN,167.550003,171.399994,135.352005,149.573502,149.573502,1524654000\r\n",
      "2022-02-01,AMZN,150.000000,163.834503,138.332993,153.563004,153.563004,1689604000\r\n",
      "2022-03-01,AMZN,152.732498,170.831497,133.572495,162.997498,162.997498,1628486000\r\n",
      "2022-04-01,AMZN,164.149506,168.394501,121.625000,124.281502,124.281502,1465008000\r\n",
      "2022-05-01,AMZN,122.401001,126.220497,101.260002,120.209503,120.209503,2258476000\r\n",
      "2022-06-01,AMZN,122.255997,128.990005,101.430000,106.209999,106.209999,1767601100\r\n",
      "2022-07-01,AMZN,106.290001,137.649994,105.849998,134.949997,134.949997,1337675300\r\n",
      "2022-08-01,AMZN,134.960007,146.570007,132.850006,133.220001,133.220001,853548700\r\n",
      "2021-09-01,GOOG,145.649994,146.820496,133.000000,133.265503,133.265503,505198000\r\n",
      "2021-10-01,GOOG,133.554504,149.117996,131.166504,148.270493,148.270493,496572000\r\n",
      "2021-11-01,GOOG,148.164993,151.850006,142.065994,142.451996,142.451996,443172000\r\n",
      "2021-12-01,GOOG,144.212494,149.604996,140.250000,144.679504,144.679504,479260000\r\n",
      "2022-01-01,GOOG,144.475494,146.610001,124.641953,135.698502,135.698502,615510000\r\n",
      "2022-02-01,GOOG,137.835007,152.100006,124.764503,134.891006,134.891006,732650000\r\n",
      "2022-03-01,GOOG,134.479996,144.162506,125.860748,139.649506,139.649506,637420000\r\n",
      "2022-04-01,GOOG,140.009995,144.043747,113.124252,114.966499,114.966499,564940000\r\n",
      "2022-05-01,GOOG,113.906502,123.142998,102.208000,114.039001,114.039001,717486000\r\n",
      "2022-06-01,GOOG,114.931503,119.398499,105.628548,109.372498,109.372498,627132000\r\n",
      "2022-07-01,GOOG,108.336998,120.434998,104.760002,116.639999,116.639999,638766600\r\n",
      "2022-08-01,GOOG,115.529999,123.260002,114.260002,115.070000,115.070000,287065300\r\n",
      "2021-09-01,MSFT,302.869995,305.320007,281.619995,281.920013,279.578522,502918700\r\n",
      "2021-10-01,MSFT,282.119995,332.000000,280.250000,331.619995,328.865753,516515800\r\n",
      "2021-11-01,MSFT,331.359985,349.670013,326.369995,330.589996,327.844269,509885200\r\n",
      "2021-12-01,MSFT,335.130005,344.299988,317.250000,336.320007,334.136902,625674800\r\n",
      "2022-01-01,MSFT,335.350006,338.000000,276.049988,310.980011,308.961395,947531400\r\n",
      "2022-02-01,MSFT,310.410004,315.119995,271.519989,298.790009,296.850494,697050600\r\n",
      "2022-03-01,MSFT,296.399994,315.950012,270.000000,308.309998,306.942047,734334200\r\n",
      "2022-04-01,MSFT,309.369995,315.109985,270.000000,277.519989,276.288666,627343400\r\n",
      "2022-05-01,MSFT,277.709991,290.880005,246.440002,271.869995,270.663727,742902000\r\n",
      "2022-06-01,MSFT,275.200012,277.690002,241.509995,256.829987,256.285980,621372300\r\n",
      "2022-07-01,MSFT,256.390015,282.000000,245.940002,280.739990,280.145355,534868400\r\n",
      "2022-08-01,MSFT,277.820007,294.179993,272.380005,277.750000,277.161682,329408800\r\n",
      "2021-09-01,META,379.589996,384.329987,338.149994,339.390015,339.390015,338121800\r\n",
      "2021-10-01,META,341.609985,345.019989,308.109985,323.570007,323.570007,588382500\r\n",
      "2021-11-01,META,326.040009,353.829987,323.200012,324.459991,324.459991,441125000\r\n",
      "2021-12-01,META,330.290009,352.709991,299.500000,336.350006,336.350006,438246900\r\n",
      "2022-01-01,META,338.299988,343.089996,289.010010,313.260010,313.260010,427237300\r\n",
      "2022-02-01,META,314.559998,328.000000,190.220001,211.029999,211.029999,1128039600\r\n",
      "2022-03-01,META,209.869995,231.149994,185.820007,222.360001,222.360001,733274500\r\n",
      "2022-04-01,META,224.550003,236.860001,169.000000,200.470001,200.470001,672255000\r\n",
      "2022-05-01,META,201.169998,224.300003,176.110001,193.639999,193.639999,680548800\r\n",
      "2022-06-01,META,196.509995,202.029999,154.250000,161.250000,161.250000,685975600\r\n",
      "2022-07-01,META,160.309998,183.850006,154.850006,159.100006,159.100006,586482400\r\n",
      "2022-08-01,META,157.250000,183.100006,155.229996,163.050003,163.050003,392597900\r\n"
     ]
    }
   ],
   "source": [
    "!sed -e s/AAPL/Apple/g $filename"
   ]
  },
  {
   "cell_type": "markdown",
   "metadata": {},
   "source": [
    "### Pass values to and from the Shell"
   ]
  },
  {
   "cell_type": "markdown",
   "metadata": {},
   "source": [
    "Shell commands can not only be called from IPython, but can also be made to interact with the IPython namespace. For example, you can save the output of any Shell command to a Python list using the assignment operator:"
   ]
  },
  {
   "cell_type": "code",
   "execution_count": 40,
   "metadata": {},
   "outputs": [],
   "source": [
    "contents = !ls "
   ]
  },
  {
   "cell_type": "code",
   "execution_count": 41,
   "metadata": {},
   "outputs": [
    {
     "name": "stdout",
     "output_type": "stream",
     "text": [
      "['2022_dsga1007_lab5.ipynb', 'ascorbic-acid.pdb', 'bash_for.sh', 'bash_function.sh', 'bash_if_else.sh', 'lab5_os.py', 'stock1year.csv']\n"
     ]
    }
   ],
   "source": [
    "print(contents)"
   ]
  },
  {
   "cell_type": "code",
   "execution_count": 42,
   "metadata": {},
   "outputs": [],
   "source": [
    "directory = !pwd"
   ]
  },
  {
   "cell_type": "code",
   "execution_count": 43,
   "metadata": {},
   "outputs": [
    {
     "name": "stdout",
     "output_type": "stream",
     "text": [
      "['/Users/reactivecoder/Desktop/ProgrammingForDataScience/dsga1007_lab5']\n"
     ]
    }
   ],
   "source": [
    "print(directory)"
   ]
  },
  {
   "cell_type": "markdown",
   "metadata": {},
   "source": [
    "Note that these results are not returned as lists, but as a special Shell return type defined in IPython:"
   ]
  },
  {
   "cell_type": "code",
   "execution_count": 44,
   "metadata": {},
   "outputs": [
    {
     "data": {
      "text/plain": [
       "IPython.utils.text.SList"
      ]
     },
     "execution_count": 44,
     "metadata": {},
     "output_type": "execute_result"
    }
   ],
   "source": [
    "type(directory)"
   ]
  },
  {
   "cell_type": "markdown",
   "metadata": {},
   "source": [
    "This looks and acts a lot like a Python list, but has additional functionality, such as the grep and fields methods and the s, n, and p properties that allow you to search, filter, and display the results in convenient ways. For more information on these, please refer to the IPython's built-in help features.\n"
   ]
  },
  {
   "cell_type": "markdown",
   "metadata": {},
   "source": [
    "Communication in the other direction, that is passing Python variables into the shell namespace, is also possible using the {varname} syntax:"
   ]
  },
  {
   "cell_type": "code",
   "execution_count": 45,
   "metadata": {},
   "outputs": [],
   "source": [
    "message = \"Hello from Python\""
   ]
  },
  {
   "cell_type": "code",
   "execution_count": 46,
   "metadata": {
    "scrolled": true
   },
   "outputs": [
    {
     "name": "stdout",
     "output_type": "stream",
     "text": [
      "Hello from Python\r\n"
     ]
    }
   ],
   "source": [
    "!echo {message}"
   ]
  },
  {
   "cell_type": "markdown",
   "metadata": {},
   "source": [
    "The curly braces contain the variable name, which is replaced by the variable's contents when invoking the Shell command"
   ]
  },
  {
   "cell_type": "markdown",
   "metadata": {},
   "source": [
    "## 2. Python virtual environments\n",
    "\n",
    "When working on multiple Python projects at the same time, the best practice is to have a separate virtual environment for each of them.\n",
    "\n",
    "Each virtual environment has its own Python setup. When you install some Python packages into your virtual environment, they will be installed only into that specific environment. This means that you can have different versions of a single Python package in different virtual environments on the same computer. Virtual environments are also useful if you need to use different Python interpreter versions in your projects."
   ]
  },
  {
   "cell_type": "markdown",
   "metadata": {},
   "source": [
    "### Creating new virtual environments\n",
    "\n",
    "You can create all your virtual environments into a single directory (for example, .virtualenvs directory inside your home folder). This makes them easier to find.\n",
    "\n",
    "python3 -m venv /path/to/new/environment\n",
    "\n",
    "or\n",
    "\n",
    "path/to/your/python -m venv /path/to/new/environment\n",
    "\n",
    "or \n",
    "\n",
    "conda create --name /path/to/new/environment \n",
    "\n",
    "More details: https://docs.conda.io/projects/conda/en/4.6.0/_downloads/52a95608c49671267e40c689e0bc00ca/conda-cheatsheet.pdf"
   ]
  },
  {
   "cell_type": "markdown",
   "metadata": {},
   "source": [
    "### Installing packages\n",
    "After activating the newly created virtual environment, you can install new packages by using ```conda``` (preferrred if you installed Anaconda) or ```pip```. For example if you want to install pytest:\n",
    "\n",
    "python -m pip install pytest\n",
    "\n",
    "or \n",
    "conda install pytest \n",
    "\n",
    "It will be installed into path_to_virtual_env/lib//site-packages, although the path to site-packages may differ depending on which operating system you are using.\n",
    "\n",
    "You can list the installed packages and their versions by running:\n",
    "\n",
    "python -m pip freeze\n",
    "\n",
    "or\n",
    "\n",
    "conda list"
   ]
  },
  {
   "cell_type": "markdown",
   "metadata": {},
   "source": [
    "## Bash Script Examples"
   ]
  },
  {
   "cell_type": "markdown",
   "metadata": {},
   "source": [
    "### If-else"
   ]
  },
  {
   "cell_type": "code",
   "execution_count": 47,
   "metadata": {},
   "outputs": [
    {
     "name": "stdout",
     "output_type": "stream",
     "text": [
      "#!/bin/bash\r\n",
      "number=10\r\n",
      "if [ $((number%2)) -eq 0 ]\r\n",
      "then\r\n",
      "  echo \"Number is even.\"\r\n",
      "else\r\n",
      "  echo \"Number is odd.\"\r\n",
      "fi"
     ]
    }
   ],
   "source": [
    "!cat bash_if_else.sh"
   ]
  },
  {
   "cell_type": "code",
   "execution_count": 48,
   "metadata": {},
   "outputs": [
    {
     "name": "stdout",
     "output_type": "stream",
     "text": [
      "Number is even.\r\n"
     ]
    }
   ],
   "source": [
    "!bash bash_if_else.sh"
   ]
  },
  {
   "cell_type": "markdown",
   "metadata": {},
   "source": [
    "### For Loop"
   ]
  },
  {
   "cell_type": "code",
   "execution_count": 49,
   "metadata": {},
   "outputs": [
    {
     "name": "stdout",
     "output_type": "stream",
     "text": [
      "#!/bin/bash\r\n",
      "\r\n",
      "#for loop example\r\n",
      "nums=(1 2 3)\r\n",
      "#printf \"%s\\n\" \"${nums[@]}\"\r\n",
      "for i in \"${nums[@]}\"; do\r\n",
      "    echo $i\r\n",
      "done\r\n",
      "\r\n",
      "for i in \"${nums[@]}\"\r\n",
      "do\r\n",
      "    echo $i\r\n",
      "done\r\n",
      "\r\n",
      "for i in 1 2 3; do\r\n",
      "\techo $i\r\n",
      "done\r\n",
      "\r\n",
      "for word in \"word1\" \"word2\" \"word3\"; do\r\n",
      "\techo $word\r\n",
      "done\r\n",
      "\r\n",
      "# print line and total characters in each line for some input\r\n",
      "count=0\r\n",
      "for i in $(ls ~); do\r\n",
      "\t((count ++))\r\n",
      "\techo \"Line $count ($i) contains $(echo -n $i | wc -c) characters\"\r\n",
      "done\r\n"
     ]
    }
   ],
   "source": [
    "!cat bash_for.sh"
   ]
  },
  {
   "cell_type": "code",
   "execution_count": 50,
   "metadata": {},
   "outputs": [
    {
     "name": "stdout",
     "output_type": "stream",
     "text": [
      "1\r\n",
      "2\r\n",
      "3\r\n",
      "1\r\n",
      "2\r\n",
      "3\r\n",
      "1\r\n",
      "2\r\n",
      "3\r\n",
      "word1\r\n",
      "word2\r\n",
      "word3\r\n",
      "Line 1 (Applications) contains       12 characters\r\n",
      "Line 2 (Desktop) contains        7 characters\r\n",
      "Line 3 (Documents) contains        9 characters\r\n",
      "Line 4 (Downloads) contains        9 characters\r\n",
      "Line 5 (Library) contains        7 characters\r\n",
      "Line 6 (Movies) contains        6 characters\r\n",
      "Line 7 (Music) contains        5 characters\r\n",
      "Line 8 (OneDrive) contains        8 characters\r\n",
      "Line 9 (-) contains        1 characters\r\n",
      "Line 10 (nyu.edu) contains        7 characters\r\n",
      "Line 11 (Pictures) contains        8 characters\r\n",
      "Line 12 (Public) contains        6 characters\r\n",
      "Line 13 (Wallpaper) contains        9 characters\r\n"
     ]
    }
   ],
   "source": [
    "!bash bash_for.sh"
   ]
  },
  {
   "cell_type": "markdown",
   "metadata": {},
   "source": [
    "### Functions"
   ]
  },
  {
   "cell_type": "code",
   "execution_count": 51,
   "metadata": {},
   "outputs": [
    {
     "name": "stdout",
     "output_type": "stream",
     "text": [
      "#! /bin/bash\r\n",
      "# function syntax\r\n",
      "#   function name {\r\n",
      "#       body\r\n",
      "#       return\r\n",
      "#   }\r\n",
      "# OR\r\n",
      "# funcName() {\r\n",
      "#   body\r\n",
      "#   return \r\n",
      "# }\r\n",
      "name=\"Michael\"\r\n",
      "sayHello() {\r\n",
      "    local name=\"Jake\"\r\n",
      "    # check for # of arguments\r\n",
      "    if (( $# >= 1 )); then\r\n",
      "        echo \"more than one argument provided: total arguments = $#\"\r\n",
      "    fi\r\n",
      "    # check if first argument exists\r\n",
      "    if [[ -n $1 ]]; then\r\n",
      "        echo \"Hello there, $1!\"\r\n",
      "    else\r\n",
      "        echo \"Hello there, $name\"\r\n",
      "    fi\r\n",
      "    return\r\n",
      "    #exit 1 #exit the program/script completely\r\n",
      "}\r\n",
      "\r\n",
      "sayHello \"Sally\"\r\n",
      "# call function without passing arguments\r\n",
      "sayHello\r\n",
      "\r\n",
      "# use the echo value as a return value\r\n",
      "ans=$(sayHello) \r\n",
      "echo \"return value =\" $ans"
     ]
    }
   ],
   "source": [
    "!cat bash_function.sh"
   ]
  },
  {
   "cell_type": "code",
   "execution_count": 52,
   "metadata": {},
   "outputs": [
    {
     "name": "stdout",
     "output_type": "stream",
     "text": [
      "more than one argument provided: total arguments = 1\r\n",
      "Hello there, Sally!\r\n",
      "Hello there, Jake\r\n",
      "return value = Hello there, Jake\r\n"
     ]
    }
   ],
   "source": [
    "!bash bash_function.sh"
   ]
  }
 ],
 "metadata": {
  "kernelspec": {
   "display_name": "Python 3 (ipykernel)",
   "language": "python",
   "name": "python3"
  },
  "language_info": {
   "codemirror_mode": {
    "name": "ipython",
    "version": 3
   },
   "file_extension": ".py",
   "mimetype": "text/x-python",
   "name": "python",
   "nbconvert_exporter": "python",
   "pygments_lexer": "ipython3",
   "version": "3.9.12"
  }
 },
 "nbformat": 4,
 "nbformat_minor": 2
}
