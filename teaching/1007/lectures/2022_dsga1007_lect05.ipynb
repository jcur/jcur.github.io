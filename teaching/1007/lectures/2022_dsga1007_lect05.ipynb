{
 "cells": [
  {
   "cell_type": "markdown",
   "id": "d0a3372a",
   "metadata": {},
   "source": [
    "### CDS NYU\n",
    "### DS-GA 1007 | Programming for Data Science\n",
    "### Lecture 05\n",
    "### October 17, 2022\n",
    "\n",
    "---"
   ]
  },
  {
   "cell_type": "markdown",
   "id": "a71dbde2",
   "metadata": {},
   "source": [
    "# NumPy: Array Manipulation for Scientific Computing\n",
    "\n",
    "## Introduction\n",
    "\n",
    "https://numpy.org/\n",
    "\n",
    "NumPy is a fundamental Python package for scientific computing. The NumPy library contains multidimensional array and matrix data objects with methods to efficiently operate on them, including mathematical, logical, shape manipulation, sorting, selecting, I/O, basic linear algebra, basic statistical operations, random simulations, discrete Fourier transforms, and much more.\n",
    "\n",
    "At the core of the NumPy package, is the ndarray object. This encapsulates n-dimensional arrays of homogeneous data types, with many operations being performed in compiled code for performance. There are several important differences between NumPy arrays and the standard Python sequences:\n",
    "\n",
    "- NumPy arrays have a fixed size at creation, unlike Python lists (which can grow dynamically). Changing the size of an ndarray will create a new array and delete the original\n",
    "\n",
    "- The elements in a NumPy array are all required to be of the same data type, and thus will be the same size in memory. The exception: one can have arrays of (Python, including NumPy) objects, thereby allowing for arrays of different sized elements. Note in this case the efficiency of NumPy decreases accordingly\n",
    "\n",
    "- Because they are fixed-type container, in contrast to dynamic-type containers such as lists, NumPy arrays are more efficient to store and manipulate data because each item does not contain any metadata on the element’s type. This is called vectorization (as used in compiled languages). Its advantage is speed, its disadvantages is lack of flexibility\n",
    "\n",
    "- NumPy arrays provide many mathematical and other types of operations. Typically, such operations are executed more efficiently and with less code than is possible using Python dynamic-type containers such as lists\n",
    "\n",
    "- NumPy is an open source Python library that’s used in almost every field of science and engineering. It’s the universal standard for working with numerical data in Python, and is used extensively in the backend of Pandas, SciPy, Matplotlib, Scikit-Learn, Scikit-Image and most other data science and scientific Python packages\n"
   ]
  },
  {
   "cell_type": "markdown",
   "id": "70f78abb",
   "metadata": {},
   "source": [
    "#### Import NumPy as a library:"
   ]
  },
  {
   "cell_type": "code",
   "execution_count": 214,
   "id": "805d05cf",
   "metadata": {},
   "outputs": [],
   "source": [
    "import numpy as np"
   ]
  },
  {
   "cell_type": "markdown",
   "id": "f6c063c5",
   "metadata": {},
   "source": [
    "# Numpy Arrays, Vectors and Matrices\n",
    "\n",
    "Numpy arrays come in two flavors: vectors and matrices. Vectors are 1D arrays and matrices are 2D, although this distinction is for convenience when dealing with vectors because a matrix generalizes the concept of vector by the possibility to have only one row or one column.\n",
    "\n",
    "\n",
    "## Creating NumPy Arrays\n",
    "\n",
    "### From a Python List\n",
    "\n",
    "We can create an array by directly converting a list or list of lists:"
   ]
  },
  {
   "cell_type": "code",
   "execution_count": 215,
   "id": "bc34daaf",
   "metadata": {},
   "outputs": [
    {
     "data": {
      "text/plain": [
       "array([1, 2, 3, 4, 5])"
      ]
     },
     "execution_count": 215,
     "metadata": {},
     "output_type": "execute_result"
    }
   ],
   "source": [
    "# Vector\n",
    "vec = [1,2,3,4,5]\n",
    "np.array(vec)"
   ]
  },
  {
   "cell_type": "code",
   "execution_count": 216,
   "id": "0b601217",
   "metadata": {},
   "outputs": [
    {
     "data": {
      "text/plain": [
       "array([[1, 2, 3],\n",
       "       [4, 5, 6],\n",
       "       [7, 8, 9]])"
      ]
     },
     "execution_count": 216,
     "metadata": {},
     "output_type": "execute_result"
    }
   ],
   "source": [
    "# Matrix\n",
    "mat = [[1,2,3], [4,5,6], [7,8,9]]\n",
    "np.array(mat)"
   ]
  },
  {
   "cell_type": "markdown",
   "id": "63914d91",
   "metadata": {},
   "source": [
    "### From a file\n",
    "Directly load a numerical dataset (array) from a file"
   ]
  },
  {
   "cell_type": "code",
   "execution_count": 217,
   "id": "1bd66a36",
   "metadata": {},
   "outputs": [
    {
     "data": {
      "text/plain": [
       "array([[0., 0., 1., ..., 3., 0., 0.],\n",
       "       [0., 1., 2., ..., 1., 0., 1.],\n",
       "       [0., 1., 1., ..., 2., 1., 1.],\n",
       "       ...,\n",
       "       [0., 1., 1., ..., 1., 1., 1.],\n",
       "       [0., 0., 0., ..., 0., 2., 0.],\n",
       "       [0., 0., 1., ..., 1., 1., 0.]])"
      ]
     },
     "execution_count": 217,
     "metadata": {},
     "output_type": "execute_result"
    }
   ],
   "source": [
    "np.loadtxt(fname='MedicalData.csv', delimiter=',')"
   ]
  },
  {
   "cell_type": "markdown",
   "id": "2fdf20dd",
   "metadata": {},
   "source": [
    "### Using NumPy built-in functions\n",
    "\n",
    "#### Function \"arange\": \n",
    "Create an array with evenly spaced values over a given interval"
   ]
  },
  {
   "cell_type": "code",
   "execution_count": 218,
   "id": "a1fad734",
   "metadata": {},
   "outputs": [],
   "source": [
    "a = np.arange(0,10,2)"
   ]
  },
  {
   "cell_type": "code",
   "execution_count": 219,
   "id": "8fe3bd83",
   "metadata": {},
   "outputs": [
    {
     "data": {
      "text/plain": [
       "array([[ 0,  1,  2,  3,  4],\n",
       "       [ 5,  6,  7,  8,  9],\n",
       "       [10, 11, 12, 13, 14],\n",
       "       [15, 16, 17, 18, 19],\n",
       "       [20, 21, 22, 23, 24]])"
      ]
     },
     "execution_count": 219,
     "metadata": {},
     "output_type": "execute_result"
    }
   ],
   "source": [
    "np.arange(0,25).reshape(5,5)"
   ]
  },
  {
   "cell_type": "markdown",
   "id": "40743517",
   "metadata": {},
   "source": [
    "#### Function \"linspace\"\n",
    "Create an array with a specific number of evenly spaced values over a given interval"
   ]
  },
  {
   "cell_type": "code",
   "execution_count": 220,
   "id": "af4c3ac8",
   "metadata": {},
   "outputs": [
    {
     "data": {
      "text/plain": [
       "array([ 0. ,  2.5,  5. ,  7.5, 10. ])"
      ]
     },
     "execution_count": 220,
     "metadata": {},
     "output_type": "execute_result"
    }
   ],
   "source": [
    "np.linspace(0,10,5)"
   ]
  },
  {
   "cell_type": "markdown",
   "id": "e6d2fb14",
   "metadata": {},
   "source": [
    "#### Function \"rand\"\n",
    "Create an array of given shape containing random samples drawn from a given statistical distribution"
   ]
  },
  {
   "cell_type": "code",
   "execution_count": 221,
   "id": "5bfe37f4",
   "metadata": {},
   "outputs": [
    {
     "data": {
      "text/plain": [
       "array([[0.44141022, 0.97895644, 0.19647712, 0.59305791, 0.22602175],\n",
       "       [0.2880383 , 0.10479459, 0.98141952, 0.88650003, 0.19971479],\n",
       "       [0.839169  , 0.23100958, 0.57356792, 0.76743193, 0.38295423],\n",
       "       [0.62719694, 0.62375502, 0.45959794, 0.89921175, 0.11838997],\n",
       "       [0.45418704, 0.15952525, 0.66561834, 0.93081023, 0.78741465]])"
      ]
     },
     "execution_count": 221,
     "metadata": {},
     "output_type": "execute_result"
    }
   ],
   "source": [
    "np.random.rand(5,5) # Uniform distribution"
   ]
  },
  {
   "cell_type": "code",
   "execution_count": 222,
   "id": "4691b477",
   "metadata": {},
   "outputs": [
    {
     "data": {
      "text/plain": [
       "array([[ 0.34312659,  0.61454654, -1.02834853, -0.79138839,  0.49119071],\n",
       "       [ 1.13345347, -0.15707721,  0.97107897,  0.46253043, -0.82220939],\n",
       "       [ 1.54920402,  0.94473697, -2.21823919, -0.34656005, -0.15783311],\n",
       "       [-1.65238199,  0.56766848, -0.14246251,  0.00893226, -0.42979479],\n",
       "       [-0.41678304, -1.66892638, -0.75920442,  0.15562363, -1.53080364]])"
      ]
     },
     "execution_count": 222,
     "metadata": {},
     "output_type": "execute_result"
    }
   ],
   "source": [
    "np.random.randn(5,5) # Normal (Gaussian) distribution"
   ]
  },
  {
   "cell_type": "code",
   "execution_count": 223,
   "id": "6ebebfd0",
   "metadata": {},
   "outputs": [
    {
     "data": {
      "text/plain": [
       "array([[2, 6, 0, 4, 0],\n",
       "       [7, 4, 1, 8, 7],\n",
       "       [8, 0, 2, 8, 6],\n",
       "       [8, 7, 1, 9, 1],\n",
       "       [7, 7, 2, 6, 7]])"
      ]
     },
     "execution_count": 223,
     "metadata": {},
     "output_type": "execute_result"
    }
   ],
   "source": [
    "np.random.randint(0,10,25).reshape(5,5) # Return random integers from min (inclusive) to max (exclusive)"
   ]
  },
  {
   "cell_type": "markdown",
   "id": "ec55e39a",
   "metadata": {},
   "source": [
    "#### Function \"zeros\" and \"ones\"\n",
    "\n",
    "Create an array of zeros or ones"
   ]
  },
  {
   "cell_type": "code",
   "execution_count": 224,
   "id": "afa65f44",
   "metadata": {},
   "outputs": [
    {
     "data": {
      "text/plain": [
       "array([0., 0., 0., 0., 0.])"
      ]
     },
     "execution_count": 224,
     "metadata": {},
     "output_type": "execute_result"
    }
   ],
   "source": [
    "np.zeros(5)"
   ]
  },
  {
   "cell_type": "code",
   "execution_count": 225,
   "id": "d0622278",
   "metadata": {},
   "outputs": [
    {
     "data": {
      "text/plain": [
       "array([[0., 0., 0., 0., 0.],\n",
       "       [0., 0., 0., 0., 0.],\n",
       "       [0., 0., 0., 0., 0.],\n",
       "       [0., 0., 0., 0., 0.],\n",
       "       [0., 0., 0., 0., 0.]])"
      ]
     },
     "execution_count": 225,
     "metadata": {},
     "output_type": "execute_result"
    }
   ],
   "source": [
    "np.zeros((5,5))"
   ]
  },
  {
   "cell_type": "code",
   "execution_count": 226,
   "id": "a03d505b",
   "metadata": {},
   "outputs": [
    {
     "data": {
      "text/plain": [
       "array([1., 1., 1., 1., 1.])"
      ]
     },
     "execution_count": 226,
     "metadata": {},
     "output_type": "execute_result"
    }
   ],
   "source": [
    "np.ones(5)"
   ]
  },
  {
   "cell_type": "code",
   "execution_count": 227,
   "id": "ba5977ef",
   "metadata": {},
   "outputs": [
    {
     "data": {
      "text/plain": [
       "array([[1., 1., 1., 1., 1.],\n",
       "       [1., 1., 1., 1., 1.],\n",
       "       [1., 1., 1., 1., 1.],\n",
       "       [1., 1., 1., 1., 1.],\n",
       "       [1., 1., 1., 1., 1.]])"
      ]
     },
     "execution_count": 227,
     "metadata": {},
     "output_type": "execute_result"
    }
   ],
   "source": [
    "np.ones((5,5))"
   ]
  },
  {
   "cell_type": "markdown",
   "id": "425a3673",
   "metadata": {},
   "source": [
    "#### Function \"eye\" to create an identity matrix\n",
    "Create (quickly:) an identity matrix"
   ]
  },
  {
   "cell_type": "code",
   "execution_count": 228,
   "id": "ff2eec7b",
   "metadata": {},
   "outputs": [
    {
     "data": {
      "text/plain": [
       "array([[1., 0., 0., 0., 0.],\n",
       "       [0., 1., 0., 0., 0.],\n",
       "       [0., 0., 1., 0., 0.],\n",
       "       [0., 0., 0., 1., 0.],\n",
       "       [0., 0., 0., 0., 1.]])"
      ]
     },
     "execution_count": 228,
     "metadata": {},
     "output_type": "execute_result"
    }
   ],
   "source": [
    "np.eye(5)"
   ]
  },
  {
   "cell_type": "markdown",
   "id": "8c99890b",
   "metadata": {},
   "source": [
    "## NumPy Array Attributes "
   ]
  },
  {
   "cell_type": "code",
   "execution_count": 230,
   "id": "ab4c7b3b",
   "metadata": {},
   "outputs": [],
   "source": [
    "mat = [[1,2,3],[4,5,6],[7,8,9]]\n",
    "m = np.array(mat)"
   ]
  },
  {
   "cell_type": "code",
   "execution_count": 231,
   "id": "c495c1dc",
   "metadata": {},
   "outputs": [
    {
     "name": "stdout",
     "output_type": "stream",
     "text": [
      "<class 'numpy.ndarray'>\n"
     ]
    }
   ],
   "source": [
    "print(type(m)) # Python type (class) of object"
   ]
  },
  {
   "cell_type": "code",
   "execution_count": 232,
   "id": "491ca4a4",
   "metadata": {},
   "outputs": [
    {
     "name": "stdout",
     "output_type": "stream",
     "text": [
      "2\n"
     ]
    }
   ],
   "source": [
    "print(m.ndim) # Number of dimensions "
   ]
  },
  {
   "cell_type": "code",
   "execution_count": 233,
   "id": "d214b8f7",
   "metadata": {},
   "outputs": [
    {
     "name": "stdout",
     "output_type": "stream",
     "text": [
      "(3, 3)\n"
     ]
    }
   ],
   "source": [
    "print(m.shape) # Size of each dimension "
   ]
  },
  {
   "cell_type": "code",
   "execution_count": 234,
   "id": "fddbcc34",
   "metadata": {},
   "outputs": [
    {
     "name": "stdout",
     "output_type": "stream",
     "text": [
      "9\n"
     ]
    }
   ],
   "source": [
    "print(m.size) # Total size of the array "
   ]
  },
  {
   "cell_type": "code",
   "execution_count": 235,
   "id": "03294ff1",
   "metadata": {},
   "outputs": [
    {
     "name": "stdout",
     "output_type": "stream",
     "text": [
      "int64\n"
     ]
    }
   ],
   "source": [
    "print(m.dtype) # Data type of the array"
   ]
  },
  {
   "cell_type": "markdown",
   "id": "9639b4e4",
   "metadata": {},
   "source": [
    "## Indexing and Selection"
   ]
  },
  {
   "cell_type": "markdown",
   "id": "26549c16",
   "metadata": {},
   "source": [
    "### Vector"
   ]
  },
  {
   "cell_type": "code",
   "execution_count": 236,
   "id": "ae39c47b",
   "metadata": {},
   "outputs": [
    {
     "name": "stdout",
     "output_type": "stream",
     "text": [
      "[0 1 2 3 4 5 6 7 8]\n"
     ]
    }
   ],
   "source": [
    "a = np.arange(0,9)\n",
    "print(a)"
   ]
  },
  {
   "cell_type": "code",
   "execution_count": 237,
   "id": "c56b3ef0",
   "metadata": {},
   "outputs": [
    {
     "data": {
      "text/plain": [
       "5"
      ]
     },
     "execution_count": 237,
     "metadata": {},
     "output_type": "execute_result"
    }
   ],
   "source": [
    "a[5]   # Simple indexing"
   ]
  },
  {
   "cell_type": "code",
   "execution_count": 238,
   "id": "03206f0b",
   "metadata": {},
   "outputs": [
    {
     "data": {
      "text/plain": [
       "array([2, 3, 4])"
      ]
     },
     "execution_count": 238,
     "metadata": {},
     "output_type": "execute_result"
    }
   ],
   "source": [
    "a[2:5] # Slicing (view to access subarray, data not copied) "
   ]
  },
  {
   "cell_type": "markdown",
   "id": "950b7f29",
   "metadata": {},
   "source": [
    "**Semantic difference compared to slicing lists**: When slicing a NumPy array, the data is not copied. If a slice is assigned to a new variable name, when we mutate one we mutate the other.  To clone an array we need to explicitly invoke the method ``copy`` "
   ]
  },
  {
   "cell_type": "code",
   "execution_count": 239,
   "id": "3246790c",
   "metadata": {},
   "outputs": [
    {
     "name": "stdout",
     "output_type": "stream",
     "text": [
      "[10 10]\n",
      "[ 0  1 10 10  4  5  6  7  8]\n"
     ]
    }
   ],
   "source": [
    "# Any change made to a slice will affect the original array because a slice is just \n",
    "# a \"view\" to access a sub-array but points to same location in memory\n",
    "\n",
    "s = a[2:4]\n",
    "s[:] = 10\n",
    "\n",
    "print(s)\n",
    "print(a) "
   ]
  },
  {
   "cell_type": "code",
   "execution_count": 240,
   "id": "6f8cdb11",
   "metadata": {},
   "outputs": [],
   "source": [
    "# To create a separate copy, use: \n",
    "s = a[2:4].copy()"
   ]
  },
  {
   "attachments": {},
   "cell_type": "markdown",
   "id": "8f993d95",
   "metadata": {},
   "source": [
    "**Broadcasting Rule**: \n",
    "\n",
    "When the shape of the two arrays does not match in a given dimension, the size of one of the arrays in that dimension needs to be 1:\n",
    "* If it’s not the case, an error is raised\n",
    "* If it’s the case, the array with shape equal to 1 in that dimension is broadcasted to match the other shape"
   ]
  },
  {
   "cell_type": "code",
   "execution_count": 241,
   "id": "53267f68",
   "metadata": {},
   "outputs": [
    {
     "name": "stdout",
     "output_type": "stream",
     "text": [
      "[100 100 100 100 100   5   6   7   8]\n"
     ]
    }
   ],
   "source": [
    "# Scalar broadcasting\n",
    "a[0:5]=100 \n",
    "print(a)"
   ]
  },
  {
   "cell_type": "code",
   "execution_count": 242,
   "id": "f5b61a4b",
   "metadata": {},
   "outputs": [
    {
     "data": {
      "text/plain": [
       "array([[1., 2., 3.],\n",
       "       [1., 2., 3.],\n",
       "       [1., 2., 3.]])"
      ]
     },
     "execution_count": 242,
     "metadata": {},
     "output_type": "execute_result"
    }
   ],
   "source": [
    "# Array broadcasting\n",
    "np.ones((3,3)) + np.arange(3) "
   ]
  },
  {
   "cell_type": "markdown",
   "id": "ace7afe3",
   "metadata": {},
   "source": [
    "### Matrix"
   ]
  },
  {
   "cell_type": "code",
   "execution_count": 243,
   "id": "7c7d399a",
   "metadata": {},
   "outputs": [
    {
     "name": "stdout",
     "output_type": "stream",
     "text": [
      "[[100 100 100]\n",
      " [100 100   5]\n",
      " [  6   7   8]]\n"
     ]
    }
   ],
   "source": [
    "m = a.reshape(3,3)\n",
    "print(m)"
   ]
  },
  {
   "cell_type": "code",
   "execution_count": 244,
   "id": "6da99295",
   "metadata": {},
   "outputs": [
    {
     "data": {
      "text/plain": [
       "100"
      ]
     },
     "execution_count": 244,
     "metadata": {},
     "output_type": "execute_result"
    }
   ],
   "source": [
    "m[1,0] # m[1][0]"
   ]
  },
  {
   "cell_type": "code",
   "execution_count": 245,
   "id": "bff92358",
   "metadata": {},
   "outputs": [
    {
     "data": {
      "text/plain": [
       "array([[100, 100,   5],\n",
       "       [  6,   7,   8]])"
      ]
     },
     "execution_count": 245,
     "metadata": {},
     "output_type": "execute_result"
    }
   ],
   "source": [
    "m[1:,:] # Slicing in 2D"
   ]
  },
  {
   "cell_type": "markdown",
   "id": "b2234e1c",
   "metadata": {},
   "source": [
    "\"**Fancy indexing**\": The concept is to put an array of indices inside the indexing brackets of the array being indexed (hence double brackets notation), giving flexibility to select specific elements from the array in any order, any number of times"
   ]
  },
  {
   "cell_type": "code",
   "execution_count": 246,
   "id": "2ad47649",
   "metadata": {},
   "outputs": [
    {
     "data": {
      "text/plain": [
       "array([[  6,   7,   8],\n",
       "       [100, 100, 100],\n",
       "       [  6,   7,   8]])"
      ]
     },
     "execution_count": 246,
     "metadata": {},
     "output_type": "execute_result"
    }
   ],
   "source": [
    "m[[2,0,2]] # Fancy indexing: Select entire row out of order, any number of times"
   ]
  },
  {
   "cell_type": "code",
   "execution_count": 247,
   "id": "9531899c",
   "metadata": {},
   "outputs": [
    {
     "data": {
      "text/plain": [
       "array([[100, 100, 100],\n",
       "       [  5, 100,   5],\n",
       "       [  8,   6,   8]])"
      ]
     },
     "execution_count": 247,
     "metadata": {},
     "output_type": "execute_result"
    }
   ],
   "source": [
    "m[:,[2,0,2]] # Fancy indexing: Select entire columns out of order, any number of times"
   ]
  },
  {
   "cell_type": "code",
   "execution_count": 248,
   "id": "a2f143ba",
   "metadata": {},
   "outputs": [
    {
     "data": {
      "text/plain": [
       "array([[ True,  True,  True],\n",
       "       [ True,  True, False],\n",
       "       [False, False, False]])"
      ]
     },
     "execution_count": 248,
     "metadata": {},
     "output_type": "execute_result"
    }
   ],
   "source": [
    "m > 10 # The expression m > 10 evaluate to a Boolean array (with same dimensions as array m)"
   ]
  },
  {
   "cell_type": "code",
   "execution_count": 249,
   "id": "a9e43e0b",
   "metadata": {},
   "outputs": [
    {
     "data": {
      "text/plain": [
       "array([100, 100, 100, 100, 100])"
      ]
     },
     "execution_count": 249,
     "metadata": {},
     "output_type": "execute_result"
    }
   ],
   "source": [
    "m[m>10] # Fancy indexing: The expression m > 10 is itself a Boolean array"
   ]
  },
  {
   "cell_type": "markdown",
   "id": "7b68b6eb",
   "metadata": {},
   "source": [
    "## Mathematical Operations on Data  \n",
    "For Arithmetic operations:\n",
    "\n",
    "• Operators apply on an element-wise basis\n",
    "\n",
    "• Arrays must be the same size"
   ]
  },
  {
   "cell_type": "code",
   "execution_count": 250,
   "id": "5ccc1385",
   "metadata": {},
   "outputs": [],
   "source": [
    "a = np.arange(0,9)"
   ]
  },
  {
   "cell_type": "code",
   "execution_count": 251,
   "id": "80dfccdd",
   "metadata": {},
   "outputs": [
    {
     "data": {
      "text/plain": [
       "array([ 0,  2,  4,  6,  8, 10, 12, 14, 16])"
      ]
     },
     "execution_count": 251,
     "metadata": {},
     "output_type": "execute_result"
    }
   ],
   "source": [
    "a + a"
   ]
  },
  {
   "cell_type": "code",
   "execution_count": 252,
   "id": "5c2109d3",
   "metadata": {},
   "outputs": [
    {
     "data": {
      "text/plain": [
       "array([0, 0, 0, 0, 0, 0, 0, 0, 0])"
      ]
     },
     "execution_count": 252,
     "metadata": {},
     "output_type": "execute_result"
    }
   ],
   "source": [
    "a - a"
   ]
  },
  {
   "cell_type": "code",
   "execution_count": 253,
   "id": "7d66fa58",
   "metadata": {},
   "outputs": [
    {
     "data": {
      "text/plain": [
       "array([ 0,  1,  4,  9, 16, 25, 36, 49, 64])"
      ]
     },
     "execution_count": 253,
     "metadata": {},
     "output_type": "execute_result"
    }
   ],
   "source": [
    "a * a"
   ]
  },
  {
   "cell_type": "code",
   "execution_count": 254,
   "id": "55678019",
   "metadata": {},
   "outputs": [
    {
     "name": "stderr",
     "output_type": "stream",
     "text": [
      "/var/folders/b0/080_bs4s21bcrbfcys80r7vh0000gn/T/ipykernel_81184/583799013.py:3: RuntimeWarning: invalid value encountered in true_divide\n",
      "  a/a\n"
     ]
    },
    {
     "data": {
      "text/plain": [
       "array([nan,  1.,  1.,  1.,  1.,  1.,  1.,  1.,  1.])"
      ]
     },
     "execution_count": 254,
     "metadata": {},
     "output_type": "execute_result"
    }
   ],
   "source": [
    "# Warning on division of zero by zero, but not an error!\n",
    "# Just replaced with \"nan\"\n",
    "a/a"
   ]
  },
  {
   "cell_type": "code",
   "execution_count": 255,
   "id": "ffacbc0e",
   "metadata": {},
   "outputs": [
    {
     "name": "stderr",
     "output_type": "stream",
     "text": [
      "/var/folders/b0/080_bs4s21bcrbfcys80r7vh0000gn/T/ipykernel_81184/3564009353.py:2: RuntimeWarning: divide by zero encountered in true_divide\n",
      "  1/a\n"
     ]
    },
    {
     "data": {
      "text/plain": [
       "array([       inf, 1.        , 0.5       , 0.33333333, 0.25      ,\n",
       "       0.2       , 0.16666667, 0.14285714, 0.125     ])"
      ]
     },
     "execution_count": 255,
     "metadata": {},
     "output_type": "execute_result"
    }
   ],
   "source": [
    "# Also warning for division by zero, not an error, replaced by \"infinity\"\n",
    "1/a"
   ]
  },
  {
   "cell_type": "code",
   "execution_count": 256,
   "id": "43a9c257",
   "metadata": {},
   "outputs": [
    {
     "data": {
      "text/plain": [
       "array([  0,   1,   8,  27,  64, 125, 216, 343, 512])"
      ]
     },
     "execution_count": 256,
     "metadata": {},
     "output_type": "execute_result"
    }
   ],
   "source": [
    "a**3"
   ]
  },
  {
   "cell_type": "code",
   "execution_count": 257,
   "id": "316fccb6",
   "metadata": {},
   "outputs": [
    {
     "data": {
      "text/plain": [
       "array([0.        , 1.        , 1.41421356, 1.73205081, 2.        ,\n",
       "       2.23606798, 2.44948974, 2.64575131, 2.82842712])"
      ]
     },
     "execution_count": 257,
     "metadata": {},
     "output_type": "execute_result"
    }
   ],
   "source": [
    "np.sqrt(a) "
   ]
  },
  {
   "cell_type": "code",
   "execution_count": 258,
   "id": "f5b9d012",
   "metadata": {},
   "outputs": [
    {
     "data": {
      "text/plain": [
       "array([1.00000000e+00, 2.71828183e+00, 7.38905610e+00, 2.00855369e+01,\n",
       "       5.45981500e+01, 1.48413159e+02, 4.03428793e+02, 1.09663316e+03,\n",
       "       2.98095799e+03])"
      ]
     },
     "execution_count": 258,
     "metadata": {},
     "output_type": "execute_result"
    }
   ],
   "source": [
    "np.exp(a)"
   ]
  },
  {
   "cell_type": "code",
   "execution_count": 259,
   "id": "ff26df2a",
   "metadata": {},
   "outputs": [
    {
     "data": {
      "text/plain": [
       "array([ 0.        ,  0.84147098,  0.90929743,  0.14112001, -0.7568025 ,\n",
       "       -0.95892427, -0.2794155 ,  0.6569866 ,  0.98935825])"
      ]
     },
     "execution_count": 259,
     "metadata": {},
     "output_type": "execute_result"
    }
   ],
   "source": [
    "np.sin(a)"
   ]
  },
  {
   "cell_type": "code",
   "execution_count": 260,
   "id": "6f353354",
   "metadata": {},
   "outputs": [
    {
     "name": "stderr",
     "output_type": "stream",
     "text": [
      "/var/folders/b0/080_bs4s21bcrbfcys80r7vh0000gn/T/ipykernel_81184/176755284.py:1: RuntimeWarning: divide by zero encountered in log\n",
      "  np.log(a)\n"
     ]
    },
    {
     "data": {
      "text/plain": [
       "array([      -inf, 0.        , 0.69314718, 1.09861229, 1.38629436,\n",
       "       1.60943791, 1.79175947, 1.94591015, 2.07944154])"
      ]
     },
     "execution_count": 260,
     "metadata": {},
     "output_type": "execute_result"
    }
   ],
   "source": [
    "np.log(a)"
   ]
  },
  {
   "cell_type": "code",
   "execution_count": null,
   "id": "63385b64",
   "metadata": {},
   "outputs": [],
   "source": [
    "# When operating on NumPy arrays, don't forget about broadcasting concepts:\n",
    "a[0:5] = 100 # Scalar broadcasting (example shown above)\n",
    "a + 10 # Scalar broadcasting\n",
    "10 * a # Scalar broadcasting\n",
    "np.ones((2,9)) + np.arange(9) # Array broadcasting (example shown above)\n",
    "a + np.random.rand(2,9)# Array broadcasting: Duplicate row and add random number to each entry\n"
   ]
  },
  {
   "cell_type": "markdown",
   "id": "5ab497aa",
   "metadata": {},
   "source": [
    "## Linear Algebra in NumPy\n",
    "With Arithmetic operations shown above, operators apply on an element-wise basis and thus arrays must be the same size. But Numpy also offers Linear Algebra operators to manipulate arrays as vectors or matrices"
   ]
  },
  {
   "cell_type": "code",
   "execution_count": 261,
   "id": "a21ab65b",
   "metadata": {},
   "outputs": [
    {
     "name": "stdout",
     "output_type": "stream",
     "text": [
      "[[1. 2.]\n",
      " [3. 4.]]\n",
      "[[2. 0.]\n",
      " [1. 3.]]\n"
     ]
    }
   ],
   "source": [
    "a = np.array([[1,2], [3,4]], float)\n",
    "b = np.array([[2,0], [1,3]], float)\n",
    "print(a)\n",
    "print(b)"
   ]
  },
  {
   "cell_type": "code",
   "execution_count": 262,
   "id": "c600c752",
   "metadata": {},
   "outputs": [
    {
     "data": {
      "text/plain": [
       "array([[ 2.,  0.],\n",
       "       [ 3., 12.]])"
      ]
     },
     "execution_count": 262,
     "metadata": {},
     "output_type": "execute_result"
    }
   ],
   "source": [
    "# Element wise multiplication operator \n",
    "a * b # Dimensions of 'a' and 'b' must be the same"
   ]
  },
  {
   "cell_type": "code",
   "execution_count": 263,
   "id": "e3515a5b",
   "metadata": {},
   "outputs": [
    {
     "data": {
      "text/plain": [
       "array([[ 4.,  6.],\n",
       "       [10., 12.]])"
      ]
     },
     "execution_count": 263,
     "metadata": {},
     "output_type": "execute_result"
    }
   ],
   "source": [
    "# Matrix multiplication operator\n",
    "np.matmul(a, b) # Number of columns of 'a' needs be the same as number of rows of 'b'"
   ]
  },
  {
   "cell_type": "code",
   "execution_count": 264,
   "id": "29d257df",
   "metadata": {},
   "outputs": [
    {
     "data": {
      "text/plain": [
       "array([[ 4.,  6.],\n",
       "       [10., 12.]])"
      ]
     },
     "execution_count": 264,
     "metadata": {},
     "output_type": "execute_result"
    }
   ],
   "source": [
    "a @ b # Shortcut: Same as np.matmul(), but shorter to type..."
   ]
  },
  {
   "cell_type": "code",
   "execution_count": 265,
   "id": "e04ed0a9",
   "metadata": {},
   "outputs": [
    {
     "data": {
      "text/plain": [
       "1.7355681882777199"
      ]
     },
     "execution_count": 265,
     "metadata": {},
     "output_type": "execute_result"
    }
   ],
   "source": [
    "np.linalg.norm(a) - np.linalg.norm(b)"
   ]
  },
  {
   "cell_type": "code",
   "execution_count": 266,
   "id": "a9ed67b4",
   "metadata": {},
   "outputs": [
    {
     "data": {
      "text/plain": [
       "-8.0"
      ]
     },
     "execution_count": 266,
     "metadata": {},
     "output_type": "execute_result"
    }
   ],
   "source": [
    "np.linalg.det(a) - np.linalg.det(b)"
   ]
  },
  {
   "cell_type": "markdown",
   "id": "c57d4d08",
   "metadata": {},
   "source": [
    "### Find least square solution to a linear regression problem $Ax = y$\n",
    "\n",
    "In a linear regression problem, we seek $x$ such that $y$ is equal to a linear combination of the column vectors of $A$ (in Linear Algebra, the vector space formed by columns of $A$ is called the *column space of $A$*)\n",
    "\n",
    "If $Ax = y$ has an exact solution, then it can be solved as a simple, linear system of $m$ equations with $n$ unknowns.\n",
    "\n",
    "Else if $Ax = y$ has no solution (i.e. if not possible to find $x$ such that $Ax = y$), the best we can do is find $\\hat{x}$ that makes $A\\hat{x}$ as close as possible to $y$. It's called a Least-Square problem because we seek $\\hat{x}$ such that $||A\\hat{x} - y||$ is as small as possible.\n",
    "\n",
    "$||A\\hat{x} - y||$ is called the least-square error. $\\: \\hat{x}$ is called a least-square solution.\n",
    "\n",
    "The *Orthogonal Decomposition Theorem* says that any vector in $\\mathbb{R}^m$ can be decomposed into a sum of a vector from any subspace of $\\mathbb{R}^m$ (for example $\\mathbb{R}^n$ where $n < m$) and a vector orthogonal to that subspace. Thus, $y = A\\hat{x} + (A\\hat{x} - y)$ where the component vector $(A\\hat{x} - y)$ corresponds to the least-square error and is orthogonal to all vectors in the columns of $A$ (orthogonal to *column space of $A$*). \n",
    "\n",
    "Thus:$$A^T(A\\hat{x} - y) = 0$$\n",
    "\n",
    "$$A^TA\\hat{x} = A^Ty$$       \n",
    "\n",
    "$$\\hat{x} = (A^TA)^{-1} A^Ty$$\n",
    "\n",
    "This is called the \"normal equation\" and provides a solution for $\\hat{x}$.\n",
    "\n",
    "<img src=\"../pictures/OrthogonalDec.png\" width=\"400\">"
   ]
  },
  {
   "cell_type": "code",
   "execution_count": 267,
   "id": "6fb6af4e",
   "metadata": {},
   "outputs": [
    {
     "name": "stdout",
     "output_type": "stream",
     "text": [
      "From matrix calculation, x = (-0.73, 2.55)\n"
     ]
    }
   ],
   "source": [
    "# Advice: Below is an example with m = 4 observations, often m is much larger of course. \n",
    "# But it's easier to think in 3D. If m = 3, the column space of A is a 2D plane in a 3D space,\n",
    "# formed by the two column vectors of A. The vector y in 3D may or may not be in this plane. \n",
    "# Asking if Ax = y is asking if y is in this plane. The least square solution is either x \n",
    "# itself, or an approximation to it in the column space of A. \n",
    "# When m > 3, the concept is the same but the column space of A is an hyperplane (n > 2)\n",
    "\n",
    "A = np.matrix([[1, 1], \n",
    "               [1, 2],\n",
    "               [2, 3],\n",
    "               [2, 4]])\n",
    "\n",
    "y = np.matrix([[1], \n",
    "               [3],\n",
    "               [7],\n",
    "               [9]])\n",
    "\n",
    "# Using an explicit linear algebra development\n",
    "# Projection of y into column space of A (= linear combination of columns of A)\n",
    "AT = np.matrix.transpose(A)\n",
    "ATA = AT @ A\n",
    "ATAi = np.linalg.inv(ATA)\n",
    "ATy = AT @ y\n",
    "x = ATAi @ ATy\n",
    "print('From matrix calculation, x = ({:.2f}, {:.2f})'.format(x[0,0],x[1,0]))"
   ]
  },
  {
   "cell_type": "code",
   "execution_count": 268,
   "id": "fd9235e4",
   "metadata": {},
   "outputs": [
    {
     "name": "stdout",
     "output_type": "stream",
     "text": [
      "From NumPy lstsq solver, x = (-0.73, 2.55)\n",
      "Sum of squared residuals: (6.30, 0.53)\n"
     ]
    }
   ],
   "source": [
    "# Using the NumPy Least Square solver:\n",
    "results = np.linalg.lstsq(A, y, rcond = None)\n",
    "x = results[0]\n",
    "r = results[3]\n",
    "print('From NumPy lstsq solver, x = ({:.2f}, {:.2f})'.format(x[0,0],x[1,0]))\n",
    "print('Sum of squared residuals: ({:.2f}, {:.2f})'.format(r[0], r[1]))"
   ]
  },
  {
   "cell_type": "code",
   "execution_count": 269,
   "id": "4a06ae5b",
   "metadata": {},
   "outputs": [
    {
     "name": "stdout",
     "output_type": "stream",
     "text": [
      "Predicted values of y: (1.82,4.36,6.18,8.73)\n"
     ]
    }
   ],
   "source": [
    "# For each observation in A, here is what the linear regression model would predict:\n",
    "y_hat = A @ x\n",
    "print('Predicted values of y: ({:.2f},{:.2f},{:.2f},{:.2f})'. \\\n",
    "       format(y_hat[0,0],y_hat[1,0],y_hat[2,0],y_hat[3,0]))"
   ]
  },
  {
   "cell_type": "markdown",
   "id": "84e641f5",
   "metadata": {},
   "source": [
    "##  Statistical analysis of data\n",
    "Analyze Data with Aggregation and Statistical Operations "
   ]
  },
  {
   "cell_type": "markdown",
   "id": "e6347abc",
   "metadata": {},
   "source": [
    "### Case Study\n",
    "\n",
    "#### Statistical data analysis of clinical trial results stored on file \n",
    "\n",
    "**Source**: https://swcarpentry.github.io/python-novice-inflammation/02-numpy/index.html\n",
    "\n",
    "A new drug that was claimed to cure arthritis inflammation flare-ups within 3 weeks since initially taking the medication was tested in clinical trials, with key results stored in a CSV file.\n",
    "\n",
    "The CSV file contains the number of inflammation *flare-ups* per day for 60 patients enrolled in the clinical trial. This trial lasted 40 days. Each row corresponds to a patient, and each column corresponds to a day in the trial. Once a patient has her/his first inflammation flare-up she/he takes the medication and waits a few weeks for it to take effect and reduce flare-ups.\n",
    "\n",
    "To see how effective the treatment is we would like to calculate the average inflammation per day across all patients. To assess risks, we also would like to know what was the maximum inflamation reached per patient across all days.\n",
    "\n",
    "The link above contains much more details compared to what we will look at here.\n",
    "\n",
    "#### In short:  \n",
    "Given a dataset of clinical trial inflammation for 60 patients measured daily during 40 days:\n",
    "- What is the maximum inflammation for each patient over all days?\n",
    "- What is the average inflammation over all patients for each day?\n"
   ]
  },
  {
   "cell_type": "code",
   "execution_count": 270,
   "id": "6db6dd5f",
   "metadata": {},
   "outputs": [
    {
     "data": {
      "image/png": "[encoded data removed]",
      "text/plain": [
       "<IPython.core.display.Image object>"
      ]
     },
     "execution_count": 270,
     "metadata": {},
     "output_type": "execute_result"
    }
   ],
   "source": [
    "from IPython.display import Image\n",
    "Image(filename=\"../pictures/Aggregation.png\")"
   ]
  },
  {
   "cell_type": "code",
   "execution_count": 271,
   "id": "f59aec3a",
   "metadata": {},
   "outputs": [
    {
     "name": "stdout",
     "output_type": "stream",
     "text": [
      "(60, 40)\n"
     ]
    }
   ],
   "source": [
    "data = np.loadtxt(fname='MedicalData.csv', delimiter=',')\n",
    "print(data.shape) # 60 patients (rows) traced during 40 days (columns)"
   ]
  },
  {
   "cell_type": "markdown",
   "id": "5be1a33a",
   "metadata": {},
   "source": [
    "### Operation \"over rows\" vs. \"over columns\""
   ]
  },
  {
   "cell_type": "code",
   "execution_count": 272,
   "id": "9e9f5080",
   "metadata": {},
   "outputs": [
    {
     "name": "stdout",
     "output_type": "stream",
     "text": [
      "=== Maximum inflammation per patient ===\n"
     ]
    },
    {
     "data": {
      "text/plain": [
       "array([18., 18., 19., 17., 17., 18., 17., 20., 17., 18., 18., 18., 17.,\n",
       "       16., 17., 18., 19., 19., 17., 19., 19., 16., 17., 15., 17., 17.,\n",
       "       18., 17., 20., 17., 16., 19., 15., 15., 19., 17., 16., 17., 19.,\n",
       "       16., 18., 19., 16., 19., 18., 16., 19., 15., 16., 18., 14., 20.,\n",
       "       17., 15., 17., 16., 17., 19., 18., 18.])"
      ]
     },
     "execution_count": 272,
     "metadata": {},
     "output_type": "execute_result"
    }
   ],
   "source": [
    "print(\"=== Maximum inflammation per patient ===\")\n",
    "np.max(data, axis=1)"
   ]
  },
  {
   "cell_type": "code",
   "execution_count": 273,
   "id": "76e73b04",
   "metadata": {},
   "outputs": [
    {
     "data": {
      "text/plain": [
       "(60,)"
      ]
     },
     "execution_count": 273,
     "metadata": {},
     "output_type": "execute_result"
    }
   ],
   "source": [
    "np.max(data, axis=1).shape"
   ]
  },
  {
   "cell_type": "code",
   "execution_count": 274,
   "id": "5f7f85e1",
   "metadata": {},
   "outputs": [
    {
     "name": "stdout",
     "output_type": "stream",
     "text": [
      "=== Average inflammation per day ===\n"
     ]
    },
    {
     "data": {
      "text/plain": [
       "array([ 0.        ,  0.45      ,  1.11666667,  1.75      ,  2.43333333,\n",
       "        3.15      ,  3.8       ,  3.88333333,  5.23333333,  5.51666667,\n",
       "        5.95      ,  5.9       ,  8.35      ,  7.73333333,  8.36666667,\n",
       "        9.5       ,  9.58333333, 10.63333333, 11.56666667, 12.35      ,\n",
       "       13.25      , 11.96666667, 11.03333333, 10.16666667, 10.        ,\n",
       "        8.66666667,  9.15      ,  7.25      ,  7.33333333,  6.58333333,\n",
       "        6.06666667,  5.95      ,  5.11666667,  3.6       ,  3.3       ,\n",
       "        3.56666667,  2.48333333,  1.5       ,  1.13333333,  0.56666667])"
      ]
     },
     "execution_count": 274,
     "metadata": {},
     "output_type": "execute_result"
    }
   ],
   "source": [
    "print(\"=== Average inflammation per day ===\")\n",
    "np.mean(data, axis=0) # Mean \"over the rows\" returns 1 result \"per column\" = array of 40 values"
   ]
  },
  {
   "cell_type": "code",
   "execution_count": 275,
   "id": "6aa83ca6",
   "metadata": {},
   "outputs": [
    {
     "data": {
      "text/plain": [
       "(40,)"
      ]
     },
     "execution_count": 275,
     "metadata": {},
     "output_type": "execute_result"
    }
   ],
   "source": [
    "np.mean(data, axis=0).shape"
   ]
  },
  {
   "cell_type": "code",
   "execution_count": 276,
   "id": "50736e12",
   "metadata": {},
   "outputs": [
    {
     "name": "stdout",
     "output_type": "stream",
     "text": [
      "=== Average inflammation per patient ===\n"
     ]
    },
    {
     "data": {
      "text/plain": [
       "array([5.45 , 5.425, 6.1  , 5.9  , 5.55 , 6.225, 5.975, 6.65 , 6.625,\n",
       "       6.525, 6.775, 5.8  , 6.225, 5.75 , 5.225, 6.3  , 6.55 , 5.7  ,\n",
       "       5.85 , 6.55 , 5.775, 5.825, 6.175, 6.1  , 5.8  , 6.425, 6.05 ,\n",
       "       6.025, 6.175, 6.55 , 6.175, 6.35 , 6.725, 6.125, 7.075, 5.725,\n",
       "       5.925, 6.15 , 6.075, 5.75 , 5.975, 5.725, 6.3  , 5.9  , 6.75 ,\n",
       "       5.925, 7.225, 6.15 , 5.95 , 6.275, 5.7  , 6.1  , 6.825, 5.975,\n",
       "       6.725, 5.7  , 6.25 , 6.4  , 7.05 , 5.9  ])"
      ]
     },
     "execution_count": 276,
     "metadata": {},
     "output_type": "execute_result"
    }
   ],
   "source": [
    "print(\"=== Average inflammation per patient ===\")\n",
    "np.mean(data, axis=1) # Mean \"over the columns\" returns 1 result \"per row\" = array of 60 values"
   ]
  },
  {
   "cell_type": "code",
   "execution_count": 277,
   "id": "de83506a",
   "metadata": {},
   "outputs": [
    {
     "data": {
      "text/plain": [
       "(60,)"
      ]
     },
     "execution_count": 277,
     "metadata": {},
     "output_type": "execute_result"
    }
   ],
   "source": [
    "np.mean(data, axis=1).shape"
   ]
  },
  {
   "cell_type": "markdown",
   "id": "63874d2a",
   "metadata": {},
   "source": [
    "### More examples of basic statistical data analysis"
   ]
  },
  {
   "cell_type": "code",
   "execution_count": null,
   "id": "d9e472bc",
   "metadata": {},
   "outputs": [],
   "source": [
    "print(\"Average:\",np.mean(data, axis=0))\n",
    "print(\"Standard Deviation:\", np.std(data, axis=0))\n",
    "print(\"Min:\", np.min(data, axis=0))\n",
    "print(\"Max:\", np.max(data, axis=0))\n",
    "print(\"Sum:\", np.sum(data, axis=0))\n",
    "print(\"Argmax:\", np.max(data, axis=1)) # argmax over days (=columns) returns, for each patient\n",
    "                                       # the day when each patient had maximum inflammation"
   ]
  },
  {
   "cell_type": "code",
   "execution_count": null,
   "id": "0dc0a54a",
   "metadata": {},
   "outputs": [],
   "source": [
    "print(\"Average over entire dataset: {:.1f}\".format(np.mean(data)))\n",
    "print(\"Standard Deviation over entire dataset: {:.1f}\".format(np.std(data)))\n",
    "print(\"Minimum over entire dataset: {:.1f}\".format(np.min(data)))\n",
    "print(\"Maximum over entire dataset: {:.1f}\".format(np.max(data)))\n"
   ]
  }
 ],
 "metadata": {
  "kernelspec": {
   "display_name": "Python 3 (ipykernel)",
   "language": "python",
   "name": "python3"
  },
  "language_info": {
   "codemirror_mode": {
    "name": "ipython",
    "version": 3
   },
   "file_extension": ".py",
   "mimetype": "text/x-python",
   "name": "python",
   "nbconvert_exporter": "python",
   "pygments_lexer": "ipython3",
   "version": "3.9.12"
  }
 },
 "nbformat": 4,
 "nbformat_minor": 5
}
