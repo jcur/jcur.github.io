{
 "cells": [
  {
   "cell_type": "markdown",
   "id": "416b7f1b",
   "metadata": {
    "slideshow": {
     "slide_type": "slide"
    }
   },
   "source": [
    "## **DS-GA 1007 $\\:$ | $\\,$ Lecture 10**\n",
    "\n",
    "## **Programming for Data Science**\n",
    "\n",
    "<br>\n",
    "\n",
    "---\n",
    "\n",
    "#### Jeremy Curuksu, PhD\n",
    "\n",
    "#### NYU Center for Data Science\n",
    "\n",
    "#### jeremy.cur@nyu.edu\n",
    "\n",
    "#### November 28, 2022\n"
   ]
  },
  {
   "cell_type": "markdown",
   "id": "acd92962",
   "metadata": {
    "slideshow": {
     "slide_type": "slide"
    }
   },
   "source": [
    "## **Pandas: Advanced Data Objects (Part 4)**\n",
    "\n",
    "<br>\n",
    "\n",
    "### **Last Lecture**:\n",
    "\n",
    "### ▶ Statistical Analysis with Group Operations in Pandas \n",
    "\n",
    "### (`groupby`, `aggregate`, `filter`, `transform`, `apply`)\n",
    "\n",
    "### ▶  Merging Data Frames in Pandas\n",
    "\n",
    "<br>\n",
    "\n",
    "### **Today**:\n",
    "\n",
    "### ▶ Manipulating time series with Pandas\n",
    "\n",
    "### ▶ Case studies analyzing and vizualizing time series ( `resample`, `shift`, `rolling`, `groupby` )\n",
    "\n",
    "### ▶ Extra time for class survey"
   ]
  },
  {
   "cell_type": "markdown",
   "id": "96ce5746",
   "metadata": {
    "slideshow": {
     "slide_type": "slide"
    }
   },
   "source": [
    "# Topics covered on Pandas in this course\n",
    "\n",
    "• **Part 1**: Pandas series and data frames, indexing and selection, fancy indexing, Boolean and hierarchical indexing, reshaping\n",
    "\n",
    "• **Part 2**: Operating on data with Pandas, handling missing values\n",
    "\n",
    "• **Part 3**: Statistical analysis with Pandas (aggregation, group operations, merging, joining)\n",
    "\n",
    "• **Part 4**: Manipulating, analyzing and visualizing time series with Pandas\n"
   ]
  },
  {
   "cell_type": "markdown",
   "id": "c0be79b5",
   "metadata": {
    "slideshow": {
     "slide_type": "slide"
    }
   },
   "source": [
    "\n",
    "# Introduction to time series in Pandas\n",
    "\n",
    "Most of the material in this lecture is based on contents from the book \"Python Data Science Handbook\" by Jake VanderPlas: https://jakevdp.github.io/PythonDataScienceHandbook/03.11-working-with-time-series.html\n",
    "\n",
    "Pandas was originally developed in the context of financial modeling and has an extensive set of tools for working with dates, times, and time-indexed data.\n",
    "\n",
    "\n",
    "In Pandas, date and time can be either:\n",
    "\n",
    "\n",
    "- **Time stamps** reference moments in time e.g., *Monday 2022-11-28 7.00PM EST*\n",
    "\n",
    "\n",
    "\n",
    "- **Time intervals** and **periods** reference lengths of time between a beginning and end point e.g., *the year 2021, a 24h period*\n",
    "\n",
    "\n",
    "\n",
    "- **Time durations** or *time deltas* reference exact lengths of time e.g., *30 seconds*\n",
    "\n",
    "\n",
    "\n"
   ]
  },
  {
   "cell_type": "markdown",
   "id": "948c819e",
   "metadata": {
    "slideshow": {
     "slide_type": "slide"
    }
   },
   "source": [
    "# Import Pandas as a library:\n"
   ]
  },
  {
   "cell_type": "code",
   "execution_count": null,
   "id": "a93dcd42",
   "metadata": {},
   "outputs": [],
   "source": [
    "import pandas as pd # Abbreviations \"pd\" is semi-standardized...\n",
    "import numpy as np  # We will be using NumPy occasionally in this lecture"
   ]
  },
  {
   "cell_type": "markdown",
   "id": "b43bd178",
   "metadata": {},
   "source": [
    "# 1) Defining Dates and Times in Python\n"
   ]
  },
  {
   "cell_type": "markdown",
   "id": "479e455e",
   "metadata": {},
   "source": [
    "## Python ``datetime`` object\n",
    "\n",
    "**Create a `datetime` object with the `datetime` library**\n",
    "\n",
    "We can manually create a date using the ``datetime`` function:"
   ]
  },
  {
   "cell_type": "code",
   "execution_count": null,
   "id": "1477cee9",
   "metadata": {},
   "outputs": [],
   "source": [
    "from datetime import datetime\n",
    "\n",
    "date = datetime(year = 2022, month = 11, day = 28)\n",
    "date"
   ]
  },
  {
   "cell_type": "code",
   "execution_count": null,
   "id": "7964b4f9",
   "metadata": {},
   "outputs": [],
   "source": [
    "date2 = datetime(year = 2022, month = 12, day = 5)\n",
    "\n",
    "# Python automatically converts between date vs. time objects\n",
    "time = date2 - date\n",
    "time"
   ]
  },
  {
   "cell_type": "markdown",
   "id": "b50baac2",
   "metadata": {},
   "source": [
    "**Convert a string into a `datetime` object with the `dateutil` library**\n",
    "\n",
    "We can parse dates from different string formats using the ``dateutil`` function:"
   ]
  },
  {
   "cell_type": "code",
   "execution_count": null,
   "id": "4aed0c64",
   "metadata": {},
   "outputs": [],
   "source": [
    "from dateutil import parser\n",
    "\n",
    "date = parser.parse(\"28th of November 2022\")\n",
    "date"
   ]
  },
  {
   "cell_type": "markdown",
   "id": "b7823406",
   "metadata": {},
   "source": [
    "**Access attributes of a `datetime` object with the `strftime()` method**\n",
    "\n",
    "We can access attributes of ``datetime`` objects, such as the day of the week, using the ``strftime()`` method:"
   ]
  },
  {
   "cell_type": "code",
   "execution_count": null,
   "id": "a22c500b",
   "metadata": {},
   "outputs": [],
   "source": [
    "date.strftime('%A')"
   ]
  },
  {
   "cell_type": "markdown",
   "id": "a984f974",
   "metadata": {},
   "source": [
    "\n",
    "The standard string format codes for printing dates (such as ``\"%A\"``) can be found in the [strftime section](https://docs.python.org/3/library/datetime.html#strftime-and-strptime-behavior) of the Python's [datetime documentation](https://docs.python.org/3/library/datetime.html)\n",
    "(also check out [dateutil's online documentation](http://labix.org/python-dateutil), and the package [pytz](http://pytz.sourceforge.net/) for working with time zones)."
   ]
  },
  {
   "cell_type": "markdown",
   "id": "6728050c",
   "metadata": {},
   "source": [
    "## NumPy arrays of times: ``datetime64``\n",
    "\n",
    "Python ``datetime`` and ``dateutil`` are flexible and easy to use, but do not scale well to large data sets, for the same reasons that *list* objects do not scale well to large data sets.\n",
    "\n",
    "**The ``datetime64`` NumPy object**\n",
    "\n",
    "NumPy offers the ``datetime64`` data type which encodes dates as 64-bit integers, and allows vectorized operations on homogeneous arrays of dates represented compactly:"
   ]
  },
  {
   "cell_type": "code",
   "execution_count": null,
   "id": "5ac1231a",
   "metadata": {
    "scrolled": true
   },
   "outputs": [],
   "source": [
    "import numpy as np\n",
    "\n",
    "date = np.array('2022-11-28', dtype=np.datetime64)\n",
    "date"
   ]
  },
  {
   "cell_type": "markdown",
   "id": "71fe8159",
   "metadata": {},
   "source": [
    "Operators applied to `datetime64` objects recast integers into `datetime64` objects:"
   ]
  },
  {
   "cell_type": "code",
   "execution_count": null,
   "id": "1d4afd58",
   "metadata": {},
   "outputs": [],
   "source": [
    "date + 10"
   ]
  },
  {
   "cell_type": "markdown",
   "id": "5caf9ddd",
   "metadata": {},
   "source": [
    "**Create an array of `datetime64` objects with the `arange()` NumPy method**"
   ]
  },
  {
   "cell_type": "code",
   "execution_count": null,
   "id": "2e311c10",
   "metadata": {},
   "outputs": [],
   "source": [
    "np.arange(date, date + 10, dtype = np.datetime64) "
   ]
  },
  {
   "cell_type": "code",
   "execution_count": null,
   "id": "d88d5223",
   "metadata": {},
   "outputs": [],
   "source": [
    "# Or more directly... \n",
    "date + np.arange(10) # Vectorized operation on NumPy date objects"
   ]
  },
  {
   "cell_type": "markdown",
   "id": "1352d99c",
   "metadata": {},
   "source": [
    "**Trade-off between time resolution and maximum time span**\n",
    "\n",
    "``datetime64`` and ``timedelta64`` objects are built on a fundamental time unit and limited to 64-bit precision, meaning the range of encodable times is 264 times this fundamental unit. Thus, ``datetime64`` imposes a trade-off between time resolution and maximum time span."
   ]
  },
  {
   "cell_type": "code",
   "execution_count": null,
   "id": "22b0cf43",
   "metadata": {},
   "outputs": [],
   "source": [
    "np.datetime64('2022-11-28') # Day resolution"
   ]
  },
  {
   "cell_type": "code",
   "execution_count": null,
   "id": "e14c2139",
   "metadata": {},
   "outputs": [],
   "source": [
    "np.datetime64('2022-11-28 18:55') # Minute resolution"
   ]
  },
  {
   "cell_type": "code",
   "execution_count": null,
   "id": "58fc8035",
   "metadata": {
    "scrolled": true
   },
   "outputs": [],
   "source": [
    "np.datetime64('2022-11-28 18:55:10.50','ns') # Nanosecond resolution"
   ]
  },
  {
   "cell_type": "markdown",
   "id": "22eb2ef8",
   "metadata": {},
   "source": [
    "Below are available `datetime64` format codes defining the resolution of the fundamental time unit and its associated time span:"
   ]
  },
  {
   "cell_type": "markdown",
   "id": "e3215c29",
   "metadata": {},
   "source": [
    "|Code    | Meaning     | Time span (relative) | Time span (absolute)   |\n",
    "|--------|-------------|----------------------|------------------------|\n",
    "| ``Y``  | Year\t       | ± 9.2e18 years       | [9.2e18 BC, 9.2e18 AD] |\n",
    "| ``M``  | Month       | ± 7.6e17 years       | [7.6e17 BC, 7.6e17 AD] |\n",
    "| ``W``  | Week\t       | ± 1.7e17 years       | [1.7e17 BC, 1.7e17 AD] |\n",
    "| ``D``  | Day         | ± 2.5e16 years       | [2.5e16 BC, 2.5e16 AD] |\n",
    "| ``h``  | Hour        | ± 1.0e15 years       | [1.0e15 BC, 1.0e15 AD] |\n",
    "| ``m``  | Minute      | ± 1.7e13 years       | [1.7e13 BC, 1.7e13 AD] |\n",
    "| ``s``  | Second      | ± 2.9e12 years       | [ 2.9e9 BC, 2.9e9 AD]  |\n",
    "| ``ms`` | Millisecond | ± 2.9e9 years        | [ 2.9e6 BC, 2.9e6 AD]  |\n",
    "| ``us`` | Microsecond | ± 2.9e6 years        | [290301 BC, 294241 AD] |\n",
    "| ``ns`` | Nanosecond  | ± 292 years          | [ 1678 AD, 2262 AD]    |\n",
    "| ``ps`` | Picosecond  | ± 106 days           | [ 1969 AD, 1970 AD]    |\n",
    "| ``fs`` | Femtosecond | ± 2.6 hours          | [ 1969 AD, 1970 AD]    |\n",
    "| ``as`` | Attosecond  | ± 9.2 seconds        | [ 1969 AD, 1970 AD]    |"
   ]
  },
  {
   "cell_type": "markdown",
   "id": "3db87bb5",
   "metadata": {},
   "source": [
    "Note the time zone is automatically set to the local time on the computer executing the code.\n"
   ]
  },
  {
   "cell_type": "markdown",
   "id": "7c764cd3",
   "metadata": {},
   "source": [
    "# 2) Manipulating Time Series with Pandas\n"
   ]
  },
  {
   "cell_type": "markdown",
   "id": "e8ca119f",
   "metadata": {},
   "source": [
    "## Pandas offers three types of date and time objects \n",
    "\n",
    "1. ``Timestamp`` with associated index structure ``DatetimeIndex`` \n",
    "\n",
    "2. ``Period`` with associated index structure ``PeriodIndex``\n",
    "\n",
    "3. ``Timedelta`` with associated index structure ``TimedeltaIndex``\n"
   ]
  },
  {
   "cell_type": "markdown",
   "id": "c64379fd",
   "metadata": {},
   "source": [
    "## The ``Timestamp`` Pandas object\n",
    "\n",
    "* Pandas offers the ``Timestamp`` object, which combines the ease-of-use of ``datetime`` and ``dateutil`` with the efficient storage and vectorized interface of ``datetime64``\n",
    "\n",
    "\n",
    "* The `DatetimeIndex` object is used to index Pandas data frames by `Timestamp`. Pandas constructs a ``DatetimeIndex`` whenever it is given an array of ``Timestamp`` objects\n"
   ]
  },
  {
   "cell_type": "markdown",
   "id": "4a145df7",
   "metadata": {},
   "source": [
    "### Create a `Timestamp` object using the `to_datetime` Pandas method"
   ]
  },
  {
   "cell_type": "code",
   "execution_count": null,
   "id": "67cf2fdd",
   "metadata": {
    "scrolled": true
   },
   "outputs": [],
   "source": [
    "date = pd.to_datetime(\"November 28th 2022\")\n",
    "date "
   ]
  },
  {
   "cell_type": "code",
   "execution_count": null,
   "id": "61cbd6f3",
   "metadata": {
    "scrolled": true
   },
   "outputs": [],
   "source": [
    "dates = pd.to_datetime([datetime(2022, 11, 28), '29th of November, 2022',\n",
    "                       '2022-Nov-30', '12-01-2022', '20221202'])\n",
    "dates"
   ]
  },
  {
   "cell_type": "markdown",
   "id": "5114fbe5",
   "metadata": {},
   "source": [
    "The `strftime()` method can be used to access attributes of `Timestamp` objects (usage identical to usage for `datetime` objects)"
   ]
  },
  {
   "cell_type": "code",
   "execution_count": null,
   "id": "46aee1c2",
   "metadata": {
    "scrolled": true
   },
   "outputs": [],
   "source": [
    "date.strftime('%A')"
   ]
  },
  {
   "cell_type": "markdown",
   "id": "2253ccec",
   "metadata": {},
   "source": [
    "### Pandas automatically converts between date and time objects"
   ]
  },
  {
   "cell_type": "code",
   "execution_count": null,
   "id": "c4426a28",
   "metadata": {},
   "outputs": [],
   "source": [
    "dates - dates[0]"
   ]
  },
  {
   "cell_type": "markdown",
   "id": "ad9e32cc",
   "metadata": {},
   "source": [
    "## The `DatetimeIndex` Pandas object \n",
    "\n",
    "* The `DatetimeIndex` object is used to index Pandas data frames by `Timestamp`.\n",
    "\n",
    "\n",
    "* Pandas constructs a ``DatetimeIndex`` whenever it is given an array of ``Timestamp`` objects."
   ]
  },
  {
   "cell_type": "markdown",
   "id": "be78cd13",
   "metadata": {},
   "source": [
    "### Create a ``DatetimeIndex`` object using the `DatetimeIndex()` Pandas method"
   ]
  },
  {
   "cell_type": "code",
   "execution_count": null,
   "id": "3b148d3d",
   "metadata": {},
   "outputs": [],
   "source": [
    "index = pd.DatetimeIndex(['2022-11-28', \n",
    "                          '2022-11-29',\n",
    "                          '2022-11-30', \n",
    "                          '2022-12-01',\n",
    "                          '2022-12-02',\n",
    "                          '2022-12-03',\n",
    "                          '2022-12-04',\n",
    "                          '2022-12-05',\n",
    "                          '2022-12-06',\n",
    "                          '2022-12-07'\n",
    "                         ])\n",
    "\n",
    "data = pd.Series(range(100, 100 + len(index)), index = index)\n",
    "data"
   ]
  },
  {
   "cell_type": "markdown",
   "id": "dd628493",
   "metadata": {},
   "source": [
    "### Create a ``DatetimeIndex`` object from an array of time objects itself created using `arange()` combined with `to_timedelta`\n",
    "\n",
    "We can't use `arange()` directly because recasting of integers (as we saw with NumPy) is no longer supported in Pandas. Instead we can use the `to_timedelta` Pandas method to recast an array of integers created with `arange()` into an array of `timedelta` objects.\n",
    "\n",
    "Operators applied to `Timestamp` objects recast `timedelta` objects into `Timestamp` objects."
   ]
  },
  {
   "cell_type": "code",
   "execution_count": null,
   "id": "bbe9e58f",
   "metadata": {},
   "outputs": [],
   "source": [
    "date = pd.to_datetime(\"November 28st 2022\")\n",
    "\n",
    "index = date + pd.to_timedelta(np.arange(10), 'D')\n",
    "index"
   ]
  },
  {
   "cell_type": "code",
   "execution_count": null,
   "id": "159f2c91",
   "metadata": {},
   "outputs": [],
   "source": [
    "# Again let's use this DatetimeIndex object to index a data frame\n",
    "data = pd.Series(range(100, 100 + len(index)), index = index)\n",
    "data"
   ]
  },
  {
   "cell_type": "markdown",
   "id": "9ca46dea",
   "metadata": {},
   "source": [
    "### Create a ``DatetimeIndex`` object using the `date_range()` Pandas method\n",
    "\n",
    "Pandas offers the method ``date_range()`` to create regular sequences of dates, which accepts a start date, an end date, and an optional frequency code. By default, the frequency is one day:"
   ]
  },
  {
   "cell_type": "code",
   "execution_count": null,
   "id": "54320273",
   "metadata": {
    "scrolled": true
   },
   "outputs": [],
   "source": [
    "pd.date_range('2022-11-28', '2022-12-31')"
   ]
  },
  {
   "cell_type": "markdown",
   "id": "a5b510b3",
   "metadata": {},
   "source": [
    "The date range can also be specified with a start date and a number of periods:\n"
   ]
  },
  {
   "cell_type": "code",
   "execution_count": null,
   "id": "7113503a",
   "metadata": {},
   "outputs": [],
   "source": [
    "pd.date_range('2022-11-28', periods=10)"
   ]
  },
  {
   "cell_type": "markdown",
   "id": "d929cdb5",
   "metadata": {},
   "source": [
    "The length of each period can be modified using the `freq` argument, which defaults to D (days). For example, here is a range of 10 periods of 4 hours each, starting today:"
   ]
  },
  {
   "cell_type": "code",
   "execution_count": null,
   "id": "1ac5fb0c",
   "metadata": {},
   "outputs": [],
   "source": [
    "pd.date_range('2022-11-28', periods=10, freq='4H')"
   ]
  },
  {
   "cell_type": "markdown",
   "id": "869610b8",
   "metadata": {},
   "source": [
    "As another example, here is a sequence of *durations* increasing by an hour:"
   ]
  },
  {
   "cell_type": "code",
   "execution_count": null,
   "id": "533d2c59",
   "metadata": {},
   "outputs": [],
   "source": [
    "pd.timedelta_range(0, periods=10, freq='H')"
   ]
  },
  {
   "cell_type": "markdown",
   "id": "802a0fdc",
   "metadata": {},
   "source": [
    "### Pandas Frequencies \n",
    "\n",
    "The table below summarizes the main codes available to specify a time frequency in Pandas:"
   ]
  },
  {
   "cell_type": "markdown",
   "id": "17bc9674",
   "metadata": {},
   "source": [
    "| Code   | Description         | Code   | Description          |\n",
    "|--------|---------------------|--------|----------------------|\n",
    "| ``D``  | Calendar day        | ``B``  | Business day         |\n",
    "| ``W``  | Weekly              |        |                      |\n",
    "| ``M``  | Month end           | ``BM`` | Business month end   |\n",
    "| ``Q``  | Quarter end         | ``BQ`` | Business quarter end |\n",
    "| ``A``  | Year end            | ``BA`` | Business year end    |\n",
    "| ``H``  | Hours               | ``BH`` | Business hours       |\n",
    "| ``T``  | Minutes             |        |                      |\n",
    "| ``S``  | Seconds             |        |                      |\n",
    "| ``L``  | Milliseconds         |        |                      |\n",
    "| ``U``  | Microseconds        |        |                      |\n",
    "| ``N``  | nanoseconds         |        |                      |"
   ]
  },
  {
   "cell_type": "markdown",
   "id": "168b6141",
   "metadata": {},
   "source": [
    "### Indexing of data frames based on `DatetimeIndex`"
   ]
  },
  {
   "cell_type": "code",
   "execution_count": null,
   "id": "e348f196",
   "metadata": {
    "scrolled": true
   },
   "outputs": [],
   "source": [
    "# Basic operation on data indexed by time stamps:\n",
    "data - data[0] "
   ]
  },
  {
   "cell_type": "code",
   "execution_count": null,
   "id": "abb74d88",
   "metadata": {},
   "outputs": [],
   "source": [
    "# Slicing of data indexed by time stamps:\n",
    "data['2022-11-28':'2022-12-01'] "
   ]
  },
  {
   "cell_type": "code",
   "execution_count": null,
   "id": "801cacf2",
   "metadata": {},
   "outputs": [],
   "source": [
    "# Temporal order matters:\n",
    "data['2022-11-30':'2022-11-28'] "
   ]
  },
  {
   "cell_type": "code",
   "execution_count": null,
   "id": "02f3c16c",
   "metadata": {},
   "outputs": [],
   "source": [
    "# Semantically a new type of hierarchical indexing:\n",
    "data['2022']"
   ]
  },
  {
   "cell_type": "markdown",
   "id": "6d0eca55",
   "metadata": {},
   "source": [
    "# 3) Analyzing and Visualizing Time Series\n",
    "\n",
    "Let's apply the above on case studies, and introduce some time series analysis methods: \n",
    "\n",
    "* **Resampling** time series\n",
    "\n",
    "\n",
    "* **Shifting** time series\n",
    "\n",
    "\n",
    "* **Rolling Windows** on time series"
   ]
  },
  {
   "cell_type": "markdown",
   "id": "aa96e433",
   "metadata": {},
   "source": [
    "## Use Case 1: Financial Stock Trading "
   ]
  },
  {
   "cell_type": "code",
   "execution_count": null,
   "id": "bf1559aa",
   "metadata": {
    "scrolled": true
   },
   "outputs": [],
   "source": [
    "from pandas_datareader import data\n",
    "\n",
    "amzn = data.DataReader('AMZN', start = '2010', end = '2023', \n",
    "                       data_source = 'yahoo') \n",
    "\n",
    "amzn.tail()"
   ]
  },
  {
   "cell_type": "code",
   "execution_count": null,
   "id": "ea1bd100",
   "metadata": {},
   "outputs": [],
   "source": [
    "from matplotlib import pyplot as plt\n",
    "amazoncolor = [1, 0.6, 0]\n",
    "\n",
    "amzn = amzn['Close'] # Let's focus on closing price for simplicity\n",
    "\n",
    "amzn.plot(color = amazoncolor);"
   ]
  },
  {
   "cell_type": "markdown",
   "id": "8e5abec3",
   "metadata": {},
   "source": [
    "### Resampling time series\n",
    "\n",
    "Time series can be resampled at different frequencies, for example to report the average of each year using the `resample` method, or the value *at the end* of each year using the `asfreq` method:"
   ]
  },
  {
   "cell_type": "code",
   "execution_count": null,
   "id": "4b80e045",
   "metadata": {
    "scrolled": true
   },
   "outputs": [],
   "source": [
    "amzn.plot(alpha=0.5, style = '-')\n",
    "\n",
    "amzn.resample('BA').mean().plot(style = ':')\n",
    "\n",
    "amzn.asfreq('BA').plot(style = '--')\n",
    "\n",
    "plt.legend(['input', 'mean/y', 'EoY'], loc = 'upper left');"
   ]
  },
  {
   "cell_type": "markdown",
   "id": "05e98c92",
   "metadata": {},
   "source": [
    "### Shifting time series\n",
    "\n",
    "Time series can be shifted by a preset time,  using the method `shift()` to shift the data against the original indices, or using the method `tshift()` to shift the indices. In both cases, the shift is specified in multiples of a frequency. **Positive shifts move the data forward in time, negative shifts move the data backward in time**.\n",
    "\n",
    "Here is an example using `shift()` that shifts the Amazon stock price by 365 days backward in time, and divides the shifted time series by the original time series to compute the 1-year return on investment for the Amazon stock over the timeline of the dataset:"
   ]
  },
  {
   "cell_type": "code",
   "execution_count": null,
   "id": "07198efa",
   "metadata": {
    "scrolled": false
   },
   "outputs": [],
   "source": [
    "# Apply a frequency to the data\n",
    "amzn = amzn.asfreq('D', method = 'pad')\n",
    "\n",
    "# Compute the 1-year ROI\n",
    "ROI = 100 * (amzn.shift(-365) / amzn - 1)\n",
    "\n",
    "# Plot the 1-year ROI against time line of the dataset\n",
    "ROI.plot(color = amazoncolor)\n",
    "plt.ylabel('% 1-year ROI');"
   ]
  },
  {
   "cell_type": "markdown",
   "id": "cd14e240",
   "metadata": {},
   "source": [
    "### Rolling Windows on time series\n",
    "\n",
    "Time series can be aggregated and summarized using any of the `groupby` methods seen in the previous lecture (which we will illustrate in the next case study).\n",
    "\n",
    "This operation is so common when analyzing and vizualizing time series (to *smooth* potentially noisy time series), that Pandas offers the method `rolling` to quickly create rolling windows on time series, and adds custom options (e.g., centering aggregate values on each window).\n",
    "\n",
    "Here is an example to vizualize the one-year centered rolling mean and standard deviation of the Amazon stock prices:"
   ]
  },
  {
   "cell_type": "code",
   "execution_count": null,
   "id": "baf991e7",
   "metadata": {
    "scrolled": true
   },
   "outputs": [],
   "source": [
    "rolling = amzn.rolling(365, center = True)\n",
    "\n",
    "ts = pd.DataFrame({'input': amzn,\n",
    "                     'one-year rolling mean': rolling.mean(),\n",
    "                     'one-year rolling std dev': rolling.std()})\n",
    "\n",
    "ax = ts.plot(style = ['-', '--', ':'])\n",
    "ax.lines[0].set_alpha(0.3)"
   ]
  },
  {
   "cell_type": "markdown",
   "id": "6e182bf7",
   "metadata": {},
   "source": [
    "Note the subtle difference between using `resample` and `rolling` even for the same statistic e.g., mean per year: The resampling approach computes a mean per year every year, while the rolling window approach computes a mean per year every day.\n",
    "\n",
    "As with `groupby` operations, the `aggregate()` and `apply()` methods can be used for custom rolling computations. We will look at example of `groupby` operations on time series in the next case study (see below).\n",
    "\n"
   ]
  },
  {
   "cell_type": "markdown",
   "id": "e411e275",
   "metadata": {},
   "source": [
    "### For more analyses specifically on *financial stock market* data:\n",
    "\n",
    "There are excellent open-source packages available that can accelerate data analysis and modeling for specific types of datasets. For financial stock market datasets, the library `ta` can be used to quickly compute standard financial indicators"
   ]
  },
  {
   "cell_type": "code",
   "execution_count": null,
   "id": "bbe6b130",
   "metadata": {},
   "outputs": [],
   "source": [
    "# !pip install ta # \"Technical Analysis\" of financial time series datasets\n",
    "from ta import add_all_ta_features\n",
    "\n",
    "amzn = data.DataReader('AMZN', start = '2010', end = '2023', \n",
    "                       data_source = 'yahoo') \n",
    "\n",
    "financial_ind = add_all_ta_features(amzn, open='Open', high='High', low='Low', close='Close', volume='Volume')\n",
    "financial_ind.shape"
   ]
  },
  {
   "cell_type": "code",
   "execution_count": null,
   "id": "0582a95d",
   "metadata": {},
   "outputs": [],
   "source": [
    "financial_ind"
   ]
  },
  {
   "cell_type": "markdown",
   "id": "795e9df6",
   "metadata": {},
   "source": [
    "## Use Case 2: Seattle Bike Riding\n",
    "\n",
    "The Fremont Bridge Bicycle Counter began operation in October 2012 and **records the number of bikes that cross the bridge using the bicycle pathways**. Inductive loops on the east and west pathways count the passing of bicycles regardless of travel direction. The data consists of a date/time column: `Date`, an east pathway count: `Fremont Bridge East Sidewalk`, a west pathway count: `Fremont Bridge West Sidewalk`, and the total count of both sidewalks: `Fremont Bridge Total`. \n",
    "\n",
    "**The count variables represent the total number of bicycles detected during 1-hour periods specified in the column `Date`**. Direction of travel is not specified, but in general most traffic on the Fremont Bridge East sidewalk is travelling northbound and most traffic on the Fremont Bridge West sidewalk is travelling southbound.\n"
   ]
  },
  {
   "cell_type": "markdown",
   "id": "c709b972",
   "metadata": {},
   "source": [
    "https://data.seattle.gov/api/views/65db-xm6k/rows.csv?accessType=DOWNLOAD"
   ]
  },
  {
   "cell_type": "code",
   "execution_count": null,
   "id": "6d1beb2f",
   "metadata": {},
   "outputs": [],
   "source": [
    "# This command will download the data in bash (from a Linux terminal)\n",
    "# !curl -o FremontBridge.csv https://data.seattle.gov/api/views/65db-xm6k/rows.csv?accessType=DOWNLOAD"
   ]
  },
  {
   "cell_type": "code",
   "execution_count": null,
   "id": "c9863c48",
   "metadata": {},
   "outputs": [],
   "source": [
    "data = pd.read_csv('FremontBridge.csv', index_col='Date', parse_dates=True)"
   ]
  },
  {
   "cell_type": "code",
   "execution_count": null,
   "id": "016a7443",
   "metadata": {
    "scrolled": true
   },
   "outputs": [],
   "source": [
    "data.shape"
   ]
  },
  {
   "cell_type": "code",
   "execution_count": null,
   "id": "9d09f926",
   "metadata": {},
   "outputs": [],
   "source": [
    "data.head(10)"
   ]
  },
  {
   "cell_type": "code",
   "execution_count": null,
   "id": "c040c927",
   "metadata": {},
   "outputs": [],
   "source": [
    "# Rename columns for simplicity\n",
    "data = data.rename(columns={\"Fremont Bridge Total\": \"Total\", \n",
    "                     \"Fremont Bridge East Sidewalk\": \"East\", \n",
    "                     \"Fremont Bridge West Sidewalk\": \"West\"}\n",
    "                  )\n",
    "data.head(10)"
   ]
  },
  {
   "cell_type": "code",
   "execution_count": null,
   "id": "5741b9de",
   "metadata": {},
   "outputs": [],
   "source": [
    "data.dropna().describe()"
   ]
  },
  {
   "cell_type": "code",
   "execution_count": null,
   "id": "1ccd348b",
   "metadata": {},
   "outputs": [],
   "source": [
    "%matplotlib inline\n",
    "\n",
    "import seaborn\n",
    "from matplotlib import pyplot as plt\n",
    "\n",
    "data.plot(figsize = (5, 5))\n",
    "plt.ylabel('Hourly Bicycle Count')"
   ]
  },
  {
   "cell_type": "markdown",
   "id": "85d7c026",
   "metadata": {},
   "source": [
    "**Observed overall trend**: The impact of the Covid-19 pandemic was very significant..."
   ]
  },
  {
   "cell_type": "code",
   "execution_count": null,
   "id": "a7c1b1a3",
   "metadata": {},
   "outputs": [],
   "source": [
    "data['East'].plot(figsize = (5, 5))\n",
    "plt.ylabel('Hourly Bicycle Count: East')"
   ]
  },
  {
   "cell_type": "code",
   "execution_count": null,
   "id": "f866acd6",
   "metadata": {},
   "outputs": [],
   "source": [
    "data['West'].plot(figsize = (5, 5))\n",
    "plt.ylabel('Hourly Bicycle Count: West')"
   ]
  },
  {
   "cell_type": "markdown",
   "id": "af968511",
   "metadata": {},
   "source": [
    "### Resampling time series"
   ]
  },
  {
   "cell_type": "code",
   "execution_count": null,
   "id": "d3ec751b",
   "metadata": {},
   "outputs": [],
   "source": [
    "data.resample('W').sum() # Resampled to report the sum of counts per week"
   ]
  },
  {
   "cell_type": "code",
   "execution_count": null,
   "id": "70a36022",
   "metadata": {},
   "outputs": [],
   "source": [
    "weekly = data.resample('W').sum()\n",
    "weekly.plot(style = [':', '--', '-'])\n",
    "plt.ylabel('Weekly bicycle count');"
   ]
  },
  {
   "cell_type": "markdown",
   "id": "356e3f88",
   "metadata": {},
   "source": [
    "**Observed seasonal trends**:  Peak in the summer, and additional week-to-week fluctuations. People bicycle more in the summer than in the winter, and even within a particular season the bicycle use varies from week to week, likely dependent on weather."
   ]
  },
  {
   "cell_type": "markdown",
   "id": "194b7acc",
   "metadata": {},
   "source": [
    "### Aggregation and `groupby` operations on time series\n"
   ]
  },
  {
   "cell_type": "markdown",
   "id": "02552210",
   "metadata": {},
   "source": [
    "#### Aggregating data per hour of the day (using the `time` method)\n",
    "\n",
    "The `time` attribute  of a `DatetimeIndex` object is a NumPy array of `datetime.time` objects corresponding to the *time* part (independent of any particular *date*) of each element in the `DatetimeIndex` object.\n",
    "\n",
    "In this case study the length of each time period is 1 hour."
   ]
  },
  {
   "cell_type": "code",
   "execution_count": null,
   "id": "4addc3cb",
   "metadata": {
    "scrolled": true
   },
   "outputs": [],
   "source": [
    "data.index # The index contains 145814 entries"
   ]
  },
  {
   "cell_type": "code",
   "execution_count": null,
   "id": "eb69aeb5",
   "metadata": {},
   "outputs": [],
   "source": [
    "data.index.time # This NumPy arrays also contains 145814 elements"
   ]
  },
  {
   "cell_type": "code",
   "execution_count": null,
   "id": "e78c7fe0",
   "metadata": {},
   "outputs": [],
   "source": [
    "data.groupby(data.index.time).mean()"
   ]
  },
  {
   "cell_type": "code",
   "execution_count": null,
   "id": "b479d972",
   "metadata": {},
   "outputs": [],
   "source": [
    "hourly_ticks = 4 * 60 * 60 * np.arange(6) # Hourly ticks for x-axis\n",
    "\n",
    "avg_by_time = data.groupby(data.index.time).mean()\n",
    "\n",
    "avg_by_time.plot(xticks = hourly_ticks, style = [':', '--', '-']);"
   ]
  },
  {
   "cell_type": "markdown",
   "id": "c5a5e2fb",
   "metadata": {},
   "source": [
    "**Observed hourly trends**:  The hourly traffic reveals a bimodal distribution with maxima around 8am and 5pm."
   ]
  },
  {
   "cell_type": "markdown",
   "id": "a4372319",
   "metadata": {},
   "source": [
    "#### Aggregating data per day of the week (using the `dayofweek` method)\n",
    "\n",
    "Similarly, the `dayofweek` attribute  of a `DatetimeIndex` object is a NumPy array of integers corresponding to the day of the week (independent of any particular time and any particular week, month, or year) of each element in the `DatetimeIndex` object.\n",
    "\n",
    "`dayofweek` assumes the week starts on Monday which is noted by 0, and ends on Sunday which is noted by 6. "
   ]
  },
  {
   "cell_type": "code",
   "execution_count": null,
   "id": "93af0ea2",
   "metadata": {},
   "outputs": [],
   "source": [
    "data.index.dayofweek # This NumPy arrays contains 145814 elements"
   ]
  },
  {
   "cell_type": "code",
   "execution_count": null,
   "id": "ae86a423",
   "metadata": {},
   "outputs": [],
   "source": [
    "avg_by_weekday = data.groupby(data.index.dayofweek).mean()\n",
    "avg_by_weekday.index = ['Mon', 'Tue', 'Wed', 'Thu', 'Fri', 'Sat', 'Sun']\n",
    "avg_by_weekday.plot(style=[':', '--', '-']);"
   ]
  },
  {
   "cell_type": "markdown",
   "id": "0415d1f9",
   "metadata": {},
   "source": [
    "**Observed weekly trends**:  The weekly traffic reveals a drop in traffic over the weekend"
   ]
  },
  {
   "cell_type": "markdown",
   "id": "33ce044b",
   "metadata": {},
   "source": [
    "## Practice Exercice"
   ]
  },
  {
   "cell_type": "markdown",
   "id": "c6dfc992",
   "metadata": {},
   "source": [
    "We will add weather data downloaded from the National Climatic Data Center (`SeattleWeather.csv`) to the Fremont Bridge Bicycle case study. The data includes daily maximum and minimum temperatures (in F) and amounts of recorded rainfall at the Seattle airport (in inches).\n",
    "\n",
    "Let's analyze the weather data in a pre-covid era (2012-2014) because the Covid-19 pandemic has had a very disruptive impact on bike riding."
   ]
  },
  {
   "cell_type": "code",
   "execution_count": null,
   "id": "e98fefdc",
   "metadata": {},
   "outputs": [],
   "source": [
    "# Read the Seattle weather file\n",
    "weather = pd.read_csv('SeattleWeather.csv', index_col='DATE', parse_dates=True)\n",
    "weather.head()"
   ]
  },
  {
   "cell_type": "code",
   "execution_count": null,
   "id": "ed98f84d",
   "metadata": {},
   "outputs": [],
   "source": [
    "print(weather.mean())"
   ]
  },
  {
   "cell_type": "code",
   "execution_count": null,
   "id": "75403005",
   "metadata": {},
   "outputs": [],
   "source": [
    "# 1) Plot the min and max temperature (in F) per week on a same canvas "
   ]
  },
  {
   "cell_type": "code",
   "execution_count": null,
   "id": "29e442e6",
   "metadata": {},
   "outputs": [],
   "source": [
    "weather['TMIN'].resample('W').min().plot()\n",
    "weather['TMAX'].resample('W').max().plot()\n",
    "plt.ylabel('Weekly Temperature Extremes (F)');"
   ]
  },
  {
   "cell_type": "code",
   "execution_count": null,
   "id": "6bdf022e",
   "metadata": {},
   "outputs": [],
   "source": [
    "# 2) Plot the total volume of precipitation (in inches) per week "
   ]
  },
  {
   "cell_type": "code",
   "execution_count": null,
   "id": "80993e5b",
   "metadata": {},
   "outputs": [],
   "source": [
    "weather['PRCP'].resample('W').sum().plot()\n",
    "plt.ylabel('Weekly precipitation (in)');"
   ]
  },
  {
   "cell_type": "code",
   "execution_count": null,
   "id": "be972c36",
   "metadata": {},
   "outputs": [],
   "source": [
    "# 3) Count the total number of bike rides on the Fremont Bridge per day,\n",
    "#    then merge these counts with the weather data on dates common to both datasets"
   ]
  },
  {
   "cell_type": "code",
   "execution_count": null,
   "id": "77535e66",
   "metadata": {},
   "outputs": [],
   "source": [
    "# Resample\n",
    "daily_count = data.resample('D').sum()\n",
    "\n",
    "# Merge\n",
    "daily_all = pd.merge(daily_count, weather, left_index = True, right_index = True) # inner-join by default\n",
    "daily_all"
   ]
  },
  {
   "cell_type": "code",
   "execution_count": null,
   "id": "f7ad8c60",
   "metadata": {},
   "outputs": [],
   "source": [
    "# 4) Compute a linear regression model of total bike rides based on weather data, \n",
    "#    and plot model vs. actual for daily, weekly and monthly aggregates"
   ]
  },
  {
   "cell_type": "code",
   "execution_count": null,
   "id": "94e516e8",
   "metadata": {},
   "outputs": [],
   "source": [
    "# Compute the linear regression model\n",
    "from sklearn.linear_model import LinearRegression\n",
    "x = daily_all[['TMIN', 'TMAX', 'PRCP']]\n",
    "y = daily_all['Total']\n",
    "clf = LinearRegression().fit(x, y)\n",
    "daily_all['Weather model'] = clf.predict(x)\n",
    "\n",
    "# Plot weather model vs actual \n",
    "\n",
    "# Daily aggregates\n",
    "daily_all[['Total', 'Weather model']].plot()\n",
    "plt.ylabel('Daily traffic');\n",
    "\n",
    "# Weekly aggregates\n",
    "daily_all[['Total', 'Weather model']].resample('W').sum().plot()\n",
    "plt.ylabel('Weekly traffic');\n",
    "\n",
    "# Monthly aggregates\n",
    "daily_all[['Total', 'Weather model']].resample('M').sum().plot()\n",
    "plt.ylabel('Monthly traffic');"
   ]
  },
  {
   "cell_type": "markdown",
   "id": "abeb7d0f",
   "metadata": {},
   "source": [
    "## Thank you Everyone!"
   ]
  }
 ],
 "metadata": {
  "kernelspec": {
   "display_name": "Python 3 (ipykernel)",
   "language": "python",
   "name": "python3"
  },
  "language_info": {
   "codemirror_mode": {
    "name": "ipython",
    "version": 3
   },
   "file_extension": ".py",
   "mimetype": "text/x-python",
   "name": "python",
   "nbconvert_exporter": "python",
   "pygments_lexer": "ipython3",
   "version": "3.9.12"
  }
 },
 "nbformat": 4,
 "nbformat_minor": 5
}
