{
 "cells": [
  {
   "cell_type": "markdown",
   "id": "416b7f1b",
   "metadata": {
    "slideshow": {
     "slide_type": "slide"
    }
   },
   "source": [
    "## **DS-GA 1007 $\\:$ | $\\,$ Lecture 7**\n",
    "\n",
    "## **Programming for Data Science**\n",
    "\n",
    "<br>\n",
    "\n",
    "---\n",
    "\n",
    "#### Jeremy Curuksu, PhD\n",
    "\n",
    "#### NYU Center for Data Science\n",
    "\n",
    "#### jeremy.cur@nyu.edu\n",
    "\n",
    "#### October 30, 2023\n"
   ]
  },
  {
   "cell_type": "markdown",
   "id": "acd92962",
   "metadata": {
    "slideshow": {
     "slide_type": "slide"
    }
   },
   "source": [
    "## **Pandas: Advanced Data Objects (Part 1)**\n",
    "\n",
    "<br>\n",
    "\n",
    "### **Last week**:\n",
    "\n",
    "### ▶  Introduction to Graphical Data Visualization with Matplotlib\n",
    "\n",
    "### ▶ Advanced Matplotlib Functionalities\n",
    "\n",
    "<br>\n",
    "\n",
    "### **Today**:\n",
    "\n",
    "### ▶ Creating Pandas objects: '*Series*', '*DataFrame*', '*index*'\n",
    "\n",
    "### ▶ Indexing and Selection of Data with Pandas\n",
    "\n",
    "### ▶ Practice exercise "
   ]
  },
  {
   "cell_type": "markdown",
   "id": "5de696c6",
   "metadata": {
    "slideshow": {
     "slide_type": "slide"
    }
   },
   "source": [
    "# Topics covered on Pandas in this course\n",
    "\n",
    "• **Part 1**: Pandas series and data frames, indexing and selection, fancy indexing, Boolean and hierarchical indexing, reshaping\n",
    "\n",
    "• **Part 2**: Operating on data with Pandas, handling missing values\n",
    "\n",
    "• **Part 3**: Statistical analysis with Pandas (aggregation, group operations, merging, joining)\n",
    "\n",
    "• **Part 4**: Manipulating, analyzing and vizualizing time series with Pandas\n"
   ]
  },
  {
   "cell_type": "markdown",
   "id": "c0be79b5",
   "metadata": {
    "slideshow": {
     "slide_type": "slide"
    }
   },
   "source": [
    "\n",
    "# Introduction\n",
    "\n",
    "https://pandas.pydata.org\n",
    "\n",
    "\n",
    "**Pandas is a Python package for data manipulation and analysis that builds on top of NumPy, so all NumPy functionalities can be leveraged when using Pandas. Pandas adds functionalities to help manipulate and analyze \"any kind\" of data**. NumPy's ndarray data structure provides functionalities for the type of clean, well-organized data typically seen in numerical computing tasks. While it serves this purpose very well, its limitations become clear when we need more flexibility e.g., **attaching labels to data, working with missing data, complex merging and groupings, pivots, etc**. These more advanced operations are an important piece of analyzing the less structured data available in many forms in the world around us. Pandas provides efficient access to these sorts of data manipulation tasks that occupy much of a data scientist's time.\n",
    "\n",
    "**Pandas offers the data structures called `Series` and `DataFrame`, which are arrays with attached row labels and column labels, and often with heterogeneous types and/or missing data.** Pandas offers a convenient storage interface for labeled data and powerful data operations familiar to users of both database frameworks and spreadsheet programs.\n",
    "\n",
    "**A `Series` is essentially a 1D array, and a `DataFrame` is a multidimensional array** i.e., a set of `Series` (similar to the difference between a vector and a matrix in linear algebra mentioned in the lecture on NumPy). \n",
    "\n",
    "\n",
    "**A third data structure called `index` is also available**. As its name suggests, `index` is a series of indices, generally some labels attached to some data, which can be manipulated on its own and/or attached to a `Series` or `DataFrame` object.\n",
    "\n",
    "**Pandas is a free open source package** originally created by Wes McKinney, a mathematician who worked in Finance and needed to analyze time series. This explains why **Pandas has advanced functionalities to manipulate and analyse time series, such as date range generation and frequency conversion, moving window statistics, date shifting and lagging, etc**. The name is derived from the term \"panel data\", an econometrics term for datasets that include observations over multiple time periods. Its name is a play on the phrase \"Python data analysis\". \n"
   ]
  },
  {
   "cell_type": "markdown",
   "id": "bbf2c22c",
   "metadata": {
    "slideshow": {
     "slide_type": "slide"
    }
   },
   "source": [
    "# Case study examples with Pandas\n",
    "\n",
    "There will be four lectures on Pandas. As we explore more advanced concepts, we will illustrate them directly with case studies. For those of you who would like to start looking at case studies now, I recommend you start with these:\n",
    "\n",
    "* Carpentry (indexing, slicing): https://datacarpentry.org/python-ecology-lesson/03-index-slice-subset/index.html\n",
    "\n",
    "* Carpentry (data exploration): https://datacarpentry.org/python-ecology-lesson/02-starting-with-data/index.html\n",
    "\n",
    "* Kaggle (data exploration): https://www.kaggle.com/code/kashnitsky/topic-1-exploratory-data-analysis-with-pandas/notebook\n",
    "\n",
    "* AWS AI Blog (ML application): https://aws.amazon.com/blogs/machine-learning/developing-a-business-strategy-by-combining-machine-learning-with-sensitivity-analysis/\n",
    "\n"
   ]
  },
  {
   "cell_type": "markdown",
   "id": "1c4dbeda",
   "metadata": {
    "slideshow": {
     "slide_type": "slide"
    }
   },
   "source": [
    "# Online Documentation\n",
    "The [pandas.pydata.org](https://pandas.pydata.org) website is the primary online resource for the library's documentation, tutorials, and other resources\n",
    "\n",
    "To display Pandas's built-in documentation:\n",
    "\n",
    "```ipython\n",
    "pd?\n",
    "```\n",
    "\n",
    "To display the pandas namespace:\n",
    "\n",
    "```ipython\n",
    "pd.<TAB>\n",
    "```\n",
    "\n",
    "Pandas Cheatsheet: https://github.com/pandas-dev/pandas/blob/main/doc/cheatsheet/Pandas_Cheat_Sheet.pdf"
   ]
  },
  {
   "cell_type": "markdown",
   "id": "948c819e",
   "metadata": {},
   "source": [
    "# Import Pandas as a library:\n"
   ]
  },
  {
   "cell_type": "code",
   "execution_count": 294,
   "id": "a93dcd42",
   "metadata": {},
   "outputs": [
    {
     "data": {
      "text/plain": [
       "'1.4.2'"
      ]
     },
     "execution_count": 294,
     "metadata": {},
     "output_type": "execute_result"
    }
   ],
   "source": [
    "import pandas as pd # Abbreviations \"pd\" is semi-standardized...\n",
    "pd.__version__"
   ]
  },
  {
   "cell_type": "code",
   "execution_count": null,
   "id": "db717db1",
   "metadata": {},
   "outputs": [],
   "source": [
    "pd?"
   ]
  },
  {
   "cell_type": "markdown",
   "id": "b43bd178",
   "metadata": {},
   "source": [
    "\n",
    "# 1) Creating Pandas Series, DataFrame, Index\n",
    "\n",
    "Pandas data frames come in two flavors: `Series` and `DataFrame`. `Series` are 1D `DataFrame`. In contrast, `DataFrame` can be of any dimension. Both are attached to `index` objects. \n",
    "\n",
    "A default series of integers is implicitly attached as `index` to label the data if none is explicitly attached by the programmer. "
   ]
  },
  {
   "cell_type": "markdown",
   "id": "e8220cf0",
   "metadata": {},
   "source": [
    "## Creating Pandas Series\n",
    "\n",
    "``Series`` is a one-dimensional array of indexed data \n",
    "\n",
    "### From a Python List or Array\n",
    "\n",
    "A `Series` can be created by converting a list or an array\n"
   ]
  },
  {
   "cell_type": "code",
   "execution_count": 295,
   "id": "243a66fa",
   "metadata": {},
   "outputs": [
    {
     "data": {
      "text/plain": [
       "0    100\n",
       "1    200\n",
       "2    300\n",
       "3    400\n",
       "4    500\n",
       "dtype: int64"
      ]
     },
     "execution_count": 295,
     "metadata": {},
     "output_type": "execute_result"
    }
   ],
   "source": [
    "data = pd.Series([100, 200, 300, 400, 500])\n",
    "data"
   ]
  },
  {
   "cell_type": "markdown",
   "id": "c6c896b5",
   "metadata": {},
   "source": [
    "#### A Series has values and indexes"
   ]
  },
  {
   "cell_type": "code",
   "execution_count": 296,
   "id": "ab9c200b",
   "metadata": {},
   "outputs": [
    {
     "data": {
      "text/plain": [
       "array([100, 200, 300, 400, 500])"
      ]
     },
     "execution_count": 296,
     "metadata": {},
     "output_type": "execute_result"
    }
   ],
   "source": [
    "data.values"
   ]
  },
  {
   "cell_type": "code",
   "execution_count": 297,
   "id": "3ec75b01",
   "metadata": {},
   "outputs": [
    {
     "data": {
      "text/plain": [
       "RangeIndex(start=0, stop=5, step=1)"
      ]
     },
     "execution_count": 297,
     "metadata": {},
     "output_type": "execute_result"
    }
   ],
   "source": [
    "data.index # Default index implicitely defined as integers"
   ]
  },
  {
   "cell_type": "markdown",
   "id": "083d7997",
   "metadata": {},
   "source": [
    "#### Indexes can be defined explicitly, and do not need to be integers"
   ]
  },
  {
   "cell_type": "code",
   "execution_count": 299,
   "id": "ca37bf00",
   "metadata": {},
   "outputs": [
    {
     "data": {
      "text/plain": [
       "A      100\n",
       "b      200\n",
       "c      300\n",
       "10     400\n",
       "200    500\n",
       "dtype: int64"
      ]
     },
     "execution_count": 299,
     "metadata": {},
     "output_type": "execute_result"
    }
   ],
   "source": [
    "data = pd.Series([100, 200, 300, 400, 500], index = ['A', 'b', 'c', 10, 200])\n",
    "data"
   ]
  },
  {
   "cell_type": "code",
   "execution_count": 300,
   "id": "fbda9953",
   "metadata": {},
   "outputs": [
    {
     "data": {
      "text/plain": [
       "Index(['A', 'b', 'c', 10, 200], dtype='object')"
      ]
     },
     "execution_count": 300,
     "metadata": {},
     "output_type": "execute_result"
    }
   ],
   "source": [
    "data.index "
   ]
  },
  {
   "cell_type": "code",
   "execution_count": 301,
   "id": "f48bffb0",
   "metadata": {},
   "outputs": [
    {
     "data": {
      "text/plain": [
       "200"
      ]
     },
     "execution_count": 301,
     "metadata": {},
     "output_type": "execute_result"
    }
   ],
   "source": [
    "data['b']"
   ]
  },
  {
   "cell_type": "code",
   "execution_count": 302,
   "id": "6f15d097",
   "metadata": {},
   "outputs": [
    {
     "data": {
      "text/plain": [
       "400"
      ]
     },
     "execution_count": 302,
     "metadata": {},
     "output_type": "execute_result"
    }
   ],
   "source": [
    "data[10]"
   ]
  },
  {
   "cell_type": "markdown",
   "id": "95664a9e",
   "metadata": {},
   "source": [
    "### From a Python Dictionary"
   ]
  },
  {
   "cell_type": "code",
   "execution_count": 303,
   "id": "9792c44d",
   "metadata": {},
   "outputs": [
    {
     "data": {
      "text/plain": [
       "{'The Hangover': 100,\n",
       " 'Hot Fuzz': 121,\n",
       " 'Tower Heist': 104,\n",
       " 'The Interview': 112}"
      ]
     },
     "execution_count": 303,
     "metadata": {},
     "output_type": "execute_result"
    }
   ],
   "source": [
    "movies = {\"The Hangover\": 100, \"Hot Fuzz\": 121, \"Tower Heist\": 104, \"The Interview\": 112}\n",
    "movies"
   ]
  },
  {
   "cell_type": "code",
   "execution_count": 304,
   "id": "6e33733b",
   "metadata": {},
   "outputs": [
    {
     "data": {
      "text/plain": [
       "The Hangover     100\n",
       "Hot Fuzz         121\n",
       "Tower Heist      104\n",
       "The Interview    112\n",
       "dtype: int64"
      ]
     },
     "execution_count": 304,
     "metadata": {},
     "output_type": "execute_result"
    }
   ],
   "source": [
    "data = pd.Series(movies)\n",
    "data"
   ]
  },
  {
   "cell_type": "markdown",
   "id": "224fa4f9",
   "metadata": {},
   "source": [
    "A Pandas object can be indexed by label or by position, as will be discussed in more details in section 2. \n",
    "Indexing by position is particulary useful if we don't know or care about index labels."
   ]
  },
  {
   "cell_type": "code",
   "execution_count": 305,
   "id": "e021211b",
   "metadata": {},
   "outputs": [
    {
     "data": {
      "text/plain": [
       "112"
      ]
     },
     "execution_count": 305,
     "metadata": {},
     "output_type": "execute_result"
    }
   ],
   "source": [
    "data['The Interview'] # Indexing by explicit label"
   ]
  },
  {
   "cell_type": "code",
   "execution_count": 306,
   "id": "2dd5932b",
   "metadata": {},
   "outputs": [
    {
     "data": {
      "text/plain": [
       "112"
      ]
     },
     "execution_count": 306,
     "metadata": {},
     "output_type": "execute_result"
    }
   ],
   "source": [
    "data[3] # Indexing by implicit position "
   ]
  },
  {
   "cell_type": "code",
   "execution_count": 307,
   "id": "54b06cf8",
   "metadata": {},
   "outputs": [
    {
     "data": {
      "text/plain": [
       "Hot Fuzz         121\n",
       "Tower Heist      104\n",
       "The Interview    112\n",
       "dtype: int64"
      ]
     },
     "execution_count": 307,
     "metadata": {},
     "output_type": "execute_result"
    }
   ],
   "source": [
    "data[1:4] # Slicing by implicit position"
   ]
  },
  {
   "cell_type": "markdown",
   "id": "8f4521a0",
   "metadata": {},
   "source": [
    "## Creating Pandas Data Frames \n",
    "\n",
    "``DataFrame`` is a multi-dimensional array of ``Series``, typically a 2D array where each column is a ``Series``\n",
    "\n",
    "### From a Python List or Array\n",
    "\n",
    "A 2D `DataFrame` can be created by converting a *nested* list or a 2D array \n"
   ]
  },
  {
   "cell_type": "code",
   "execution_count": 308,
   "id": "d6fd8bc4",
   "metadata": {},
   "outputs": [
    {
     "data": {
      "text/html": [
       "<div>\n",
       "<style scoped>\n",
       "    .dataframe tbody tr th:only-of-type {\n",
       "        vertical-align: middle;\n",
       "    }\n",
       "\n",
       "    .dataframe tbody tr th {\n",
       "        vertical-align: top;\n",
       "    }\n",
       "\n",
       "    .dataframe thead th {\n",
       "        text-align: right;\n",
       "    }\n",
       "</style>\n",
       "<table border=\"1\" class=\"dataframe\">\n",
       "  <thead>\n",
       "    <tr style=\"text-align: right;\">\n",
       "      <th></th>\n",
       "      <th>a</th>\n",
       "      <th>b</th>\n",
       "      <th>c</th>\n",
       "    </tr>\n",
       "  </thead>\n",
       "  <tbody>\n",
       "    <tr>\n",
       "      <th>0</th>\n",
       "      <td>1</td>\n",
       "      <td>2</td>\n",
       "      <td>3</td>\n",
       "    </tr>\n",
       "    <tr>\n",
       "      <th>1</th>\n",
       "      <td>4</td>\n",
       "      <td>5</td>\n",
       "      <td>6</td>\n",
       "    </tr>\n",
       "    <tr>\n",
       "      <th>2</th>\n",
       "      <td>7</td>\n",
       "      <td>8</td>\n",
       "      <td>9</td>\n",
       "    </tr>\n",
       "    <tr>\n",
       "      <th>3</th>\n",
       "      <td>10</td>\n",
       "      <td>11</td>\n",
       "      <td>12</td>\n",
       "    </tr>\n",
       "  </tbody>\n",
       "</table>\n",
       "</div>"
      ],
      "text/plain": [
       "    a   b   c\n",
       "0   1   2   3\n",
       "1   4   5   6\n",
       "2   7   8   9\n",
       "3  10  11  12"
      ]
     },
     "execution_count": 308,
     "metadata": {},
     "output_type": "execute_result"
    }
   ],
   "source": [
    "# Let's convert a 4x3 array (4 rows, 3 columns) into a DataFrame object\n",
    "l = [[1, 2, 3], [4, 5, 6], [7, 8, 9], [10, 11, 12]] # l is a nested list\n",
    "df = pd.DataFrame(l, columns=['a', 'b', 'c'])\n",
    "df"
   ]
  },
  {
   "cell_type": "markdown",
   "id": "87a84745",
   "metadata": {},
   "source": [
    "### From a Python Dictionary"
   ]
  },
  {
   "cell_type": "code",
   "execution_count": 309,
   "id": "f50a921c",
   "metadata": {},
   "outputs": [
    {
     "data": {
      "text/html": [
       "<div>\n",
       "<style scoped>\n",
       "    .dataframe tbody tr th:only-of-type {\n",
       "        vertical-align: middle;\n",
       "    }\n",
       "\n",
       "    .dataframe tbody tr th {\n",
       "        vertical-align: top;\n",
       "    }\n",
       "\n",
       "    .dataframe thead th {\n",
       "        text-align: right;\n",
       "    }\n",
       "</style>\n",
       "<table border=\"1\" class=\"dataframe\">\n",
       "  <thead>\n",
       "    <tr style=\"text-align: right;\">\n",
       "      <th></th>\n",
       "      <th>Column 1</th>\n",
       "      <th>Column 2</th>\n",
       "    </tr>\n",
       "  </thead>\n",
       "  <tbody>\n",
       "    <tr>\n",
       "      <th>0</th>\n",
       "      <td>1</td>\n",
       "      <td>3</td>\n",
       "    </tr>\n",
       "    <tr>\n",
       "      <th>1</th>\n",
       "      <td>2</td>\n",
       "      <td>4</td>\n",
       "    </tr>\n",
       "  </tbody>\n",
       "</table>\n",
       "</div>"
      ],
      "text/plain": [
       "   Column 1  Column 2\n",
       "0         1         3\n",
       "1         2         4"
      ]
     },
     "execution_count": 309,
     "metadata": {},
     "output_type": "execute_result"
    }
   ],
   "source": [
    "d = {'Column 1': [1, 2], 'Column 2': [3, 4]} # d is a dictionary\n",
    "df = pd.DataFrame(d)\n",
    "df"
   ]
  },
  {
   "cell_type": "markdown",
   "id": "8d22e078",
   "metadata": {},
   "source": [
    "###  Example of Pandas data frame with explicit labels defined for rows and for columns"
   ]
  },
  {
   "cell_type": "code",
   "execution_count": 310,
   "id": "784cc7ae",
   "metadata": {},
   "outputs": [
    {
     "data": {
      "text/html": [
       "<div>\n",
       "<style scoped>\n",
       "    .dataframe tbody tr th:only-of-type {\n",
       "        vertical-align: middle;\n",
       "    }\n",
       "\n",
       "    .dataframe tbody tr th {\n",
       "        vertical-align: top;\n",
       "    }\n",
       "\n",
       "    .dataframe thead th {\n",
       "        text-align: right;\n",
       "    }\n",
       "</style>\n",
       "<table border=\"1\" class=\"dataframe\">\n",
       "  <thead>\n",
       "    <tr style=\"text-align: right;\">\n",
       "      <th></th>\n",
       "      <th>Feature x1</th>\n",
       "      <th>Feature x2</th>\n",
       "      <th>Feature x3</th>\n",
       "      <th>Feature x4</th>\n",
       "      <th>Target y</th>\n",
       "    </tr>\n",
       "  </thead>\n",
       "  <tbody>\n",
       "    <tr>\n",
       "      <th>Obs 1</th>\n",
       "      <td>0.245221</td>\n",
       "      <td>0.514386</td>\n",
       "      <td>0.890469</td>\n",
       "      <td>0.734799</td>\n",
       "      <td>0.941550</td>\n",
       "    </tr>\n",
       "    <tr>\n",
       "      <th>Obs 2</th>\n",
       "      <td>0.250945</td>\n",
       "      <td>0.235227</td>\n",
       "      <td>0.348544</td>\n",
       "      <td>0.747708</td>\n",
       "      <td>0.790772</td>\n",
       "    </tr>\n",
       "    <tr>\n",
       "      <th>Obs 3</th>\n",
       "      <td>0.128126</td>\n",
       "      <td>0.510444</td>\n",
       "      <td>0.692561</td>\n",
       "      <td>0.149503</td>\n",
       "      <td>0.415319</td>\n",
       "    </tr>\n",
       "    <tr>\n",
       "      <th>Obs 4</th>\n",
       "      <td>0.752223</td>\n",
       "      <td>0.230288</td>\n",
       "      <td>0.107565</td>\n",
       "      <td>0.114998</td>\n",
       "      <td>0.223453</td>\n",
       "    </tr>\n",
       "    <tr>\n",
       "      <th>Obs 5</th>\n",
       "      <td>0.356000</td>\n",
       "      <td>0.547579</td>\n",
       "      <td>0.995473</td>\n",
       "      <td>0.282315</td>\n",
       "      <td>0.614292</td>\n",
       "    </tr>\n",
       "  </tbody>\n",
       "</table>\n",
       "</div>"
      ],
      "text/plain": [
       "       Feature x1  Feature x2  Feature x3  Feature x4  Target y\n",
       "Obs 1    0.245221    0.514386    0.890469    0.734799  0.941550\n",
       "Obs 2    0.250945    0.235227    0.348544    0.747708  0.790772\n",
       "Obs 3    0.128126    0.510444    0.692561    0.149503  0.415319\n",
       "Obs 4    0.752223    0.230288    0.107565    0.114998  0.223453\n",
       "Obs 5    0.356000    0.547579    0.995473    0.282315  0.614292"
      ]
     },
     "execution_count": 310,
     "metadata": {},
     "output_type": "execute_result"
    }
   ],
   "source": [
    "import numpy as np\n",
    "data = pd.DataFrame(np.random.rand(5, 5),\n",
    "                    columns = ['Feature x1', 'Feature x2', 'Feature x3', 'Feature x4', 'Target y'],\n",
    "                    index = ['Obs 1', 'Obs 2', 'Obs 3', 'Obs 4', 'Obs 5'])\n",
    "data"
   ]
  },
  {
   "cell_type": "markdown",
   "id": "63914d91",
   "metadata": {},
   "source": [
    "### From a file \n",
    "Pandas data frames can be created by loading a dataset from a CSV file (other formats are possible but CSV is the most standard) \n",
    "\n",
    "- A CSV file can be loaded with the Pandas method `read_csv`\n",
    "\n",
    "- Pandas automatically assigns a row index\n",
    "\n",
    "- Pandas uses the first row as header to assign column names\n",
    "\n",
    "- Column names can be explicitly assigned when loading data\n",
    "\n",
    "- A column can be explicitly specified as the index"
   ]
  },
  {
   "cell_type": "markdown",
   "id": "559cc761",
   "metadata": {},
   "source": [
    "#### From a CSV file"
   ]
  },
  {
   "cell_type": "code",
   "execution_count": 311,
   "id": "1bd66a36",
   "metadata": {},
   "outputs": [
    {
     "name": "stdout",
     "output_type": "stream",
     "text": [
      "a,b,c,d,color\r\n",
      "1,2,3,4,blue\r\n",
      "5,6,7,8,purple\r\n",
      "9,10,11,12,red\r\n"
     ]
    }
   ],
   "source": [
    "# Let's start with a fictitious, simple dataset\n",
    "%cat simple.csv"
   ]
  },
  {
   "cell_type": "code",
   "execution_count": 312,
   "id": "b2bd3751",
   "metadata": {},
   "outputs": [
    {
     "name": "stdout",
     "output_type": "stream",
     "text": [
      "   a   b   c   d   color\n",
      "0  1   2   3   4    blue\n",
      "1  5   6   7   8  purple\n",
      "2  9  10  11  12     red\n"
     ]
    }
   ],
   "source": [
    "# Load the contents of a CSV file into a DataFrame using 'read_csv'\n",
    "df = pd.read_csv('simple.csv')\n",
    "print(df)"
   ]
  },
  {
   "cell_type": "code",
   "execution_count": 313,
   "id": "16b9cd15",
   "metadata": {},
   "outputs": [
    {
     "name": "stdout",
     "output_type": "stream",
     "text": [
      "['a' 'b' 'c' 'd' 'color']\n"
     ]
    }
   ],
   "source": [
    "# The first row is considered a header and used to define column names\n",
    "print(df.columns.values)"
   ]
  },
  {
   "cell_type": "code",
   "execution_count": 314,
   "id": "f4a77a64",
   "metadata": {
    "scrolled": true
   },
   "outputs": [
    {
     "name": "stdout",
     "output_type": "stream",
     "text": [
      "  x1  x2  x3  x4       y\n",
      "0  a   b   c   d   color\n",
      "1  1   2   3   4    blue\n",
      "2  5   6   7   8  purple\n",
      "3  9  10  11  12     red\n"
     ]
    }
   ],
   "source": [
    "# Specify column names explicitly\n",
    "df = pd.read_csv('simple.csv', names = ['x1','x2','x3','x4','y'])\n",
    "print(df)"
   ]
  },
  {
   "cell_type": "code",
   "execution_count": 315,
   "id": "f467cabc",
   "metadata": {},
   "outputs": [
    {
     "name": "stdout",
     "output_type": "stream",
     "text": [
      "['x1' 'x2' 'x3' 'x4' 'y']\n"
     ]
    }
   ],
   "source": [
    "print(df.columns.values)"
   ]
  },
  {
   "cell_type": "code",
   "execution_count": 316,
   "id": "2cb79c81",
   "metadata": {},
   "outputs": [
    {
     "name": "stdout",
     "output_type": "stream",
     "text": [
      "       x1  x2  x3  x4\n",
      "y                    \n",
      "color   a   b   c   d\n",
      "blue    1   2   3   4\n",
      "purple  5   6   7   8\n",
      "red     9  10  11  12\n"
     ]
    }
   ],
   "source": [
    "# An existing column can be defined as index \n",
    "df = pd.read_csv('simple.csv',names=['x1','x2','x3','x4','y'],index_col='y')\n",
    "print(df)"
   ]
  },
  {
   "cell_type": "code",
   "execution_count": 317,
   "id": "f4a611b7",
   "metadata": {},
   "outputs": [
    {
     "name": "stdout",
     "output_type": "stream",
     "text": [
      "['color' 'blue' 'purple' 'red']\n"
     ]
    }
   ],
   "source": [
    "print(df.index.values)"
   ]
  },
  {
   "cell_type": "code",
   "execution_count": 318,
   "id": "8a9b7418",
   "metadata": {
    "collapsed": true
   },
   "outputs": [
    {
     "data": {
      "text/html": [
       "<div>\n",
       "<style scoped>\n",
       "    .dataframe tbody tr th:only-of-type {\n",
       "        vertical-align: middle;\n",
       "    }\n",
       "\n",
       "    .dataframe tbody tr th {\n",
       "        vertical-align: top;\n",
       "    }\n",
       "\n",
       "    .dataframe thead th {\n",
       "        text-align: right;\n",
       "    }\n",
       "</style>\n",
       "<table border=\"1\" class=\"dataframe\">\n",
       "  <thead>\n",
       "    <tr style=\"text-align: right;\">\n",
       "      <th></th>\n",
       "      <th>Position</th>\n",
       "      <th>Const</th>\n",
       "      <th>Created</th>\n",
       "      <th>Modified</th>\n",
       "      <th>Description</th>\n",
       "      <th>Title</th>\n",
       "      <th>URL</th>\n",
       "      <th>Title Type</th>\n",
       "      <th>IMDb Rating</th>\n",
       "      <th>Runtime (mins)</th>\n",
       "      <th>Year</th>\n",
       "      <th>Genres</th>\n",
       "      <th>Num Votes</th>\n",
       "      <th>Release Date</th>\n",
       "      <th>Directors</th>\n",
       "    </tr>\n",
       "  </thead>\n",
       "  <tbody>\n",
       "    <tr>\n",
       "      <th>0</th>\n",
       "      <td>1</td>\n",
       "      <td>tt0382932</td>\n",
       "      <td>2012-09-02</td>\n",
       "      <td>2012-09-02</td>\n",
       "      <td>NaN</td>\n",
       "      <td>Ratatouille</td>\n",
       "      <td>https://www.imdb.com/title/tt0382932/</td>\n",
       "      <td>movie</td>\n",
       "      <td>8.1</td>\n",
       "      <td>111</td>\n",
       "      <td>2007</td>\n",
       "      <td>Animation, Adventure, Comedy, Family, Fantasy</td>\n",
       "      <td>726444</td>\n",
       "      <td>2007-06-22</td>\n",
       "      <td>Brad Bird, Jan Pinkava</td>\n",
       "    </tr>\n",
       "    <tr>\n",
       "      <th>1</th>\n",
       "      <td>2</td>\n",
       "      <td>tt0266543</td>\n",
       "      <td>2012-09-02</td>\n",
       "      <td>2012-09-02</td>\n",
       "      <td>NaN</td>\n",
       "      <td>Finding Nemo</td>\n",
       "      <td>https://www.imdb.com/title/tt0266543/</td>\n",
       "      <td>movie</td>\n",
       "      <td>8.2</td>\n",
       "      <td>100</td>\n",
       "      <td>2003</td>\n",
       "      <td>Animation, Adventure, Comedy, Family</td>\n",
       "      <td>1034835</td>\n",
       "      <td>2003-05-18</td>\n",
       "      <td>Andrew Stanton, Lee Unkrich</td>\n",
       "    </tr>\n",
       "    <tr>\n",
       "      <th>2</th>\n",
       "      <td>3</td>\n",
       "      <td>tt0141109</td>\n",
       "      <td>2012-09-02</td>\n",
       "      <td>2012-09-02</td>\n",
       "      <td>Really sad movie :'( I cried bigtime!</td>\n",
       "      <td>Jack Frost</td>\n",
       "      <td>https://www.imdb.com/title/tt0141109/</td>\n",
       "      <td>movie</td>\n",
       "      <td>5.4</td>\n",
       "      <td>101</td>\n",
       "      <td>1998</td>\n",
       "      <td>Comedy, Drama, Family, Fantasy</td>\n",
       "      <td>36826</td>\n",
       "      <td>1998-11-15</td>\n",
       "      <td>Troy Miller</td>\n",
       "    </tr>\n",
       "    <tr>\n",
       "      <th>3</th>\n",
       "      <td>4</td>\n",
       "      <td>tt0952640</td>\n",
       "      <td>2012-09-02</td>\n",
       "      <td>2012-09-02</td>\n",
       "      <td>NaN</td>\n",
       "      <td>Alvin and the Chipmunks</td>\n",
       "      <td>https://www.imdb.com/title/tt0952640/</td>\n",
       "      <td>movie</td>\n",
       "      <td>5.2</td>\n",
       "      <td>92</td>\n",
       "      <td>2007</td>\n",
       "      <td>Animation, Adventure, Comedy, Drama, Family, F...</td>\n",
       "      <td>85999</td>\n",
       "      <td>2007-12-13</td>\n",
       "      <td>Tim Hill</td>\n",
       "    </tr>\n",
       "    <tr>\n",
       "      <th>4</th>\n",
       "      <td>5</td>\n",
       "      <td>tt0332379</td>\n",
       "      <td>2012-09-02</td>\n",
       "      <td>2012-09-02</td>\n",
       "      <td>NaN</td>\n",
       "      <td>School of Rock</td>\n",
       "      <td>https://www.imdb.com/title/tt0332379/</td>\n",
       "      <td>movie</td>\n",
       "      <td>7.2</td>\n",
       "      <td>109</td>\n",
       "      <td>2003</td>\n",
       "      <td>Comedy, Music</td>\n",
       "      <td>304868</td>\n",
       "      <td>2003-09-09</td>\n",
       "      <td>Richard Linklater</td>\n",
       "    </tr>\n",
       "    <tr>\n",
       "      <th>...</th>\n",
       "      <td>...</td>\n",
       "      <td>...</td>\n",
       "      <td>...</td>\n",
       "      <td>...</td>\n",
       "      <td>...</td>\n",
       "      <td>...</td>\n",
       "      <td>...</td>\n",
       "      <td>...</td>\n",
       "      <td>...</td>\n",
       "      <td>...</td>\n",
       "      <td>...</td>\n",
       "      <td>...</td>\n",
       "      <td>...</td>\n",
       "      <td>...</td>\n",
       "      <td>...</td>\n",
       "    </tr>\n",
       "    <tr>\n",
       "      <th>249</th>\n",
       "      <td>250</td>\n",
       "      <td>tt2702724</td>\n",
       "      <td>2021-12-10</td>\n",
       "      <td>2021-12-10</td>\n",
       "      <td>NaN</td>\n",
       "      <td>The Boss</td>\n",
       "      <td>https://www.imdb.com/title/tt2702724/</td>\n",
       "      <td>movie</td>\n",
       "      <td>5.4</td>\n",
       "      <td>99</td>\n",
       "      <td>2016</td>\n",
       "      <td>Comedy</td>\n",
       "      <td>46541</td>\n",
       "      <td>2016-03-21</td>\n",
       "      <td>Ben Falcone</td>\n",
       "    </tr>\n",
       "    <tr>\n",
       "      <th>250</th>\n",
       "      <td>251</td>\n",
       "      <td>tt13834006</td>\n",
       "      <td>2022-02-05</td>\n",
       "      <td>2022-02-05</td>\n",
       "      <td>NaN</td>\n",
       "      <td>Huit Rue de l'Humanite</td>\n",
       "      <td>https://www.imdb.com/title/tt13834006/</td>\n",
       "      <td>movie</td>\n",
       "      <td>6.3</td>\n",
       "      <td>125</td>\n",
       "      <td>2021</td>\n",
       "      <td>Comedy</td>\n",
       "      <td>7096</td>\n",
       "      <td>2021-10-20</td>\n",
       "      <td>Dany Boon</td>\n",
       "    </tr>\n",
       "    <tr>\n",
       "      <th>251</th>\n",
       "      <td>252</td>\n",
       "      <td>tt14592064</td>\n",
       "      <td>2022-02-19</td>\n",
       "      <td>2022-02-19</td>\n",
       "      <td>NaN</td>\n",
       "      <td>Home Team</td>\n",
       "      <td>https://www.imdb.com/title/tt14592064/</td>\n",
       "      <td>movie</td>\n",
       "      <td>6.0</td>\n",
       "      <td>95</td>\n",
       "      <td>2022</td>\n",
       "      <td>Comedy, Sport</td>\n",
       "      <td>18494</td>\n",
       "      <td>2022-01-28</td>\n",
       "      <td>Charles Kinnane, Daniel Kinnane</td>\n",
       "    </tr>\n",
       "    <tr>\n",
       "      <th>252</th>\n",
       "      <td>253</td>\n",
       "      <td>tt2463208</td>\n",
       "      <td>2022-03-16</td>\n",
       "      <td>2022-03-16</td>\n",
       "      <td>NaN</td>\n",
       "      <td>The Adam Project</td>\n",
       "      <td>https://www.imdb.com/title/tt2463208/</td>\n",
       "      <td>movie</td>\n",
       "      <td>6.7</td>\n",
       "      <td>106</td>\n",
       "      <td>2022</td>\n",
       "      <td>Action, Adventure, Comedy, Sci-Fi</td>\n",
       "      <td>193809</td>\n",
       "      <td>2022-02-28</td>\n",
       "      <td>Shawn Levy</td>\n",
       "    </tr>\n",
       "    <tr>\n",
       "      <th>253</th>\n",
       "      <td>254</td>\n",
       "      <td>tt4593060</td>\n",
       "      <td>2022-09-11</td>\n",
       "      <td>2022-09-11</td>\n",
       "      <td>NaN</td>\n",
       "      <td>Pinocchio</td>\n",
       "      <td>https://www.imdb.com/title/tt4593060/</td>\n",
       "      <td>movie</td>\n",
       "      <td>5.1</td>\n",
       "      <td>105</td>\n",
       "      <td>2022</td>\n",
       "      <td>Adventure, Comedy, Drama, Family, Fantasy, Mus...</td>\n",
       "      <td>25355</td>\n",
       "      <td>2022-09-08</td>\n",
       "      <td>Robert Zemeckis</td>\n",
       "    </tr>\n",
       "  </tbody>\n",
       "</table>\n",
       "<p>254 rows × 15 columns</p>\n",
       "</div>"
      ],
      "text/plain": [
       "     Position       Const     Created    Modified  \\\n",
       "0           1   tt0382932  2012-09-02  2012-09-02   \n",
       "1           2   tt0266543  2012-09-02  2012-09-02   \n",
       "2           3   tt0141109  2012-09-02  2012-09-02   \n",
       "3           4   tt0952640  2012-09-02  2012-09-02   \n",
       "4           5   tt0332379  2012-09-02  2012-09-02   \n",
       "..        ...         ...         ...         ...   \n",
       "249       250   tt2702724  2021-12-10  2021-12-10   \n",
       "250       251  tt13834006  2022-02-05  2022-02-05   \n",
       "251       252  tt14592064  2022-02-19  2022-02-19   \n",
       "252       253   tt2463208  2022-03-16  2022-03-16   \n",
       "253       254   tt4593060  2022-09-11  2022-09-11   \n",
       "\n",
       "                               Description                    Title  \\\n",
       "0                                      NaN              Ratatouille   \n",
       "1                                      NaN             Finding Nemo   \n",
       "2    Really sad movie :'( I cried bigtime!               Jack Frost   \n",
       "3                                      NaN  Alvin and the Chipmunks   \n",
       "4                                      NaN           School of Rock   \n",
       "..                                     ...                      ...   \n",
       "249                                    NaN                 The Boss   \n",
       "250                                    NaN   Huit Rue de l'Humanite   \n",
       "251                                    NaN                Home Team   \n",
       "252                                    NaN         The Adam Project   \n",
       "253                                    NaN                Pinocchio   \n",
       "\n",
       "                                        URL Title Type  IMDb Rating  \\\n",
       "0     https://www.imdb.com/title/tt0382932/      movie          8.1   \n",
       "1     https://www.imdb.com/title/tt0266543/      movie          8.2   \n",
       "2     https://www.imdb.com/title/tt0141109/      movie          5.4   \n",
       "3     https://www.imdb.com/title/tt0952640/      movie          5.2   \n",
       "4     https://www.imdb.com/title/tt0332379/      movie          7.2   \n",
       "..                                      ...        ...          ...   \n",
       "249   https://www.imdb.com/title/tt2702724/      movie          5.4   \n",
       "250  https://www.imdb.com/title/tt13834006/      movie          6.3   \n",
       "251  https://www.imdb.com/title/tt14592064/      movie          6.0   \n",
       "252   https://www.imdb.com/title/tt2463208/      movie          6.7   \n",
       "253   https://www.imdb.com/title/tt4593060/      movie          5.1   \n",
       "\n",
       "     Runtime (mins)  Year                                             Genres  \\\n",
       "0               111  2007      Animation, Adventure, Comedy, Family, Fantasy   \n",
       "1               100  2003               Animation, Adventure, Comedy, Family   \n",
       "2               101  1998                     Comedy, Drama, Family, Fantasy   \n",
       "3                92  2007  Animation, Adventure, Comedy, Drama, Family, F...   \n",
       "4               109  2003                                      Comedy, Music   \n",
       "..              ...   ...                                                ...   \n",
       "249              99  2016                                             Comedy   \n",
       "250             125  2021                                             Comedy   \n",
       "251              95  2022                                      Comedy, Sport   \n",
       "252             106  2022                  Action, Adventure, Comedy, Sci-Fi   \n",
       "253             105  2022  Adventure, Comedy, Drama, Family, Fantasy, Mus...   \n",
       "\n",
       "     Num Votes Release Date                        Directors  \n",
       "0       726444   2007-06-22           Brad Bird, Jan Pinkava  \n",
       "1      1034835   2003-05-18      Andrew Stanton, Lee Unkrich  \n",
       "2        36826   1998-11-15                      Troy Miller  \n",
       "3        85999   2007-12-13                         Tim Hill  \n",
       "4       304868   2003-09-09                Richard Linklater  \n",
       "..         ...          ...                              ...  \n",
       "249      46541   2016-03-21                      Ben Falcone  \n",
       "250       7096   2021-10-20                        Dany Boon  \n",
       "251      18494   2022-01-28  Charles Kinnane, Daniel Kinnane  \n",
       "252     193809   2022-02-28                       Shawn Levy  \n",
       "253      25355   2022-09-08                  Robert Zemeckis  \n",
       "\n",
       "[254 rows x 15 columns]"
      ]
     },
     "execution_count": 318,
     "metadata": {},
     "output_type": "execute_result"
    }
   ],
   "source": [
    "# Let's also look at a more typical example of input file\n",
    "data = pd.read_csv('IMDB-Movie-Data.csv')\n",
    "data  "
   ]
  },
  {
   "cell_type": "markdown",
   "id": "9b2ce925",
   "metadata": {},
   "source": [
    "#### From a JSON file"
   ]
  },
  {
   "cell_type": "code",
   "execution_count": 319,
   "id": "5c072938",
   "metadata": {
    "collapsed": true
   },
   "outputs": [
    {
     "data": {
      "text/html": [
       "<div>\n",
       "<style scoped>\n",
       "    .dataframe tbody tr th:only-of-type {\n",
       "        vertical-align: middle;\n",
       "    }\n",
       "\n",
       "    .dataframe tbody tr th {\n",
       "        vertical-align: top;\n",
       "    }\n",
       "\n",
       "    .dataframe thead th {\n",
       "        text-align: right;\n",
       "    }\n",
       "</style>\n",
       "<table border=\"1\" class=\"dataframe\">\n",
       "  <thead>\n",
       "    <tr style=\"text-align: right;\">\n",
       "      <th></th>\n",
       "      <th>Position</th>\n",
       "      <th>Const</th>\n",
       "      <th>Created</th>\n",
       "      <th>Modified</th>\n",
       "      <th>Description</th>\n",
       "      <th>Title</th>\n",
       "      <th>URL</th>\n",
       "      <th>Title Type</th>\n",
       "      <th>IMDb Rating</th>\n",
       "      <th>Runtime (mins)</th>\n",
       "      <th>Year</th>\n",
       "      <th>Genres</th>\n",
       "      <th>Num Votes</th>\n",
       "      <th>Release Date</th>\n",
       "      <th>Directors</th>\n",
       "    </tr>\n",
       "  </thead>\n",
       "  <tbody>\n",
       "    <tr>\n",
       "      <th>0</th>\n",
       "      <td>1</td>\n",
       "      <td>tt0382932</td>\n",
       "      <td>2012-09-02</td>\n",
       "      <td>2012-09-02</td>\n",
       "      <td>None</td>\n",
       "      <td>Ratatouille</td>\n",
       "      <td>https://www.imdb.com/title/tt0382932/</td>\n",
       "      <td>movie</td>\n",
       "      <td>8.1</td>\n",
       "      <td>111</td>\n",
       "      <td>2007</td>\n",
       "      <td>Animation, Adventure, Comedy, Family, Fantasy</td>\n",
       "      <td>726444</td>\n",
       "      <td>2007-06-22</td>\n",
       "      <td>Brad Bird, Jan Pinkava</td>\n",
       "    </tr>\n",
       "    <tr>\n",
       "      <th>1</th>\n",
       "      <td>2</td>\n",
       "      <td>tt0266543</td>\n",
       "      <td>2012-09-02</td>\n",
       "      <td>2012-09-02</td>\n",
       "      <td>None</td>\n",
       "      <td>Finding Nemo</td>\n",
       "      <td>https://www.imdb.com/title/tt0266543/</td>\n",
       "      <td>movie</td>\n",
       "      <td>8.2</td>\n",
       "      <td>100</td>\n",
       "      <td>2003</td>\n",
       "      <td>Animation, Adventure, Comedy, Family</td>\n",
       "      <td>1034835</td>\n",
       "      <td>2003-05-18</td>\n",
       "      <td>Andrew Stanton, Lee Unkrich</td>\n",
       "    </tr>\n",
       "    <tr>\n",
       "      <th>2</th>\n",
       "      <td>3</td>\n",
       "      <td>tt0141109</td>\n",
       "      <td>2012-09-02</td>\n",
       "      <td>2012-09-02</td>\n",
       "      <td>Really sad movie :'( I cried bigtime!</td>\n",
       "      <td>Jack Frost</td>\n",
       "      <td>https://www.imdb.com/title/tt0141109/</td>\n",
       "      <td>movie</td>\n",
       "      <td>5.4</td>\n",
       "      <td>101</td>\n",
       "      <td>1998</td>\n",
       "      <td>Comedy, Drama, Family, Fantasy</td>\n",
       "      <td>36826</td>\n",
       "      <td>1998-11-15</td>\n",
       "      <td>Troy Miller</td>\n",
       "    </tr>\n",
       "    <tr>\n",
       "      <th>3</th>\n",
       "      <td>4</td>\n",
       "      <td>tt0952640</td>\n",
       "      <td>2012-09-02</td>\n",
       "      <td>2012-09-02</td>\n",
       "      <td>None</td>\n",
       "      <td>Alvin and the Chipmunks</td>\n",
       "      <td>https://www.imdb.com/title/tt0952640/</td>\n",
       "      <td>movie</td>\n",
       "      <td>5.2</td>\n",
       "      <td>92</td>\n",
       "      <td>2007</td>\n",
       "      <td>Animation, Adventure, Comedy, Drama, Family, F...</td>\n",
       "      <td>85999</td>\n",
       "      <td>2007-12-13</td>\n",
       "      <td>Tim Hill</td>\n",
       "    </tr>\n",
       "    <tr>\n",
       "      <th>4</th>\n",
       "      <td>5</td>\n",
       "      <td>tt0332379</td>\n",
       "      <td>2012-09-02</td>\n",
       "      <td>2012-09-02</td>\n",
       "      <td>None</td>\n",
       "      <td>School of Rock</td>\n",
       "      <td>https://www.imdb.com/title/tt0332379/</td>\n",
       "      <td>movie</td>\n",
       "      <td>7.2</td>\n",
       "      <td>109</td>\n",
       "      <td>2003</td>\n",
       "      <td>Comedy, Music</td>\n",
       "      <td>304868</td>\n",
       "      <td>2003-09-09</td>\n",
       "      <td>Richard Linklater</td>\n",
       "    </tr>\n",
       "    <tr>\n",
       "      <th>...</th>\n",
       "      <td>...</td>\n",
       "      <td>...</td>\n",
       "      <td>...</td>\n",
       "      <td>...</td>\n",
       "      <td>...</td>\n",
       "      <td>...</td>\n",
       "      <td>...</td>\n",
       "      <td>...</td>\n",
       "      <td>...</td>\n",
       "      <td>...</td>\n",
       "      <td>...</td>\n",
       "      <td>...</td>\n",
       "      <td>...</td>\n",
       "      <td>...</td>\n",
       "      <td>...</td>\n",
       "    </tr>\n",
       "    <tr>\n",
       "      <th>249</th>\n",
       "      <td>250</td>\n",
       "      <td>tt2702724</td>\n",
       "      <td>2021-12-10</td>\n",
       "      <td>2021-12-10</td>\n",
       "      <td>None</td>\n",
       "      <td>The Boss</td>\n",
       "      <td>https://www.imdb.com/title/tt2702724/</td>\n",
       "      <td>movie</td>\n",
       "      <td>5.4</td>\n",
       "      <td>99</td>\n",
       "      <td>2016</td>\n",
       "      <td>Comedy</td>\n",
       "      <td>46541</td>\n",
       "      <td>2016-03-21</td>\n",
       "      <td>Ben Falcone</td>\n",
       "    </tr>\n",
       "    <tr>\n",
       "      <th>250</th>\n",
       "      <td>251</td>\n",
       "      <td>tt13834006</td>\n",
       "      <td>2022-02-05</td>\n",
       "      <td>2022-02-05</td>\n",
       "      <td>None</td>\n",
       "      <td>Huit Rue de l'Humanite</td>\n",
       "      <td>https://www.imdb.com/title/tt13834006/</td>\n",
       "      <td>movie</td>\n",
       "      <td>6.3</td>\n",
       "      <td>125</td>\n",
       "      <td>2021</td>\n",
       "      <td>Comedy</td>\n",
       "      <td>7096</td>\n",
       "      <td>2021-10-20</td>\n",
       "      <td>Dany Boon</td>\n",
       "    </tr>\n",
       "    <tr>\n",
       "      <th>251</th>\n",
       "      <td>252</td>\n",
       "      <td>tt14592064</td>\n",
       "      <td>2022-02-19</td>\n",
       "      <td>2022-02-19</td>\n",
       "      <td>None</td>\n",
       "      <td>Home Team</td>\n",
       "      <td>https://www.imdb.com/title/tt14592064/</td>\n",
       "      <td>movie</td>\n",
       "      <td>6.0</td>\n",
       "      <td>95</td>\n",
       "      <td>2022</td>\n",
       "      <td>Comedy, Sport</td>\n",
       "      <td>18494</td>\n",
       "      <td>2022-01-28</td>\n",
       "      <td>Charles Kinnane, Daniel Kinnane</td>\n",
       "    </tr>\n",
       "    <tr>\n",
       "      <th>252</th>\n",
       "      <td>253</td>\n",
       "      <td>tt2463208</td>\n",
       "      <td>2022-03-16</td>\n",
       "      <td>2022-03-16</td>\n",
       "      <td>None</td>\n",
       "      <td>The Adam Project</td>\n",
       "      <td>https://www.imdb.com/title/tt2463208/</td>\n",
       "      <td>movie</td>\n",
       "      <td>6.7</td>\n",
       "      <td>106</td>\n",
       "      <td>2022</td>\n",
       "      <td>Action, Adventure, Comedy, Sci-Fi</td>\n",
       "      <td>193809</td>\n",
       "      <td>2022-02-28</td>\n",
       "      <td>Shawn Levy</td>\n",
       "    </tr>\n",
       "    <tr>\n",
       "      <th>253</th>\n",
       "      <td>254</td>\n",
       "      <td>tt4593060</td>\n",
       "      <td>2022-09-11</td>\n",
       "      <td>2022-09-11</td>\n",
       "      <td>None</td>\n",
       "      <td>Pinocchio</td>\n",
       "      <td>https://www.imdb.com/title/tt4593060/</td>\n",
       "      <td>movie</td>\n",
       "      <td>5.1</td>\n",
       "      <td>105</td>\n",
       "      <td>2022</td>\n",
       "      <td>Adventure, Comedy, Drama, Family, Fantasy, Mus...</td>\n",
       "      <td>25355</td>\n",
       "      <td>2022-09-08</td>\n",
       "      <td>Robert Zemeckis</td>\n",
       "    </tr>\n",
       "  </tbody>\n",
       "</table>\n",
       "<p>254 rows × 15 columns</p>\n",
       "</div>"
      ],
      "text/plain": [
       "     Position       Const     Created   Modified  \\\n",
       "0           1   tt0382932  2012-09-02 2012-09-02   \n",
       "1           2   tt0266543  2012-09-02 2012-09-02   \n",
       "2           3   tt0141109  2012-09-02 2012-09-02   \n",
       "3           4   tt0952640  2012-09-02 2012-09-02   \n",
       "4           5   tt0332379  2012-09-02 2012-09-02   \n",
       "..        ...         ...         ...        ...   \n",
       "249       250   tt2702724  2021-12-10 2021-12-10   \n",
       "250       251  tt13834006  2022-02-05 2022-02-05   \n",
       "251       252  tt14592064  2022-02-19 2022-02-19   \n",
       "252       253   tt2463208  2022-03-16 2022-03-16   \n",
       "253       254   tt4593060  2022-09-11 2022-09-11   \n",
       "\n",
       "                               Description                    Title  \\\n",
       "0                                     None              Ratatouille   \n",
       "1                                     None             Finding Nemo   \n",
       "2    Really sad movie :'( I cried bigtime!               Jack Frost   \n",
       "3                                     None  Alvin and the Chipmunks   \n",
       "4                                     None           School of Rock   \n",
       "..                                     ...                      ...   \n",
       "249                                   None                 The Boss   \n",
       "250                                   None   Huit Rue de l'Humanite   \n",
       "251                                   None                Home Team   \n",
       "252                                   None         The Adam Project   \n",
       "253                                   None                Pinocchio   \n",
       "\n",
       "                                        URL Title Type  IMDb Rating  \\\n",
       "0     https://www.imdb.com/title/tt0382932/      movie          8.1   \n",
       "1     https://www.imdb.com/title/tt0266543/      movie          8.2   \n",
       "2     https://www.imdb.com/title/tt0141109/      movie          5.4   \n",
       "3     https://www.imdb.com/title/tt0952640/      movie          5.2   \n",
       "4     https://www.imdb.com/title/tt0332379/      movie          7.2   \n",
       "..                                      ...        ...          ...   \n",
       "249   https://www.imdb.com/title/tt2702724/      movie          5.4   \n",
       "250  https://www.imdb.com/title/tt13834006/      movie          6.3   \n",
       "251  https://www.imdb.com/title/tt14592064/      movie          6.0   \n",
       "252   https://www.imdb.com/title/tt2463208/      movie          6.7   \n",
       "253   https://www.imdb.com/title/tt4593060/      movie          5.1   \n",
       "\n",
       "     Runtime (mins)  Year                                             Genres  \\\n",
       "0               111  2007      Animation, Adventure, Comedy, Family, Fantasy   \n",
       "1               100  2003               Animation, Adventure, Comedy, Family   \n",
       "2               101  1998                     Comedy, Drama, Family, Fantasy   \n",
       "3                92  2007  Animation, Adventure, Comedy, Drama, Family, F...   \n",
       "4               109  2003                                      Comedy, Music   \n",
       "..              ...   ...                                                ...   \n",
       "249              99  2016                                             Comedy   \n",
       "250             125  2021                                             Comedy   \n",
       "251              95  2022                                      Comedy, Sport   \n",
       "252             106  2022                  Action, Adventure, Comedy, Sci-Fi   \n",
       "253             105  2022  Adventure, Comedy, Drama, Family, Fantasy, Mus...   \n",
       "\n",
       "     Num Votes Release Date                        Directors  \n",
       "0       726444   2007-06-22           Brad Bird, Jan Pinkava  \n",
       "1      1034835   2003-05-18      Andrew Stanton, Lee Unkrich  \n",
       "2        36826   1998-11-15                      Troy Miller  \n",
       "3        85999   2007-12-13                         Tim Hill  \n",
       "4       304868   2003-09-09                Richard Linklater  \n",
       "..         ...          ...                              ...  \n",
       "249      46541   2016-03-21                      Ben Falcone  \n",
       "250       7096   2021-10-20                        Dany Boon  \n",
       "251      18494   2022-01-28  Charles Kinnane, Daniel Kinnane  \n",
       "252     193809   2022-02-28                       Shawn Levy  \n",
       "253      25355   2022-09-08                  Robert Zemeckis  \n",
       "\n",
       "[254 rows x 15 columns]"
      ]
     },
     "execution_count": 319,
     "metadata": {},
     "output_type": "execute_result"
    }
   ],
   "source": [
    "# Load the contents of a json file into a DataFrame using 'read_json'\n",
    "data = pd.read_json('IMDB-Movie-Data.json')\n",
    "data    "
   ]
  },
  {
   "cell_type": "markdown",
   "id": "e84ec86e",
   "metadata": {},
   "source": [
    "## Pandas Index Object\n",
    "\n",
    "A Pandas ``Index`` object stores row index labels attached to Pandas objects. It is an immutable array implementing an **ordered, sliceable set of values**.\n"
   ]
  },
  {
   "cell_type": "code",
   "execution_count": 320,
   "id": "4d11f9ed",
   "metadata": {},
   "outputs": [
    {
     "data": {
      "text/plain": [
       "Index(['color', 'blue', 'purple', 'red'], dtype='object', name='y')"
      ]
     },
     "execution_count": 320,
     "metadata": {},
     "output_type": "execute_result"
    }
   ],
   "source": [
    "df.index"
   ]
  },
  {
   "cell_type": "code",
   "execution_count": 321,
   "id": "0afe2ca7",
   "metadata": {},
   "outputs": [
    {
     "name": "stdout",
     "output_type": "stream",
     "text": [
      "['color' 'blue' 'purple' 'red']\n"
     ]
    }
   ],
   "source": [
    "print(df.index.values)"
   ]
  },
  {
   "cell_type": "code",
   "execution_count": 322,
   "id": "9fe2f152",
   "metadata": {},
   "outputs": [
    {
     "data": {
      "text/plain": [
       "Int64Index([  0,   1,   2,   3,   4,   5,   6,   7,   8,   9,\n",
       "            ...\n",
       "            244, 245, 246, 247, 248, 249, 250, 251, 252, 253],\n",
       "           dtype='int64', length=254)"
      ]
     },
     "execution_count": 322,
     "metadata": {},
     "output_type": "execute_result"
    }
   ],
   "source": [
    "data.index"
   ]
  },
  {
   "cell_type": "code",
   "execution_count": 323,
   "id": "75db090c",
   "metadata": {},
   "outputs": [
    {
     "name": "stdout",
     "output_type": "stream",
     "text": [
      "[  0   1   2   3   4   5   6   7   8   9  10  11  12  13  14  15  16  17\n",
      "  18  19  20  21  22  23  24  25  26  27  28  29  30  31  32  33  34  35\n",
      "  36  37  38  39  40  41  42  43  44  45  46  47  48  49  50  51  52  53\n",
      "  54  55  56  57  58  59  60  61  62  63  64  65  66  67  68  69  70  71\n",
      "  72  73  74  75  76  77  78  79  80  81  82  83  84  85  86  87  88  89\n",
      "  90  91  92  93  94  95  96  97  98  99 100 101 102 103 104 105 106 107\n",
      " 108 109 110 111 112 113 114 115 116 117 118 119 120 121 122 123 124 125\n",
      " 126 127 128 129 130 131 132 133 134 135 136 137 138 139 140 141 142 143\n",
      " 144 145 146 147 148 149 150 151 152 153 154 155 156 157 158 159 160 161\n",
      " 162 163 164 165 166 167 168 169 170 171 172 173 174 175 176 177 178 179\n",
      " 180 181 182 183 184 185 186 187 188 189 190 191 192 193 194 195 196 197\n",
      " 198 199 200 201 202 203 204 205 206 207 208 209 210 211 212 213 214 215\n",
      " 216 217 218 219 220 221 222 223 224 225 226 227 228 229 230 231 232 233\n",
      " 234 235 236 237 238 239 240 241 242 243 244 245 246 247 248 249 250 251\n",
      " 252 253]\n"
     ]
    }
   ],
   "source": [
    "print(data.index.values)"
   ]
  },
  {
   "cell_type": "markdown",
   "id": "67d3b9bc",
   "metadata": {},
   "source": [
    "\n",
    "# 2) Indexing and Selection of Data in Pandas \n",
    "\n",
    "Pandas `Series` and `DataFrame` are attached to `index` objects. \n",
    "\n",
    "In addition, `DataFrame` also have column labels.\n",
    "\n",
    "Building on NumPy, Pandas `Series` and `DataFrame` can be accessed and indexed using intelligent label-based slicing, fancy indexing, and selection of columns, in large data sets. In addition, Pandas objects support hierarchical indexing. "
   ]
  },
  {
   "cell_type": "markdown",
   "id": "09a5ef21",
   "metadata": {},
   "source": [
    "## Indexing Series"
   ]
  },
  {
   "cell_type": "code",
   "execution_count": 324,
   "id": "942b3ad8",
   "metadata": {},
   "outputs": [
    {
     "data": {
      "text/plain": [
       "x1    10\n",
       "x2    20\n",
       "x3    30\n",
       "x4    40\n",
       "x5    50\n",
       "x6    60\n",
       "x7    70\n",
       "x8    80\n",
       "x9    90\n",
       "dtype: int64"
      ]
     },
     "execution_count": 324,
     "metadata": {},
     "output_type": "execute_result"
    }
   ],
   "source": [
    "series = pd.Series([10,20,30,40,50,60,70,80,90], index=['x1','x2','x3','x4','x5','x6','x7','x8','x9'])\n",
    "series"
   ]
  },
  {
   "cell_type": "markdown",
   "id": "4054b05f",
   "metadata": {},
   "source": [
    "### Slicing, fancy indexing, and masking\n",
    "\n",
    "A Pandas object can be indexed by label or by position i.e., there are two ways to index entries in a Pandas `Series`: either using their explicit labels, or using their implicit positions.\n",
    "\n",
    "Indexing by position is particulary useful if we don't know, or care about, the index labels."
   ]
  },
  {
   "cell_type": "markdown",
   "id": "44189ae7",
   "metadata": {},
   "source": [
    "####  Indexing using labels"
   ]
  },
  {
   "cell_type": "code",
   "execution_count": 325,
   "id": "7a52a12f",
   "metadata": {},
   "outputs": [
    {
     "data": {
      "text/plain": [
       "10"
      ]
     },
     "execution_count": 325,
     "metadata": {},
     "output_type": "execute_result"
    }
   ],
   "source": [
    "# Simple indexing using explicit labels\n",
    "series['x1']"
   ]
  },
  {
   "cell_type": "code",
   "execution_count": 326,
   "id": "d575fc29",
   "metadata": {},
   "outputs": [
    {
     "data": {
      "text/plain": [
       "x1    10\n",
       "x2    20\n",
       "x3    30\n",
       "x4    40\n",
       "x5    50\n",
       "x6    60\n",
       "x7    70\n",
       "dtype: int64"
      ]
     },
     "execution_count": 326,
     "metadata": {},
     "output_type": "execute_result"
    }
   ],
   "source": [
    "# Slicing using explicit labels\n",
    "series['x1':'x7']"
   ]
  },
  {
   "cell_type": "code",
   "execution_count": 327,
   "id": "0d9ef44b",
   "metadata": {},
   "outputs": [
    {
     "data": {
      "text/plain": [
       "x2    20\n",
       "x5    50\n",
       "x8    80\n",
       "dtype: int64"
      ]
     },
     "execution_count": 327,
     "metadata": {},
     "output_type": "execute_result"
    }
   ],
   "source": [
    "# Fancy indexing using explicit labels\n",
    "series[['x2', 'x5', 'x8']]"
   ]
  },
  {
   "cell_type": "code",
   "execution_count": 328,
   "id": "4c2cce9b",
   "metadata": {},
   "outputs": [
    {
     "data": {
      "text/plain": [
       "x4    40\n",
       "x5    50\n",
       "x6    60\n",
       "x7    70\n",
       "x8    80\n",
       "dtype: int64"
      ]
     },
     "execution_count": 328,
     "metadata": {},
     "output_type": "execute_result"
    }
   ],
   "source": [
    "# Masking\n",
    "series[(series >= 40) & (series <= 80)]"
   ]
  },
  {
   "cell_type": "markdown",
   "id": "5da2359a",
   "metadata": {},
   "source": [
    "#### Indexing using positions"
   ]
  },
  {
   "cell_type": "code",
   "execution_count": 329,
   "id": "17c6d5de",
   "metadata": {},
   "outputs": [
    {
     "data": {
      "text/plain": [
       "10"
      ]
     },
     "execution_count": 329,
     "metadata": {},
     "output_type": "execute_result"
    }
   ],
   "source": [
    "# Simple indexing using positional indexes\n",
    "series[0]"
   ]
  },
  {
   "cell_type": "code",
   "execution_count": 330,
   "id": "cc66df88",
   "metadata": {},
   "outputs": [
    {
     "data": {
      "text/plain": [
       "x1    10\n",
       "x2    20\n",
       "x3    30\n",
       "x4    40\n",
       "x5    50\n",
       "x6    60\n",
       "x7    70\n",
       "dtype: int64"
      ]
     },
     "execution_count": 330,
     "metadata": {},
     "output_type": "execute_result"
    }
   ],
   "source": [
    "# Slicing using positional indexes\n",
    "series[0:7]"
   ]
  },
  {
   "cell_type": "code",
   "execution_count": 331,
   "id": "b5e66b5c",
   "metadata": {},
   "outputs": [
    {
     "data": {
      "text/plain": [
       "x2    20\n",
       "x5    50\n",
       "x8    80\n",
       "dtype: int64"
      ]
     },
     "execution_count": 331,
     "metadata": {},
     "output_type": "execute_result"
    }
   ],
   "source": [
    "# Fancy indexing using positional indexes\n",
    "series[[1, 4, 7]]"
   ]
  },
  {
   "cell_type": "markdown",
   "id": "bf8b1ae9",
   "metadata": {},
   "source": [
    "The ability to use implicit or explicit indexing can lead to confusions, in particular if labels used for indices are integers too. For example:"
   ]
  },
  {
   "cell_type": "code",
   "execution_count": 332,
   "id": "4b1a4cbc",
   "metadata": {},
   "outputs": [
    {
     "data": {
      "text/plain": [
       "1    a\n",
       "2    b\n",
       "3    c\n",
       "4    d\n",
       "5    e\n",
       "dtype: object"
      ]
     },
     "execution_count": 332,
     "metadata": {},
     "output_type": "execute_result"
    }
   ],
   "source": [
    "series = pd.Series(['a','b','c','d','e'], index=[1,2,3,4,5])\n",
    "series"
   ]
  },
  {
   "cell_type": "markdown",
   "id": "93e95338",
   "metadata": {},
   "source": [
    "In the following statement, did the programmer mean position 4 or label 4?"
   ]
  },
  {
   "cell_type": "code",
   "execution_count": 333,
   "id": "72cc21c7",
   "metadata": {},
   "outputs": [
    {
     "name": "stdout",
     "output_type": "stream",
     "text": [
      "d\n"
     ]
    }
   ],
   "source": [
    "print(series[4]) "
   ]
  },
  {
   "cell_type": "markdown",
   "id": "8ee519b5",
   "metadata": {},
   "source": [
    "If explicit labels are integers, Pandas defaults to indexing by explicit label, so here `4` is considered a label, not a position"
   ]
  },
  {
   "cell_type": "markdown",
   "id": "98ce24bb",
   "metadata": {},
   "source": [
    "### Indexing by labels with ``loc``\n",
    "\n",
    "To ensure and make clear that the index *label* is invoked, not the index *position*, the method ``loc`` can be used for indexing and slicing"
   ]
  },
  {
   "cell_type": "code",
   "execution_count": 334,
   "id": "5de02c50",
   "metadata": {},
   "outputs": [
    {
     "name": "stdout",
     "output_type": "stream",
     "text": [
      "a b d\n"
     ]
    }
   ],
   "source": [
    "print(series.loc[1], series.loc[2], series.loc[4])"
   ]
  },
  {
   "cell_type": "code",
   "execution_count": 335,
   "id": "5f4422fb",
   "metadata": {},
   "outputs": [
    {
     "name": "stdout",
     "output_type": "stream",
     "text": [
      "e\n"
     ]
    }
   ],
   "source": [
    "print(series.loc[5]) # Equivalent to print(series[5])"
   ]
  },
  {
   "cell_type": "markdown",
   "id": "a4d558da",
   "metadata": {},
   "source": [
    "### Indexing by positions with ```iloc```\n",
    "To ensure the numerical (positional) index is invoked, not the label, the method ``iloc`` can be used for indexing and slicing"
   ]
  },
  {
   "cell_type": "code",
   "execution_count": 336,
   "id": "c6ba61b5",
   "metadata": {},
   "outputs": [
    {
     "name": "stdout",
     "output_type": "stream",
     "text": [
      "b c e\n"
     ]
    }
   ],
   "source": [
    "print(series.iloc[1], series.iloc[2], series.iloc[4])"
   ]
  },
  {
   "cell_type": "code",
   "execution_count": 337,
   "id": "f4ef8817",
   "metadata": {
    "collapsed": true
   },
   "outputs": [
    {
     "ename": "IndexError",
     "evalue": "single positional indexer is out-of-bounds",
     "output_type": "error",
     "traceback": [
      "\u001b[0;31m---------------------------------------------------------------------------\u001b[0m",
      "\u001b[0;31mIndexError\u001b[0m                                Traceback (most recent call last)",
      "Input \u001b[0;32mIn [337]\u001b[0m, in \u001b[0;36m<cell line: 1>\u001b[0;34m()\u001b[0m\n\u001b[0;32m----> 1\u001b[0m \u001b[38;5;28mprint\u001b[39m(\u001b[43mseries\u001b[49m\u001b[38;5;241;43m.\u001b[39;49m\u001b[43miloc\u001b[49m\u001b[43m[\u001b[49m\u001b[38;5;241;43m5\u001b[39;49m\u001b[43m]\u001b[49m)\n",
      "File \u001b[0;32m~/opt/anaconda3/lib/python3.9/site-packages/pandas/core/indexing.py:967\u001b[0m, in \u001b[0;36m_LocationIndexer.__getitem__\u001b[0;34m(self, key)\u001b[0m\n\u001b[1;32m    964\u001b[0m axis \u001b[38;5;241m=\u001b[39m \u001b[38;5;28mself\u001b[39m\u001b[38;5;241m.\u001b[39maxis \u001b[38;5;129;01mor\u001b[39;00m \u001b[38;5;241m0\u001b[39m\n\u001b[1;32m    966\u001b[0m maybe_callable \u001b[38;5;241m=\u001b[39m com\u001b[38;5;241m.\u001b[39mapply_if_callable(key, \u001b[38;5;28mself\u001b[39m\u001b[38;5;241m.\u001b[39mobj)\n\u001b[0;32m--> 967\u001b[0m \u001b[38;5;28;01mreturn\u001b[39;00m \u001b[38;5;28;43mself\u001b[39;49m\u001b[38;5;241;43m.\u001b[39;49m\u001b[43m_getitem_axis\u001b[49m\u001b[43m(\u001b[49m\u001b[43mmaybe_callable\u001b[49m\u001b[43m,\u001b[49m\u001b[43m \u001b[49m\u001b[43maxis\u001b[49m\u001b[38;5;241;43m=\u001b[39;49m\u001b[43maxis\u001b[49m\u001b[43m)\u001b[49m\n",
      "File \u001b[0;32m~/opt/anaconda3/lib/python3.9/site-packages/pandas/core/indexing.py:1520\u001b[0m, in \u001b[0;36m_iLocIndexer._getitem_axis\u001b[0;34m(self, key, axis)\u001b[0m\n\u001b[1;32m   1517\u001b[0m     \u001b[38;5;28;01mraise\u001b[39;00m \u001b[38;5;167;01mTypeError\u001b[39;00m(\u001b[38;5;124m\"\u001b[39m\u001b[38;5;124mCannot index by location index with a non-integer key\u001b[39m\u001b[38;5;124m\"\u001b[39m)\n\u001b[1;32m   1519\u001b[0m \u001b[38;5;66;03m# validate the location\u001b[39;00m\n\u001b[0;32m-> 1520\u001b[0m \u001b[38;5;28;43mself\u001b[39;49m\u001b[38;5;241;43m.\u001b[39;49m\u001b[43m_validate_integer\u001b[49m\u001b[43m(\u001b[49m\u001b[43mkey\u001b[49m\u001b[43m,\u001b[49m\u001b[43m \u001b[49m\u001b[43maxis\u001b[49m\u001b[43m)\u001b[49m\n\u001b[1;32m   1522\u001b[0m \u001b[38;5;28;01mreturn\u001b[39;00m \u001b[38;5;28mself\u001b[39m\u001b[38;5;241m.\u001b[39mobj\u001b[38;5;241m.\u001b[39m_ixs(key, axis\u001b[38;5;241m=\u001b[39maxis)\n",
      "File \u001b[0;32m~/opt/anaconda3/lib/python3.9/site-packages/pandas/core/indexing.py:1452\u001b[0m, in \u001b[0;36m_iLocIndexer._validate_integer\u001b[0;34m(self, key, axis)\u001b[0m\n\u001b[1;32m   1450\u001b[0m len_axis \u001b[38;5;241m=\u001b[39m \u001b[38;5;28mlen\u001b[39m(\u001b[38;5;28mself\u001b[39m\u001b[38;5;241m.\u001b[39mobj\u001b[38;5;241m.\u001b[39m_get_axis(axis))\n\u001b[1;32m   1451\u001b[0m \u001b[38;5;28;01mif\u001b[39;00m key \u001b[38;5;241m>\u001b[39m\u001b[38;5;241m=\u001b[39m len_axis \u001b[38;5;129;01mor\u001b[39;00m key \u001b[38;5;241m<\u001b[39m \u001b[38;5;241m-\u001b[39mlen_axis:\n\u001b[0;32m-> 1452\u001b[0m     \u001b[38;5;28;01mraise\u001b[39;00m \u001b[38;5;167;01mIndexError\u001b[39;00m(\u001b[38;5;124m\"\u001b[39m\u001b[38;5;124msingle positional indexer is out-of-bounds\u001b[39m\u001b[38;5;124m\"\u001b[39m)\n",
      "\u001b[0;31mIndexError\u001b[0m: single positional indexer is out-of-bounds"
     ]
    }
   ],
   "source": [
    "print(series.iloc[5])  # Implicit (positional) index 5 is out of bounds"
   ]
  },
  {
   "cell_type": "markdown",
   "id": "542a02c4",
   "metadata": {},
   "source": [
    "## Indexing and Selection in Dataframe\n",
    "\n",
    "\n",
    "A``DataFrame`` is *indexed* like a series of `Series`.\n",
    "\n",
    "Each column is a `Series`. \n",
    "\n",
    "Any column or set of columns can be *selected* (we used the word \"*selected*\" rather than \"*indexed*\" when refering to columns)\n"
   ]
  },
  {
   "cell_type": "code",
   "execution_count": 338,
   "id": "75178a12",
   "metadata": {},
   "outputs": [
    {
     "data": {
      "text/html": [
       "<div>\n",
       "<style scoped>\n",
       "    .dataframe tbody tr th:only-of-type {\n",
       "        vertical-align: middle;\n",
       "    }\n",
       "\n",
       "    .dataframe tbody tr th {\n",
       "        vertical-align: top;\n",
       "    }\n",
       "\n",
       "    .dataframe thead th {\n",
       "        text-align: right;\n",
       "    }\n",
       "</style>\n",
       "<table border=\"1\" class=\"dataframe\">\n",
       "  <thead>\n",
       "    <tr style=\"text-align: right;\">\n",
       "      <th></th>\n",
       "      <th>x1</th>\n",
       "      <th>x2</th>\n",
       "      <th>x3</th>\n",
       "      <th>x4</th>\n",
       "      <th>y</th>\n",
       "    </tr>\n",
       "  </thead>\n",
       "  <tbody>\n",
       "    <tr>\n",
       "      <th>Obs 1</th>\n",
       "      <td>0.158477</td>\n",
       "      <td>0.871625</td>\n",
       "      <td>0.934423</td>\n",
       "      <td>0.595098</td>\n",
       "      <td>0.827684</td>\n",
       "    </tr>\n",
       "    <tr>\n",
       "      <th>Obs 2</th>\n",
       "      <td>0.346370</td>\n",
       "      <td>0.091339</td>\n",
       "      <td>0.141103</td>\n",
       "      <td>0.179219</td>\n",
       "      <td>0.170643</td>\n",
       "    </tr>\n",
       "    <tr>\n",
       "      <th>Obs 3</th>\n",
       "      <td>0.352985</td>\n",
       "      <td>0.596605</td>\n",
       "      <td>0.413909</td>\n",
       "      <td>0.545098</td>\n",
       "      <td>0.975905</td>\n",
       "    </tr>\n",
       "    <tr>\n",
       "      <th>Obs 4</th>\n",
       "      <td>0.543523</td>\n",
       "      <td>0.697431</td>\n",
       "      <td>0.721500</td>\n",
       "      <td>0.395652</td>\n",
       "      <td>0.157123</td>\n",
       "    </tr>\n",
       "    <tr>\n",
       "      <th>Obs 5</th>\n",
       "      <td>0.977292</td>\n",
       "      <td>0.440029</td>\n",
       "      <td>0.078760</td>\n",
       "      <td>0.434279</td>\n",
       "      <td>0.462086</td>\n",
       "    </tr>\n",
       "  </tbody>\n",
       "</table>\n",
       "</div>"
      ],
      "text/plain": [
       "             x1        x2        x3        x4         y\n",
       "Obs 1  0.158477  0.871625  0.934423  0.595098  0.827684\n",
       "Obs 2  0.346370  0.091339  0.141103  0.179219  0.170643\n",
       "Obs 3  0.352985  0.596605  0.413909  0.545098  0.975905\n",
       "Obs 4  0.543523  0.697431  0.721500  0.395652  0.157123\n",
       "Obs 5  0.977292  0.440029  0.078760  0.434279  0.462086"
      ]
     },
     "execution_count": 338,
     "metadata": {},
     "output_type": "execute_result"
    }
   ],
   "source": [
    "data = pd.DataFrame(np.random.rand(5, 5),\n",
    "                    columns = ['x1', 'x2', 'x3', 'x4', 'y'],\n",
    "                    index = ['Obs 1', 'Obs 2', 'Obs 3', 'Obs 4', 'Obs 5'])\n",
    "data"
   ]
  },
  {
   "cell_type": "markdown",
   "id": "727de0a2",
   "metadata": {},
   "source": [
    "### Selection of columns\n",
    "\n",
    "If there is only one argument in the square brackets of a 2D `DataFrame`, it is used to select column(s): it must be some existing column label(s)"
   ]
  },
  {
   "cell_type": "code",
   "execution_count": 339,
   "id": "28f9f516",
   "metadata": {},
   "outputs": [
    {
     "data": {
      "text/plain": [
       "Obs 1    0.158477\n",
       "Obs 2    0.346370\n",
       "Obs 3    0.352985\n",
       "Obs 4    0.543523\n",
       "Obs 5    0.977292\n",
       "Name: x1, dtype: float64"
      ]
     },
     "execution_count": 339,
     "metadata": {},
     "output_type": "execute_result"
    }
   ],
   "source": [
    "data['x1'] # Simple indexing (='selection') using column labels"
   ]
  },
  {
   "cell_type": "code",
   "execution_count": 340,
   "id": "c8b41f2f",
   "metadata": {},
   "outputs": [
    {
     "data": {
      "text/plain": [
       "Obs 1    0.827684\n",
       "Obs 2    0.170643\n",
       "Obs 3    0.975905\n",
       "Obs 4    0.157123\n",
       "Obs 5    0.462086\n",
       "Name: y, dtype: float64"
      ]
     },
     "execution_count": 340,
     "metadata": {},
     "output_type": "execute_result"
    }
   ],
   "source": [
    "data['y'] # Simple indexing (='selection') using column labels"
   ]
  },
  {
   "cell_type": "code",
   "execution_count": 341,
   "id": "da318ed7",
   "metadata": {},
   "outputs": [
    {
     "data": {
      "text/html": [
       "<div>\n",
       "<style scoped>\n",
       "    .dataframe tbody tr th:only-of-type {\n",
       "        vertical-align: middle;\n",
       "    }\n",
       "\n",
       "    .dataframe tbody tr th {\n",
       "        vertical-align: top;\n",
       "    }\n",
       "\n",
       "    .dataframe thead th {\n",
       "        text-align: right;\n",
       "    }\n",
       "</style>\n",
       "<table border=\"1\" class=\"dataframe\">\n",
       "  <thead>\n",
       "    <tr style=\"text-align: right;\">\n",
       "      <th></th>\n",
       "      <th>x1</th>\n",
       "      <th>x2</th>\n",
       "      <th>x4</th>\n",
       "    </tr>\n",
       "  </thead>\n",
       "  <tbody>\n",
       "    <tr>\n",
       "      <th>Obs 1</th>\n",
       "      <td>0.158477</td>\n",
       "      <td>0.871625</td>\n",
       "      <td>0.595098</td>\n",
       "    </tr>\n",
       "    <tr>\n",
       "      <th>Obs 2</th>\n",
       "      <td>0.346370</td>\n",
       "      <td>0.091339</td>\n",
       "      <td>0.179219</td>\n",
       "    </tr>\n",
       "    <tr>\n",
       "      <th>Obs 3</th>\n",
       "      <td>0.352985</td>\n",
       "      <td>0.596605</td>\n",
       "      <td>0.545098</td>\n",
       "    </tr>\n",
       "    <tr>\n",
       "      <th>Obs 4</th>\n",
       "      <td>0.543523</td>\n",
       "      <td>0.697431</td>\n",
       "      <td>0.395652</td>\n",
       "    </tr>\n",
       "    <tr>\n",
       "      <th>Obs 5</th>\n",
       "      <td>0.977292</td>\n",
       "      <td>0.440029</td>\n",
       "      <td>0.434279</td>\n",
       "    </tr>\n",
       "  </tbody>\n",
       "</table>\n",
       "</div>"
      ],
      "text/plain": [
       "             x1        x2        x4\n",
       "Obs 1  0.158477  0.871625  0.595098\n",
       "Obs 2  0.346370  0.091339  0.179219\n",
       "Obs 3  0.352985  0.596605  0.545098\n",
       "Obs 4  0.543523  0.697431  0.395652\n",
       "Obs 5  0.977292  0.440029  0.434279"
      ]
     },
     "execution_count": 341,
     "metadata": {},
     "output_type": "execute_result"
    }
   ],
   "source": [
    "data[['x1', 'x2', 'x4']] # Fancy indexing (='selection')"
   ]
  },
  {
   "cell_type": "markdown",
   "id": "43a69ac4",
   "metadata": {},
   "source": [
    "The dot notation can be used as an alternative approach to select columns (same as in SQL query language).\n",
    "\n",
    "This approach is not recommended due to risk of over-riding and confusing the `DataFrame`'s column names with the `DataFrame`'s methods (also invoked using the dot notation). "
   ]
  },
  {
   "cell_type": "code",
   "execution_count": 343,
   "id": "2f9032e9",
   "metadata": {},
   "outputs": [
    {
     "data": {
      "text/plain": [
       "Obs 1    0.827684\n",
       "Obs 2    0.170643\n",
       "Obs 3    0.975905\n",
       "Obs 4    0.157123\n",
       "Obs 5    0.462086\n",
       "Name: y, dtype: float64"
      ]
     },
     "execution_count": 343,
     "metadata": {},
     "output_type": "execute_result"
    }
   ],
   "source": [
    "# Alternative approach to select columns \n",
    "data.y"
   ]
  },
  {
   "cell_type": "markdown",
   "id": "84bac446",
   "metadata": {},
   "source": [
    "### Indexing of rows"
   ]
  },
  {
   "cell_type": "markdown",
   "id": "7b356e0b",
   "metadata": {},
   "source": [
    "#### Indexing rows in a specific column"
   ]
  },
  {
   "cell_type": "code",
   "execution_count": 344,
   "id": "b99908ee",
   "metadata": {},
   "outputs": [
    {
     "data": {
      "text/plain": [
       "0.871624673942135"
      ]
     },
     "execution_count": 344,
     "metadata": {},
     "output_type": "execute_result"
    }
   ],
   "source": [
    "data['x2'][0] # Select column + index the corresponding series by position"
   ]
  },
  {
   "cell_type": "code",
   "execution_count": 345,
   "id": "f2f9f88e",
   "metadata": {},
   "outputs": [
    {
     "data": {
      "text/plain": [
       "0.8276838736070256"
      ]
     },
     "execution_count": 345,
     "metadata": {},
     "output_type": "execute_result"
    }
   ],
   "source": [
    "data['y'][0] # Select column + index the corresponding series by position"
   ]
  },
  {
   "cell_type": "code",
   "execution_count": 346,
   "id": "238fb439",
   "metadata": {},
   "outputs": [
    {
     "data": {
      "text/plain": [
       "Obs 1    0.827684\n",
       "Obs 2    0.170643\n",
       "Obs 3    0.975905\n",
       "Obs 4    0.157123\n",
       "Name: y, dtype: float64"
      ]
     },
     "execution_count": 346,
     "metadata": {},
     "output_type": "execute_result"
    }
   ],
   "source": [
    "data['y'][0: 4] # Can use slicing "
   ]
  },
  {
   "cell_type": "code",
   "execution_count": 347,
   "id": "3ccd525f",
   "metadata": {},
   "outputs": [
    {
     "data": {
      "text/plain": [
       "0.8276838736070256"
      ]
     },
     "execution_count": 347,
     "metadata": {},
     "output_type": "execute_result"
    }
   ],
   "source": [
    "data['y']['Obs 1'] # Can index series by label too"
   ]
  },
  {
   "cell_type": "code",
   "execution_count": 348,
   "id": "4dee68b6",
   "metadata": {},
   "outputs": [
    {
     "data": {
      "text/plain": [
       "Obs 1    0.827684\n",
       "Obs 2    0.170643\n",
       "Obs 3    0.975905\n",
       "Obs 4    0.157123\n",
       "Name: y, dtype: float64"
      ]
     },
     "execution_count": 348,
     "metadata": {},
     "output_type": "execute_result"
    }
   ],
   "source": [
    "data['y']['Obs 1': 'Obs 4'] # Can use slicing by label too"
   ]
  },
  {
   "cell_type": "code",
   "execution_count": 349,
   "id": "8077b2fe",
   "metadata": {},
   "outputs": [
    {
     "data": {
      "text/plain": [
       "0.8276838736070256"
      ]
     },
     "execution_count": 349,
     "metadata": {},
     "output_type": "execute_result"
    }
   ],
   "source": [
    "data['y'].iloc[0]  # Can use iloc to ensure indexing by position "
   ]
  },
  {
   "cell_type": "code",
   "execution_count": 351,
   "id": "fb91fd60",
   "metadata": {},
   "outputs": [
    {
     "data": {
      "text/plain": [
       "0.8276838736070256"
      ]
     },
     "execution_count": 351,
     "metadata": {},
     "output_type": "execute_result"
    }
   ],
   "source": [
    "data['y'].loc['Obs 1']  # Can use loc to ensure indexing by label "
   ]
  },
  {
   "cell_type": "markdown",
   "id": "51cfae66",
   "metadata": {},
   "source": [
    "#### Fancy indexing: indexing rows in several columns\n",
    "\n",
    "Everything shown above can be done when selecting more than one column."
   ]
  },
  {
   "cell_type": "code",
   "execution_count": 352,
   "id": "3224011f",
   "metadata": {},
   "outputs": [
    {
     "data": {
      "text/html": [
       "<div>\n",
       "<style scoped>\n",
       "    .dataframe tbody tr th:only-of-type {\n",
       "        vertical-align: middle;\n",
       "    }\n",
       "\n",
       "    .dataframe tbody tr th {\n",
       "        vertical-align: top;\n",
       "    }\n",
       "\n",
       "    .dataframe thead th {\n",
       "        text-align: right;\n",
       "    }\n",
       "</style>\n",
       "<table border=\"1\" class=\"dataframe\">\n",
       "  <thead>\n",
       "    <tr style=\"text-align: right;\">\n",
       "      <th></th>\n",
       "      <th>x1</th>\n",
       "      <th>x3</th>\n",
       "      <th>y</th>\n",
       "    </tr>\n",
       "  </thead>\n",
       "  <tbody>\n",
       "    <tr>\n",
       "      <th>Obs 1</th>\n",
       "      <td>0.158477</td>\n",
       "      <td>0.934423</td>\n",
       "      <td>0.827684</td>\n",
       "    </tr>\n",
       "    <tr>\n",
       "      <th>Obs 2</th>\n",
       "      <td>0.346370</td>\n",
       "      <td>0.141103</td>\n",
       "      <td>0.170643</td>\n",
       "    </tr>\n",
       "    <tr>\n",
       "      <th>Obs 3</th>\n",
       "      <td>0.352985</td>\n",
       "      <td>0.413909</td>\n",
       "      <td>0.975905</td>\n",
       "    </tr>\n",
       "    <tr>\n",
       "      <th>Obs 4</th>\n",
       "      <td>0.543523</td>\n",
       "      <td>0.721500</td>\n",
       "      <td>0.157123</td>\n",
       "    </tr>\n",
       "  </tbody>\n",
       "</table>\n",
       "</div>"
      ],
      "text/plain": [
       "             x1        x3         y\n",
       "Obs 1  0.158477  0.934423  0.827684\n",
       "Obs 2  0.346370  0.141103  0.170643\n",
       "Obs 3  0.352985  0.413909  0.975905\n",
       "Obs 4  0.543523  0.721500  0.157123"
      ]
     },
     "execution_count": 352,
     "metadata": {},
     "output_type": "execute_result"
    }
   ],
   "source": [
    "data[['x1','x3','y']].iloc[0:4] # Select columns + slice rows by position"
   ]
  },
  {
   "cell_type": "markdown",
   "id": "15702528",
   "metadata": {},
   "source": [
    "#### Indexing rows 'for all columns'\n",
    "\n",
    "If no column is specified, all columns are selected\n"
   ]
  },
  {
   "cell_type": "code",
   "execution_count": 353,
   "id": "94abf2d9",
   "metadata": {
    "collapsed": true
   },
   "outputs": [
    {
     "ename": "KeyError",
     "evalue": "'Obs 1'",
     "output_type": "error",
     "traceback": [
      "\u001b[0;31m---------------------------------------------------------------------------\u001b[0m",
      "\u001b[0;31mKeyError\u001b[0m                                  Traceback (most recent call last)",
      "File \u001b[0;32m~/opt/anaconda3/lib/python3.9/site-packages/pandas/core/indexes/base.py:3621\u001b[0m, in \u001b[0;36mIndex.get_loc\u001b[0;34m(self, key, method, tolerance)\u001b[0m\n\u001b[1;32m   3620\u001b[0m \u001b[38;5;28;01mtry\u001b[39;00m:\n\u001b[0;32m-> 3621\u001b[0m     \u001b[38;5;28;01mreturn\u001b[39;00m \u001b[38;5;28;43mself\u001b[39;49m\u001b[38;5;241;43m.\u001b[39;49m\u001b[43m_engine\u001b[49m\u001b[38;5;241;43m.\u001b[39;49m\u001b[43mget_loc\u001b[49m\u001b[43m(\u001b[49m\u001b[43mcasted_key\u001b[49m\u001b[43m)\u001b[49m\n\u001b[1;32m   3622\u001b[0m \u001b[38;5;28;01mexcept\u001b[39;00m \u001b[38;5;167;01mKeyError\u001b[39;00m \u001b[38;5;28;01mas\u001b[39;00m err:\n",
      "File \u001b[0;32m~/opt/anaconda3/lib/python3.9/site-packages/pandas/_libs/index.pyx:136\u001b[0m, in \u001b[0;36mpandas._libs.index.IndexEngine.get_loc\u001b[0;34m()\u001b[0m\n",
      "File \u001b[0;32m~/opt/anaconda3/lib/python3.9/site-packages/pandas/_libs/index.pyx:163\u001b[0m, in \u001b[0;36mpandas._libs.index.IndexEngine.get_loc\u001b[0;34m()\u001b[0m\n",
      "File \u001b[0;32mpandas/_libs/hashtable_class_helper.pxi:5198\u001b[0m, in \u001b[0;36mpandas._libs.hashtable.PyObjectHashTable.get_item\u001b[0;34m()\u001b[0m\n",
      "File \u001b[0;32mpandas/_libs/hashtable_class_helper.pxi:5206\u001b[0m, in \u001b[0;36mpandas._libs.hashtable.PyObjectHashTable.get_item\u001b[0;34m()\u001b[0m\n",
      "\u001b[0;31mKeyError\u001b[0m: 'Obs 1'",
      "\nThe above exception was the direct cause of the following exception:\n",
      "\u001b[0;31mKeyError\u001b[0m                                  Traceback (most recent call last)",
      "Input \u001b[0;32mIn [353]\u001b[0m, in \u001b[0;36m<cell line: 1>\u001b[0;34m()\u001b[0m\n\u001b[0;32m----> 1\u001b[0m \u001b[43mdata\u001b[49m\u001b[43m[\u001b[49m\u001b[38;5;124;43m'\u001b[39;49m\u001b[38;5;124;43mObs 1\u001b[39;49m\u001b[38;5;124;43m'\u001b[39;49m\u001b[43m]\u001b[49m\n",
      "File \u001b[0;32m~/opt/anaconda3/lib/python3.9/site-packages/pandas/core/frame.py:3505\u001b[0m, in \u001b[0;36mDataFrame.__getitem__\u001b[0;34m(self, key)\u001b[0m\n\u001b[1;32m   3503\u001b[0m \u001b[38;5;28;01mif\u001b[39;00m \u001b[38;5;28mself\u001b[39m\u001b[38;5;241m.\u001b[39mcolumns\u001b[38;5;241m.\u001b[39mnlevels \u001b[38;5;241m>\u001b[39m \u001b[38;5;241m1\u001b[39m:\n\u001b[1;32m   3504\u001b[0m     \u001b[38;5;28;01mreturn\u001b[39;00m \u001b[38;5;28mself\u001b[39m\u001b[38;5;241m.\u001b[39m_getitem_multilevel(key)\n\u001b[0;32m-> 3505\u001b[0m indexer \u001b[38;5;241m=\u001b[39m \u001b[38;5;28;43mself\u001b[39;49m\u001b[38;5;241;43m.\u001b[39;49m\u001b[43mcolumns\u001b[49m\u001b[38;5;241;43m.\u001b[39;49m\u001b[43mget_loc\u001b[49m\u001b[43m(\u001b[49m\u001b[43mkey\u001b[49m\u001b[43m)\u001b[49m\n\u001b[1;32m   3506\u001b[0m \u001b[38;5;28;01mif\u001b[39;00m is_integer(indexer):\n\u001b[1;32m   3507\u001b[0m     indexer \u001b[38;5;241m=\u001b[39m [indexer]\n",
      "File \u001b[0;32m~/opt/anaconda3/lib/python3.9/site-packages/pandas/core/indexes/base.py:3623\u001b[0m, in \u001b[0;36mIndex.get_loc\u001b[0;34m(self, key, method, tolerance)\u001b[0m\n\u001b[1;32m   3621\u001b[0m     \u001b[38;5;28;01mreturn\u001b[39;00m \u001b[38;5;28mself\u001b[39m\u001b[38;5;241m.\u001b[39m_engine\u001b[38;5;241m.\u001b[39mget_loc(casted_key)\n\u001b[1;32m   3622\u001b[0m \u001b[38;5;28;01mexcept\u001b[39;00m \u001b[38;5;167;01mKeyError\u001b[39;00m \u001b[38;5;28;01mas\u001b[39;00m err:\n\u001b[0;32m-> 3623\u001b[0m     \u001b[38;5;28;01mraise\u001b[39;00m \u001b[38;5;167;01mKeyError\u001b[39;00m(key) \u001b[38;5;28;01mfrom\u001b[39;00m \u001b[38;5;21;01merr\u001b[39;00m\n\u001b[1;32m   3624\u001b[0m \u001b[38;5;28;01mexcept\u001b[39;00m \u001b[38;5;167;01mTypeError\u001b[39;00m:\n\u001b[1;32m   3625\u001b[0m     \u001b[38;5;66;03m# If we have a listlike key, _check_indexing_error will raise\u001b[39;00m\n\u001b[1;32m   3626\u001b[0m     \u001b[38;5;66;03m#  InvalidIndexError. Otherwise we fall through and re-raise\u001b[39;00m\n\u001b[1;32m   3627\u001b[0m     \u001b[38;5;66;03m#  the TypeError.\u001b[39;00m\n\u001b[1;32m   3628\u001b[0m     \u001b[38;5;28mself\u001b[39m\u001b[38;5;241m.\u001b[39m_check_indexing_error(key)\n",
      "\u001b[0;31mKeyError\u001b[0m: 'Obs 1'"
     ]
    }
   ],
   "source": [
    "data['Obs 1'] # ERROR: Must use loc/iloc (or slicing!)"
   ]
  },
  {
   "cell_type": "code",
   "execution_count": 354,
   "id": "fa7435a4",
   "metadata": {},
   "outputs": [
    {
     "data": {
      "text/plain": [
       "x1    0.158477\n",
       "x2    0.871625\n",
       "x3    0.934423\n",
       "x4    0.595098\n",
       "y     0.827684\n",
       "Name: Obs 1, dtype: float64"
      ]
     },
     "execution_count": 354,
     "metadata": {},
     "output_type": "execute_result"
    }
   ],
   "source": [
    "data.loc['Obs 1'] # Select all columns and index rows by label "
   ]
  },
  {
   "cell_type": "code",
   "execution_count": 355,
   "id": "710aad5c",
   "metadata": {},
   "outputs": [
    {
     "data": {
      "text/plain": [
       "x1    0.158477\n",
       "x2    0.871625\n",
       "x3    0.934423\n",
       "x4    0.595098\n",
       "y     0.827684\n",
       "Name: Obs 1, dtype: float64"
      ]
     },
     "execution_count": 355,
     "metadata": {},
     "output_type": "execute_result"
    }
   ],
   "source": [
    "data.iloc[0] # Select all columns and index rows by position "
   ]
  },
  {
   "cell_type": "code",
   "execution_count": 356,
   "id": "6137bc29",
   "metadata": {},
   "outputs": [
    {
     "data": {
      "text/html": [
       "<div>\n",
       "<style scoped>\n",
       "    .dataframe tbody tr th:only-of-type {\n",
       "        vertical-align: middle;\n",
       "    }\n",
       "\n",
       "    .dataframe tbody tr th {\n",
       "        vertical-align: top;\n",
       "    }\n",
       "\n",
       "    .dataframe thead th {\n",
       "        text-align: right;\n",
       "    }\n",
       "</style>\n",
       "<table border=\"1\" class=\"dataframe\">\n",
       "  <thead>\n",
       "    <tr style=\"text-align: right;\">\n",
       "      <th></th>\n",
       "      <th>x1</th>\n",
       "      <th>x2</th>\n",
       "      <th>x3</th>\n",
       "      <th>x4</th>\n",
       "      <th>y</th>\n",
       "    </tr>\n",
       "  </thead>\n",
       "  <tbody>\n",
       "    <tr>\n",
       "      <th>Obs 1</th>\n",
       "      <td>0.158477</td>\n",
       "      <td>0.871625</td>\n",
       "      <td>0.934423</td>\n",
       "      <td>0.595098</td>\n",
       "      <td>0.827684</td>\n",
       "    </tr>\n",
       "    <tr>\n",
       "      <th>Obs 2</th>\n",
       "      <td>0.346370</td>\n",
       "      <td>0.091339</td>\n",
       "      <td>0.141103</td>\n",
       "      <td>0.179219</td>\n",
       "      <td>0.170643</td>\n",
       "    </tr>\n",
       "    <tr>\n",
       "      <th>Obs 3</th>\n",
       "      <td>0.352985</td>\n",
       "      <td>0.596605</td>\n",
       "      <td>0.413909</td>\n",
       "      <td>0.545098</td>\n",
       "      <td>0.975905</td>\n",
       "    </tr>\n",
       "    <tr>\n",
       "      <th>Obs 4</th>\n",
       "      <td>0.543523</td>\n",
       "      <td>0.697431</td>\n",
       "      <td>0.721500</td>\n",
       "      <td>0.395652</td>\n",
       "      <td>0.157123</td>\n",
       "    </tr>\n",
       "  </tbody>\n",
       "</table>\n",
       "</div>"
      ],
      "text/plain": [
       "             x1        x2        x3        x4         y\n",
       "Obs 1  0.158477  0.871625  0.934423  0.595098  0.827684\n",
       "Obs 2  0.346370  0.091339  0.141103  0.179219  0.170643\n",
       "Obs 3  0.352985  0.596605  0.413909  0.545098  0.975905\n",
       "Obs 4  0.543523  0.697431  0.721500  0.395652  0.157123"
      ]
     },
     "execution_count": 356,
     "metadata": {},
     "output_type": "execute_result"
    }
   ],
   "source": [
    "data['Obs 1': 'Obs 4']  # Slicing works directly (Pandas allows it because slicing is valid only for indexes/rows, so no possible confusion)"
   ]
  },
  {
   "cell_type": "code",
   "execution_count": 357,
   "id": "e0b5ddf7",
   "metadata": {},
   "outputs": [
    {
     "data": {
      "text/html": [
       "<div>\n",
       "<style scoped>\n",
       "    .dataframe tbody tr th:only-of-type {\n",
       "        vertical-align: middle;\n",
       "    }\n",
       "\n",
       "    .dataframe tbody tr th {\n",
       "        vertical-align: top;\n",
       "    }\n",
       "\n",
       "    .dataframe thead th {\n",
       "        text-align: right;\n",
       "    }\n",
       "</style>\n",
       "<table border=\"1\" class=\"dataframe\">\n",
       "  <thead>\n",
       "    <tr style=\"text-align: right;\">\n",
       "      <th></th>\n",
       "      <th>x1</th>\n",
       "      <th>x2</th>\n",
       "      <th>x3</th>\n",
       "      <th>x4</th>\n",
       "      <th>y</th>\n",
       "    </tr>\n",
       "  </thead>\n",
       "  <tbody>\n",
       "    <tr>\n",
       "      <th>Obs 1</th>\n",
       "      <td>0.158477</td>\n",
       "      <td>0.871625</td>\n",
       "      <td>0.934423</td>\n",
       "      <td>0.595098</td>\n",
       "      <td>0.827684</td>\n",
       "    </tr>\n",
       "    <tr>\n",
       "      <th>Obs 2</th>\n",
       "      <td>0.346370</td>\n",
       "      <td>0.091339</td>\n",
       "      <td>0.141103</td>\n",
       "      <td>0.179219</td>\n",
       "      <td>0.170643</td>\n",
       "    </tr>\n",
       "    <tr>\n",
       "      <th>Obs 3</th>\n",
       "      <td>0.352985</td>\n",
       "      <td>0.596605</td>\n",
       "      <td>0.413909</td>\n",
       "      <td>0.545098</td>\n",
       "      <td>0.975905</td>\n",
       "    </tr>\n",
       "    <tr>\n",
       "      <th>Obs 4</th>\n",
       "      <td>0.543523</td>\n",
       "      <td>0.697431</td>\n",
       "      <td>0.721500</td>\n",
       "      <td>0.395652</td>\n",
       "      <td>0.157123</td>\n",
       "    </tr>\n",
       "  </tbody>\n",
       "</table>\n",
       "</div>"
      ],
      "text/plain": [
       "             x1        x2        x3        x4         y\n",
       "Obs 1  0.158477  0.871625  0.934423  0.595098  0.827684\n",
       "Obs 2  0.346370  0.091339  0.141103  0.179219  0.170643\n",
       "Obs 3  0.352985  0.596605  0.413909  0.545098  0.975905\n",
       "Obs 4  0.543523  0.697431  0.721500  0.395652  0.157123"
      ]
     },
     "execution_count": 357,
     "metadata": {},
     "output_type": "execute_result"
    }
   ],
   "source": [
    "data.loc['Obs 1': 'Obs 4'] # Ensure and clarify slicing by index label"
   ]
  },
  {
   "cell_type": "code",
   "execution_count": 358,
   "id": "4af88297",
   "metadata": {},
   "outputs": [
    {
     "data": {
      "text/html": [
       "<div>\n",
       "<style scoped>\n",
       "    .dataframe tbody tr th:only-of-type {\n",
       "        vertical-align: middle;\n",
       "    }\n",
       "\n",
       "    .dataframe tbody tr th {\n",
       "        vertical-align: top;\n",
       "    }\n",
       "\n",
       "    .dataframe thead th {\n",
       "        text-align: right;\n",
       "    }\n",
       "</style>\n",
       "<table border=\"1\" class=\"dataframe\">\n",
       "  <thead>\n",
       "    <tr style=\"text-align: right;\">\n",
       "      <th></th>\n",
       "      <th>x1</th>\n",
       "      <th>x2</th>\n",
       "      <th>x3</th>\n",
       "      <th>x4</th>\n",
       "      <th>y</th>\n",
       "    </tr>\n",
       "  </thead>\n",
       "  <tbody>\n",
       "    <tr>\n",
       "      <th>Obs 1</th>\n",
       "      <td>0.158477</td>\n",
       "      <td>0.871625</td>\n",
       "      <td>0.934423</td>\n",
       "      <td>0.595098</td>\n",
       "      <td>0.827684</td>\n",
       "    </tr>\n",
       "    <tr>\n",
       "      <th>Obs 2</th>\n",
       "      <td>0.346370</td>\n",
       "      <td>0.091339</td>\n",
       "      <td>0.141103</td>\n",
       "      <td>0.179219</td>\n",
       "      <td>0.170643</td>\n",
       "    </tr>\n",
       "    <tr>\n",
       "      <th>Obs 3</th>\n",
       "      <td>0.352985</td>\n",
       "      <td>0.596605</td>\n",
       "      <td>0.413909</td>\n",
       "      <td>0.545098</td>\n",
       "      <td>0.975905</td>\n",
       "    </tr>\n",
       "    <tr>\n",
       "      <th>Obs 4</th>\n",
       "      <td>0.543523</td>\n",
       "      <td>0.697431</td>\n",
       "      <td>0.721500</td>\n",
       "      <td>0.395652</td>\n",
       "      <td>0.157123</td>\n",
       "    </tr>\n",
       "  </tbody>\n",
       "</table>\n",
       "</div>"
      ],
      "text/plain": [
       "             x1        x2        x3        x4         y\n",
       "Obs 1  0.158477  0.871625  0.934423  0.595098  0.827684\n",
       "Obs 2  0.346370  0.091339  0.141103  0.179219  0.170643\n",
       "Obs 3  0.352985  0.596605  0.413909  0.545098  0.975905\n",
       "Obs 4  0.543523  0.697431  0.721500  0.395652  0.157123"
      ]
     },
     "execution_count": 358,
     "metadata": {},
     "output_type": "execute_result"
    }
   ],
   "source": [
    "data.iloc[0: 4] # Ensure and clarify slicing by index position "
   ]
  },
  {
   "cell_type": "markdown",
   "id": "ee1eb21c",
   "metadata": {},
   "source": [
    "### Masking / Boolean indexing"
   ]
  },
  {
   "cell_type": "code",
   "execution_count": 360,
   "id": "36e46bd7",
   "metadata": {
    "scrolled": false
   },
   "outputs": [
    {
     "data": {
      "text/html": [
       "<div>\n",
       "<style scoped>\n",
       "    .dataframe tbody tr th:only-of-type {\n",
       "        vertical-align: middle;\n",
       "    }\n",
       "\n",
       "    .dataframe tbody tr th {\n",
       "        vertical-align: top;\n",
       "    }\n",
       "\n",
       "    .dataframe thead th {\n",
       "        text-align: right;\n",
       "    }\n",
       "</style>\n",
       "<table border=\"1\" class=\"dataframe\">\n",
       "  <thead>\n",
       "    <tr style=\"text-align: right;\">\n",
       "      <th></th>\n",
       "      <th>x1</th>\n",
       "      <th>x2</th>\n",
       "      <th>x3</th>\n",
       "      <th>x4</th>\n",
       "      <th>y</th>\n",
       "    </tr>\n",
       "  </thead>\n",
       "  <tbody>\n",
       "    <tr>\n",
       "      <th>Obs 1</th>\n",
       "      <td>0.158477</td>\n",
       "      <td>0.871625</td>\n",
       "      <td>0.934423</td>\n",
       "      <td>0.595098</td>\n",
       "      <td>0.827684</td>\n",
       "    </tr>\n",
       "    <tr>\n",
       "      <th>Obs 2</th>\n",
       "      <td>0.346370</td>\n",
       "      <td>0.091339</td>\n",
       "      <td>0.141103</td>\n",
       "      <td>0.179219</td>\n",
       "      <td>0.170643</td>\n",
       "    </tr>\n",
       "    <tr>\n",
       "      <th>Obs 3</th>\n",
       "      <td>0.352985</td>\n",
       "      <td>0.596605</td>\n",
       "      <td>0.413909</td>\n",
       "      <td>0.545098</td>\n",
       "      <td>0.975905</td>\n",
       "    </tr>\n",
       "    <tr>\n",
       "      <th>Obs 4</th>\n",
       "      <td>0.543523</td>\n",
       "      <td>0.697431</td>\n",
       "      <td>0.721500</td>\n",
       "      <td>0.395652</td>\n",
       "      <td>0.157123</td>\n",
       "    </tr>\n",
       "  </tbody>\n",
       "</table>\n",
       "</div>"
      ],
      "text/plain": [
       "             x1        x2        x3        x4         y\n",
       "Obs 1  0.158477  0.871625  0.934423  0.595098  0.827684\n",
       "Obs 2  0.346370  0.091339  0.141103  0.179219  0.170643\n",
       "Obs 3  0.352985  0.596605  0.413909  0.545098  0.975905\n",
       "Obs 4  0.543523  0.697431  0.721500  0.395652  0.157123"
      ]
     },
     "execution_count": 360,
     "metadata": {},
     "output_type": "execute_result"
    }
   ],
   "source": [
    "data[data['x1'] < 0.8] # Simple mask to filter rows based on values in a column"
   ]
  },
  {
   "cell_type": "code",
   "execution_count": 361,
   "id": "01d6d283",
   "metadata": {},
   "outputs": [
    {
     "data": {
      "text/html": [
       "<div>\n",
       "<style scoped>\n",
       "    .dataframe tbody tr th:only-of-type {\n",
       "        vertical-align: middle;\n",
       "    }\n",
       "\n",
       "    .dataframe tbody tr th {\n",
       "        vertical-align: top;\n",
       "    }\n",
       "\n",
       "    .dataframe thead th {\n",
       "        text-align: right;\n",
       "    }\n",
       "</style>\n",
       "<table border=\"1\" class=\"dataframe\">\n",
       "  <thead>\n",
       "    <tr style=\"text-align: right;\">\n",
       "      <th></th>\n",
       "      <th>x1</th>\n",
       "      <th>x2</th>\n",
       "      <th>x3</th>\n",
       "      <th>x4</th>\n",
       "      <th>y</th>\n",
       "    </tr>\n",
       "  </thead>\n",
       "  <tbody>\n",
       "    <tr>\n",
       "      <th>Obs 2</th>\n",
       "      <td>0.346370</td>\n",
       "      <td>0.091339</td>\n",
       "      <td>0.141103</td>\n",
       "      <td>0.179219</td>\n",
       "      <td>0.170643</td>\n",
       "    </tr>\n",
       "    <tr>\n",
       "      <th>Obs 5</th>\n",
       "      <td>0.977292</td>\n",
       "      <td>0.440029</td>\n",
       "      <td>0.078760</td>\n",
       "      <td>0.434279</td>\n",
       "      <td>0.462086</td>\n",
       "    </tr>\n",
       "  </tbody>\n",
       "</table>\n",
       "</div>"
      ],
      "text/plain": [
       "             x1        x2        x3        x4         y\n",
       "Obs 2  0.346370  0.091339  0.141103  0.179219  0.170643\n",
       "Obs 5  0.977292  0.440029  0.078760  0.434279  0.462086"
      ]
     },
     "execution_count": 361,
     "metadata": {},
     "output_type": "execute_result"
    }
   ],
   "source": [
    "# Mask to select rows with several conditions simultaneously satisfied\n",
    "data[(data['x1'] >= 0.1) & (data['x2'] <= 0.5)] "
   ]
  },
  {
   "cell_type": "code",
   "execution_count": 362,
   "id": "fe8ea4b5",
   "metadata": {
    "collapsed": true
   },
   "outputs": [
    {
     "ename": "ValueError",
     "evalue": "The truth value of a Series is ambiguous. Use a.empty, a.bool(), a.item(), a.any() or a.all().",
     "output_type": "error",
     "traceback": [
      "\u001b[0;31m---------------------------------------------------------------------------\u001b[0m",
      "\u001b[0;31mValueError\u001b[0m                                Traceback (most recent call last)",
      "Input \u001b[0;32mIn [362]\u001b[0m, in \u001b[0;36m<cell line: 2>\u001b[0;34m()\u001b[0m\n\u001b[1;32m      1\u001b[0m \u001b[38;5;66;03m# ERROR: As in NumPy, masking requires specific operator (&, |, ~) instead of (and, or, not)\u001b[39;00m\n\u001b[0;32m----> 2\u001b[0m data[(data[\u001b[38;5;124m'\u001b[39m\u001b[38;5;124mx1\u001b[39m\u001b[38;5;124m'\u001b[39m] \u001b[38;5;241m>\u001b[39m\u001b[38;5;241m=\u001b[39m \u001b[38;5;241m0.1\u001b[39m) \u001b[38;5;129;01mand\u001b[39;00m (data[\u001b[38;5;124m'\u001b[39m\u001b[38;5;124mx2\u001b[39m\u001b[38;5;124m'\u001b[39m] \u001b[38;5;241m<\u001b[39m\u001b[38;5;241m=\u001b[39m \u001b[38;5;241m0.5\u001b[39m)]\n",
      "File \u001b[0;32m~/opt/anaconda3/lib/python3.9/site-packages/pandas/core/generic.py:1527\u001b[0m, in \u001b[0;36mNDFrame.__nonzero__\u001b[0;34m(self)\u001b[0m\n\u001b[1;32m   1525\u001b[0m \u001b[38;5;129m@final\u001b[39m\n\u001b[1;32m   1526\u001b[0m \u001b[38;5;28;01mdef\u001b[39;00m \u001b[38;5;21m__nonzero__\u001b[39m(\u001b[38;5;28mself\u001b[39m):\n\u001b[0;32m-> 1527\u001b[0m     \u001b[38;5;28;01mraise\u001b[39;00m \u001b[38;5;167;01mValueError\u001b[39;00m(\n\u001b[1;32m   1528\u001b[0m         \u001b[38;5;124mf\u001b[39m\u001b[38;5;124m\"\u001b[39m\u001b[38;5;124mThe truth value of a \u001b[39m\u001b[38;5;132;01m{\u001b[39;00m\u001b[38;5;28mtype\u001b[39m(\u001b[38;5;28mself\u001b[39m)\u001b[38;5;241m.\u001b[39m\u001b[38;5;18m__name__\u001b[39m\u001b[38;5;132;01m}\u001b[39;00m\u001b[38;5;124m is ambiguous. \u001b[39m\u001b[38;5;124m\"\u001b[39m\n\u001b[1;32m   1529\u001b[0m         \u001b[38;5;124m\"\u001b[39m\u001b[38;5;124mUse a.empty, a.bool(), a.item(), a.any() or a.all().\u001b[39m\u001b[38;5;124m\"\u001b[39m\n\u001b[1;32m   1530\u001b[0m     )\n",
      "\u001b[0;31mValueError\u001b[0m: The truth value of a Series is ambiguous. Use a.empty, a.bool(), a.item(), a.any() or a.all()."
     ]
    }
   ],
   "source": [
    "# ERROR: As in NumPy, masking requires specific operator (&, |, ~) instead of (and, or, not)\n",
    "data[(data['x1'] >= 0.1) and (data['x2'] <= 0.5)]"
   ]
  },
  {
   "cell_type": "markdown",
   "id": "93ebce44",
   "metadata": {},
   "source": [
    "### Select NumPy (sub-)array out of a data frame"
   ]
  },
  {
   "cell_type": "code",
   "execution_count": 363,
   "id": "b470c1a9",
   "metadata": {},
   "outputs": [
    {
     "data": {
      "text/plain": [
       "array([[0.15847671, 0.87162467, 0.93442324, 0.59509817, 0.82768387],\n",
       "       [0.3463704 , 0.09133915, 0.14110261, 0.17921941, 0.17064323],\n",
       "       [0.35298476, 0.59660473, 0.41390938, 0.54509836, 0.97590546],\n",
       "       [0.54352298, 0.69743143, 0.72149972, 0.39565204, 0.15712327],\n",
       "       [0.97729177, 0.44002913, 0.07876043, 0.43427945, 0.46208648]])"
      ]
     },
     "execution_count": 363,
     "metadata": {},
     "output_type": "execute_result"
    }
   ],
   "source": [
    "data.values # Produce array corresponding to entire DataFrame"
   ]
  },
  {
   "cell_type": "code",
   "execution_count": 364,
   "id": "0c944fdb",
   "metadata": {},
   "outputs": [
    {
     "data": {
      "text/plain": [
       "array([0.15847671, 0.87162467, 0.93442324, 0.59509817, 0.82768387])"
      ]
     },
     "execution_count": 364,
     "metadata": {},
     "output_type": "execute_result"
    }
   ],
   "source": [
    "data.values[0] # Produce array, then index a specific row in this array"
   ]
  },
  {
   "cell_type": "code",
   "execution_count": 365,
   "id": "4eeb358c",
   "metadata": {
    "scrolled": true
   },
   "outputs": [
    {
     "data": {
      "text/plain": [
       "array([[0.93442324, 0.59509817, 0.82768387],\n",
       "       [0.14110261, 0.17921941, 0.17064323],\n",
       "       [0.41390938, 0.54509836, 0.97590546],\n",
       "       [0.72149972, 0.39565204, 0.15712327]])"
      ]
     },
     "execution_count": 365,
     "metadata": {},
     "output_type": "execute_result"
    }
   ],
   "source": [
    "data.values[0:4, 2:] # Produce array, then slice specific rows and columns in this array"
   ]
  },
  {
   "cell_type": "markdown",
   "id": "98154f0f",
   "metadata": {},
   "source": [
    "### Transpose the data frame"
   ]
  },
  {
   "cell_type": "code",
   "execution_count": 366,
   "id": "c25c1457",
   "metadata": {},
   "outputs": [
    {
     "data": {
      "text/html": [
       "<div>\n",
       "<style scoped>\n",
       "    .dataframe tbody tr th:only-of-type {\n",
       "        vertical-align: middle;\n",
       "    }\n",
       "\n",
       "    .dataframe tbody tr th {\n",
       "        vertical-align: top;\n",
       "    }\n",
       "\n",
       "    .dataframe thead th {\n",
       "        text-align: right;\n",
       "    }\n",
       "</style>\n",
       "<table border=\"1\" class=\"dataframe\">\n",
       "  <thead>\n",
       "    <tr style=\"text-align: right;\">\n",
       "      <th></th>\n",
       "      <th>Obs 1</th>\n",
       "      <th>Obs 2</th>\n",
       "      <th>Obs 3</th>\n",
       "      <th>Obs 4</th>\n",
       "      <th>Obs 5</th>\n",
       "    </tr>\n",
       "  </thead>\n",
       "  <tbody>\n",
       "    <tr>\n",
       "      <th>x1</th>\n",
       "      <td>0.158477</td>\n",
       "      <td>0.346370</td>\n",
       "      <td>0.352985</td>\n",
       "      <td>0.543523</td>\n",
       "      <td>0.977292</td>\n",
       "    </tr>\n",
       "    <tr>\n",
       "      <th>x2</th>\n",
       "      <td>0.871625</td>\n",
       "      <td>0.091339</td>\n",
       "      <td>0.596605</td>\n",
       "      <td>0.697431</td>\n",
       "      <td>0.440029</td>\n",
       "    </tr>\n",
       "    <tr>\n",
       "      <th>x3</th>\n",
       "      <td>0.934423</td>\n",
       "      <td>0.141103</td>\n",
       "      <td>0.413909</td>\n",
       "      <td>0.721500</td>\n",
       "      <td>0.078760</td>\n",
       "    </tr>\n",
       "    <tr>\n",
       "      <th>x4</th>\n",
       "      <td>0.595098</td>\n",
       "      <td>0.179219</td>\n",
       "      <td>0.545098</td>\n",
       "      <td>0.395652</td>\n",
       "      <td>0.434279</td>\n",
       "    </tr>\n",
       "    <tr>\n",
       "      <th>y</th>\n",
       "      <td>0.827684</td>\n",
       "      <td>0.170643</td>\n",
       "      <td>0.975905</td>\n",
       "      <td>0.157123</td>\n",
       "      <td>0.462086</td>\n",
       "    </tr>\n",
       "  </tbody>\n",
       "</table>\n",
       "</div>"
      ],
      "text/plain": [
       "       Obs 1     Obs 2     Obs 3     Obs 4     Obs 5\n",
       "x1  0.158477  0.346370  0.352985  0.543523  0.977292\n",
       "x2  0.871625  0.091339  0.596605  0.697431  0.440029\n",
       "x3  0.934423  0.141103  0.413909  0.721500  0.078760\n",
       "x4  0.595098  0.179219  0.545098  0.395652  0.434279\n",
       "y   0.827684  0.170643  0.975905  0.157123  0.462086"
      ]
     },
     "execution_count": 366,
     "metadata": {},
     "output_type": "execute_result"
    }
   ],
   "source": [
    "data.T"
   ]
  },
  {
   "cell_type": "code",
   "execution_count": 367,
   "id": "5daf2155",
   "metadata": {},
   "outputs": [
    {
     "data": {
      "text/plain": [
       "Obs 1    0.158477\n",
       "Obs 2    0.346370\n",
       "Obs 3    0.352985\n",
       "Obs 4    0.543523\n",
       "Obs 5    0.977292\n",
       "Name: x1, dtype: float64"
      ]
     },
     "execution_count": 367,
     "metadata": {},
     "output_type": "execute_result"
    }
   ],
   "source": [
    "data.T.iloc[0] # Reverse semantic of iloc compared to original data object"
   ]
  },
  {
   "cell_type": "code",
   "execution_count": 368,
   "id": "07d9ef2a",
   "metadata": {},
   "outputs": [
    {
     "data": {
      "text/plain": [
       "Obs 1    0.158477\n",
       "Obs 2    0.346370\n",
       "Obs 3    0.352985\n",
       "Obs 4    0.543523\n",
       "Obs 5    0.977292\n",
       "Name: x1, dtype: float64"
      ]
     },
     "execution_count": 368,
     "metadata": {},
     "output_type": "execute_result"
    }
   ],
   "source": [
    "data.T.loc['x1'] # Reverse semantic of loc compared to original data object"
   ]
  },
  {
   "cell_type": "code",
   "execution_count": null,
   "id": "5d01d52d",
   "metadata": {},
   "outputs": [],
   "source": [
    "# Now we can slice the columns of the original data frame \n",
    "data.T.loc['x1': 'x3']"
   ]
  },
  {
   "cell_type": "markdown",
   "id": "23ced378",
   "metadata": {},
   "source": [
    "### Add/delete columns\n",
    "\n",
    "#### Create new columns"
   ]
  },
  {
   "cell_type": "code",
   "execution_count": 369,
   "id": "5c851dc2",
   "metadata": {},
   "outputs": [
    {
     "data": {
      "text/html": [
       "<div>\n",
       "<style scoped>\n",
       "    .dataframe tbody tr th:only-of-type {\n",
       "        vertical-align: middle;\n",
       "    }\n",
       "\n",
       "    .dataframe tbody tr th {\n",
       "        vertical-align: top;\n",
       "    }\n",
       "\n",
       "    .dataframe thead th {\n",
       "        text-align: right;\n",
       "    }\n",
       "</style>\n",
       "<table border=\"1\" class=\"dataframe\">\n",
       "  <thead>\n",
       "    <tr style=\"text-align: right;\">\n",
       "      <th></th>\n",
       "      <th>x1</th>\n",
       "      <th>x2</th>\n",
       "      <th>x3</th>\n",
       "      <th>x4</th>\n",
       "      <th>y</th>\n",
       "      <th>x1square</th>\n",
       "      <th>x2square</th>\n",
       "    </tr>\n",
       "  </thead>\n",
       "  <tbody>\n",
       "    <tr>\n",
       "      <th>Obs 1</th>\n",
       "      <td>0.158477</td>\n",
       "      <td>0.871625</td>\n",
       "      <td>0.934423</td>\n",
       "      <td>0.595098</td>\n",
       "      <td>0.827684</td>\n",
       "      <td>0.025115</td>\n",
       "      <td>0.759730</td>\n",
       "    </tr>\n",
       "    <tr>\n",
       "      <th>Obs 2</th>\n",
       "      <td>0.346370</td>\n",
       "      <td>0.091339</td>\n",
       "      <td>0.141103</td>\n",
       "      <td>0.179219</td>\n",
       "      <td>0.170643</td>\n",
       "      <td>0.119972</td>\n",
       "      <td>0.008343</td>\n",
       "    </tr>\n",
       "    <tr>\n",
       "      <th>Obs 3</th>\n",
       "      <td>0.352985</td>\n",
       "      <td>0.596605</td>\n",
       "      <td>0.413909</td>\n",
       "      <td>0.545098</td>\n",
       "      <td>0.975905</td>\n",
       "      <td>0.124598</td>\n",
       "      <td>0.355937</td>\n",
       "    </tr>\n",
       "    <tr>\n",
       "      <th>Obs 4</th>\n",
       "      <td>0.543523</td>\n",
       "      <td>0.697431</td>\n",
       "      <td>0.721500</td>\n",
       "      <td>0.395652</td>\n",
       "      <td>0.157123</td>\n",
       "      <td>0.295417</td>\n",
       "      <td>0.486411</td>\n",
       "    </tr>\n",
       "    <tr>\n",
       "      <th>Obs 5</th>\n",
       "      <td>0.977292</td>\n",
       "      <td>0.440029</td>\n",
       "      <td>0.078760</td>\n",
       "      <td>0.434279</td>\n",
       "      <td>0.462086</td>\n",
       "      <td>0.955099</td>\n",
       "      <td>0.193626</td>\n",
       "    </tr>\n",
       "  </tbody>\n",
       "</table>\n",
       "</div>"
      ],
      "text/plain": [
       "             x1        x2        x3        x4         y  x1square  x2square\n",
       "Obs 1  0.158477  0.871625  0.934423  0.595098  0.827684  0.025115  0.759730\n",
       "Obs 2  0.346370  0.091339  0.141103  0.179219  0.170643  0.119972  0.008343\n",
       "Obs 3  0.352985  0.596605  0.413909  0.545098  0.975905  0.124598  0.355937\n",
       "Obs 4  0.543523  0.697431  0.721500  0.395652  0.157123  0.295417  0.486411\n",
       "Obs 5  0.977292  0.440029  0.078760  0.434279  0.462086  0.955099  0.193626"
      ]
     },
     "execution_count": 369,
     "metadata": {},
     "output_type": "execute_result"
    }
   ],
   "source": [
    "data['x1square'] = data['x1'] ** 2\n",
    "data['x2square'] = data['x2'] ** 2\n",
    "data"
   ]
  },
  {
   "cell_type": "code",
   "execution_count": 370,
   "id": "a9350d1f",
   "metadata": {},
   "outputs": [
    {
     "data": {
      "text/plain": [
       "Obs 1    0.025115\n",
       "Obs 2    0.119972\n",
       "Obs 3    0.124598\n",
       "Obs 4    0.295417\n",
       "Obs 5    0.955099\n",
       "Name: x1square, dtype: float64"
      ]
     },
     "execution_count": 370,
     "metadata": {},
     "output_type": "execute_result"
    }
   ],
   "source": [
    "data['x1square']"
   ]
  },
  {
   "cell_type": "code",
   "execution_count": 371,
   "id": "d6e2f6a4",
   "metadata": {},
   "outputs": [
    {
     "data": {
      "text/plain": [
       "Obs 1    0.025115\n",
       "Obs 2    0.119972\n",
       "Obs 3    0.124598\n",
       "Obs 4    0.295417\n",
       "Obs 5    0.955099\n",
       "Name: x1square, dtype: float64"
      ]
     },
     "execution_count": 371,
     "metadata": {},
     "output_type": "execute_result"
    }
   ],
   "source": [
    "data.x1square"
   ]
  },
  {
   "cell_type": "code",
   "execution_count": 372,
   "id": "0f825caa",
   "metadata": {
    "scrolled": false
   },
   "outputs": [
    {
     "data": {
      "text/html": [
       "<div>\n",
       "<style scoped>\n",
       "    .dataframe tbody tr th:only-of-type {\n",
       "        vertical-align: middle;\n",
       "    }\n",
       "\n",
       "    .dataframe tbody tr th {\n",
       "        vertical-align: top;\n",
       "    }\n",
       "\n",
       "    .dataframe thead th {\n",
       "        text-align: right;\n",
       "    }\n",
       "</style>\n",
       "<table border=\"1\" class=\"dataframe\">\n",
       "  <thead>\n",
       "    <tr style=\"text-align: right;\">\n",
       "      <th></th>\n",
       "      <th>x1</th>\n",
       "      <th>x2</th>\n",
       "      <th>x3</th>\n",
       "      <th>x4</th>\n",
       "      <th>y</th>\n",
       "      <th>x1square</th>\n",
       "      <th>x2square</th>\n",
       "      <th>check x1</th>\n",
       "    </tr>\n",
       "  </thead>\n",
       "  <tbody>\n",
       "    <tr>\n",
       "      <th>Obs 1</th>\n",
       "      <td>0.158477</td>\n",
       "      <td>0.871625</td>\n",
       "      <td>0.934423</td>\n",
       "      <td>0.595098</td>\n",
       "      <td>0.827684</td>\n",
       "      <td>0.025115</td>\n",
       "      <td>0.759730</td>\n",
       "      <td>True</td>\n",
       "    </tr>\n",
       "    <tr>\n",
       "      <th>Obs 2</th>\n",
       "      <td>0.346370</td>\n",
       "      <td>0.091339</td>\n",
       "      <td>0.141103</td>\n",
       "      <td>0.179219</td>\n",
       "      <td>0.170643</td>\n",
       "      <td>0.119972</td>\n",
       "      <td>0.008343</td>\n",
       "      <td>True</td>\n",
       "    </tr>\n",
       "    <tr>\n",
       "      <th>Obs 3</th>\n",
       "      <td>0.352985</td>\n",
       "      <td>0.596605</td>\n",
       "      <td>0.413909</td>\n",
       "      <td>0.545098</td>\n",
       "      <td>0.975905</td>\n",
       "      <td>0.124598</td>\n",
       "      <td>0.355937</td>\n",
       "      <td>True</td>\n",
       "    </tr>\n",
       "    <tr>\n",
       "      <th>Obs 4</th>\n",
       "      <td>0.543523</td>\n",
       "      <td>0.697431</td>\n",
       "      <td>0.721500</td>\n",
       "      <td>0.395652</td>\n",
       "      <td>0.157123</td>\n",
       "      <td>0.295417</td>\n",
       "      <td>0.486411</td>\n",
       "      <td>True</td>\n",
       "    </tr>\n",
       "    <tr>\n",
       "      <th>Obs 5</th>\n",
       "      <td>0.977292</td>\n",
       "      <td>0.440029</td>\n",
       "      <td>0.078760</td>\n",
       "      <td>0.434279</td>\n",
       "      <td>0.462086</td>\n",
       "      <td>0.955099</td>\n",
       "      <td>0.193626</td>\n",
       "      <td>True</td>\n",
       "    </tr>\n",
       "  </tbody>\n",
       "</table>\n",
       "</div>"
      ],
      "text/plain": [
       "             x1        x2        x3        x4         y  x1square  x2square  \\\n",
       "Obs 1  0.158477  0.871625  0.934423  0.595098  0.827684  0.025115  0.759730   \n",
       "Obs 2  0.346370  0.091339  0.141103  0.179219  0.170643  0.119972  0.008343   \n",
       "Obs 3  0.352985  0.596605  0.413909  0.545098  0.975905  0.124598  0.355937   \n",
       "Obs 4  0.543523  0.697431  0.721500  0.395652  0.157123  0.295417  0.486411   \n",
       "Obs 5  0.977292  0.440029  0.078760  0.434279  0.462086  0.955099  0.193626   \n",
       "\n",
       "       check x1  \n",
       "Obs 1      True  \n",
       "Obs 2      True  \n",
       "Obs 3      True  \n",
       "Obs 4      True  \n",
       "Obs 5      True  "
      ]
     },
     "execution_count": 372,
     "metadata": {},
     "output_type": "execute_result"
    }
   ],
   "source": [
    "data['check x1'] = data['x1'] ** 2 == data['x1square']\n",
    "data"
   ]
  },
  {
   "cell_type": "markdown",
   "id": "0469d940",
   "metadata": {},
   "source": [
    "#### Delete columns"
   ]
  },
  {
   "cell_type": "code",
   "execution_count": 373,
   "id": "893ab609",
   "metadata": {},
   "outputs": [
    {
     "data": {
      "text/html": [
       "<div>\n",
       "<style scoped>\n",
       "    .dataframe tbody tr th:only-of-type {\n",
       "        vertical-align: middle;\n",
       "    }\n",
       "\n",
       "    .dataframe tbody tr th {\n",
       "        vertical-align: top;\n",
       "    }\n",
       "\n",
       "    .dataframe thead th {\n",
       "        text-align: right;\n",
       "    }\n",
       "</style>\n",
       "<table border=\"1\" class=\"dataframe\">\n",
       "  <thead>\n",
       "    <tr style=\"text-align: right;\">\n",
       "      <th></th>\n",
       "      <th>x1</th>\n",
       "      <th>x2</th>\n",
       "      <th>x3</th>\n",
       "      <th>x4</th>\n",
       "      <th>y</th>\n",
       "      <th>x1square</th>\n",
       "      <th>x2square</th>\n",
       "    </tr>\n",
       "  </thead>\n",
       "  <tbody>\n",
       "    <tr>\n",
       "      <th>Obs 1</th>\n",
       "      <td>0.158477</td>\n",
       "      <td>0.871625</td>\n",
       "      <td>0.934423</td>\n",
       "      <td>0.595098</td>\n",
       "      <td>0.827684</td>\n",
       "      <td>0.025115</td>\n",
       "      <td>0.759730</td>\n",
       "    </tr>\n",
       "    <tr>\n",
       "      <th>Obs 2</th>\n",
       "      <td>0.346370</td>\n",
       "      <td>0.091339</td>\n",
       "      <td>0.141103</td>\n",
       "      <td>0.179219</td>\n",
       "      <td>0.170643</td>\n",
       "      <td>0.119972</td>\n",
       "      <td>0.008343</td>\n",
       "    </tr>\n",
       "    <tr>\n",
       "      <th>Obs 3</th>\n",
       "      <td>0.352985</td>\n",
       "      <td>0.596605</td>\n",
       "      <td>0.413909</td>\n",
       "      <td>0.545098</td>\n",
       "      <td>0.975905</td>\n",
       "      <td>0.124598</td>\n",
       "      <td>0.355937</td>\n",
       "    </tr>\n",
       "    <tr>\n",
       "      <th>Obs 4</th>\n",
       "      <td>0.543523</td>\n",
       "      <td>0.697431</td>\n",
       "      <td>0.721500</td>\n",
       "      <td>0.395652</td>\n",
       "      <td>0.157123</td>\n",
       "      <td>0.295417</td>\n",
       "      <td>0.486411</td>\n",
       "    </tr>\n",
       "    <tr>\n",
       "      <th>Obs 5</th>\n",
       "      <td>0.977292</td>\n",
       "      <td>0.440029</td>\n",
       "      <td>0.078760</td>\n",
       "      <td>0.434279</td>\n",
       "      <td>0.462086</td>\n",
       "      <td>0.955099</td>\n",
       "      <td>0.193626</td>\n",
       "    </tr>\n",
       "  </tbody>\n",
       "</table>\n",
       "</div>"
      ],
      "text/plain": [
       "             x1        x2        x3        x4         y  x1square  x2square\n",
       "Obs 1  0.158477  0.871625  0.934423  0.595098  0.827684  0.025115  0.759730\n",
       "Obs 2  0.346370  0.091339  0.141103  0.179219  0.170643  0.119972  0.008343\n",
       "Obs 3  0.352985  0.596605  0.413909  0.545098  0.975905  0.124598  0.355937\n",
       "Obs 4  0.543523  0.697431  0.721500  0.395652  0.157123  0.295417  0.486411\n",
       "Obs 5  0.977292  0.440029  0.078760  0.434279  0.462086  0.955099  0.193626"
      ]
     },
     "execution_count": 373,
     "metadata": {},
     "output_type": "execute_result"
    }
   ],
   "source": [
    "data = data.drop('check x1', axis=1)  # Does not mutate (parameter 'inplace' False by default)\n",
    "data"
   ]
  },
  {
   "cell_type": "code",
   "execution_count": 374,
   "id": "984ee4f8",
   "metadata": {
    "scrolled": true
   },
   "outputs": [
    {
     "data": {
      "text/html": [
       "<div>\n",
       "<style scoped>\n",
       "    .dataframe tbody tr th:only-of-type {\n",
       "        vertical-align: middle;\n",
       "    }\n",
       "\n",
       "    .dataframe tbody tr th {\n",
       "        vertical-align: top;\n",
       "    }\n",
       "\n",
       "    .dataframe thead th {\n",
       "        text-align: right;\n",
       "    }\n",
       "</style>\n",
       "<table border=\"1\" class=\"dataframe\">\n",
       "  <thead>\n",
       "    <tr style=\"text-align: right;\">\n",
       "      <th></th>\n",
       "      <th>x1</th>\n",
       "      <th>x2</th>\n",
       "      <th>x3</th>\n",
       "      <th>x4</th>\n",
       "      <th>y</th>\n",
       "    </tr>\n",
       "  </thead>\n",
       "  <tbody>\n",
       "    <tr>\n",
       "      <th>Obs 1</th>\n",
       "      <td>0.158477</td>\n",
       "      <td>0.871625</td>\n",
       "      <td>0.934423</td>\n",
       "      <td>0.595098</td>\n",
       "      <td>0.827684</td>\n",
       "    </tr>\n",
       "    <tr>\n",
       "      <th>Obs 2</th>\n",
       "      <td>0.346370</td>\n",
       "      <td>0.091339</td>\n",
       "      <td>0.141103</td>\n",
       "      <td>0.179219</td>\n",
       "      <td>0.170643</td>\n",
       "    </tr>\n",
       "    <tr>\n",
       "      <th>Obs 3</th>\n",
       "      <td>0.352985</td>\n",
       "      <td>0.596605</td>\n",
       "      <td>0.413909</td>\n",
       "      <td>0.545098</td>\n",
       "      <td>0.975905</td>\n",
       "    </tr>\n",
       "    <tr>\n",
       "      <th>Obs 4</th>\n",
       "      <td>0.543523</td>\n",
       "      <td>0.697431</td>\n",
       "      <td>0.721500</td>\n",
       "      <td>0.395652</td>\n",
       "      <td>0.157123</td>\n",
       "    </tr>\n",
       "    <tr>\n",
       "      <th>Obs 5</th>\n",
       "      <td>0.977292</td>\n",
       "      <td>0.440029</td>\n",
       "      <td>0.078760</td>\n",
       "      <td>0.434279</td>\n",
       "      <td>0.462086</td>\n",
       "    </tr>\n",
       "  </tbody>\n",
       "</table>\n",
       "</div>"
      ],
      "text/plain": [
       "             x1        x2        x3        x4         y\n",
       "Obs 1  0.158477  0.871625  0.934423  0.595098  0.827684\n",
       "Obs 2  0.346370  0.091339  0.141103  0.179219  0.170643\n",
       "Obs 3  0.352985  0.596605  0.413909  0.545098  0.975905\n",
       "Obs 4  0.543523  0.697431  0.721500  0.395652  0.157123\n",
       "Obs 5  0.977292  0.440029  0.078760  0.434279  0.462086"
      ]
     },
     "execution_count": 374,
     "metadata": {},
     "output_type": "execute_result"
    }
   ],
   "source": [
    "data.drop(['x1square','x2square'], axis=1, inplace=True) # Mutate when 'inplace' = True\n",
    "data"
   ]
  },
  {
   "cell_type": "markdown",
   "id": "75768020",
   "metadata": {},
   "source": [
    "### Hierarchical indexing\n",
    "Pandas can define a *hierarchical* labeling of any axes, meaning it's possible to have multiple labels per '*tick*'. \n",
    "\n",
    "Labels become lists of lists, creating a hierarchy. \n",
    "\n",
    "Hierarchical indexing can be defined for rows and/or columns."
   ]
  },
  {
   "cell_type": "code",
   "execution_count": 375,
   "id": "3b8dbae7",
   "metadata": {},
   "outputs": [
    {
     "name": "stdout",
     "output_type": "stream",
     "text": [
      "a  1    1.525836\n",
      "   2   -1.083087\n",
      "   3   -0.784455\n",
      "b  1   -0.047956\n",
      "   2    0.924016\n",
      "   3   -1.302892\n",
      "c  1   -0.942824\n",
      "   2   -1.310783\n",
      "d  2    1.021444\n",
      "   3   -0.624820\n",
      "dtype: float64\n"
     ]
    }
   ],
   "source": [
    "s = pd.Series(np.random.randn(10),\n",
    "              index=[['a','a','a','b','b','b','c','c','d','d'],\n",
    "                     [1,2,3,1,2,3,1,2,2,3]])\n",
    "print(s)"
   ]
  },
  {
   "cell_type": "markdown",
   "id": "5b0a636c",
   "metadata": {},
   "source": [
    "#### Query a sub-frame corresponding to a specific label in the hierarchy"
   ]
  },
  {
   "cell_type": "code",
   "execution_count": 376,
   "id": "cb26fc3f",
   "metadata": {},
   "outputs": [
    {
     "name": "stdout",
     "output_type": "stream",
     "text": [
      "1    1.525836\n",
      "2   -1.083087\n",
      "3   -0.784455\n",
      "dtype: float64\n"
     ]
    }
   ],
   "source": [
    "print(s['a'])"
   ]
  },
  {
   "cell_type": "code",
   "execution_count": 377,
   "id": "16006bcd",
   "metadata": {},
   "outputs": [
    {
     "name": "stdout",
     "output_type": "stream",
     "text": [
      "b  1   -0.047956\n",
      "   2    0.924016\n",
      "   3   -1.302892\n",
      "c  1   -0.942824\n",
      "   2   -1.310783\n",
      "dtype: float64\n"
     ]
    }
   ],
   "source": [
    "print(s['b':'c']) # Slicing"
   ]
  },
  {
   "cell_type": "markdown",
   "id": "247411b1",
   "metadata": {},
   "source": [
    "#### Hierarchical labels can be defined both in rows and columns"
   ]
  },
  {
   "cell_type": "code",
   "execution_count": 378,
   "id": "f1660a4e",
   "metadata": {},
   "outputs": [
    {
     "name": "stdout",
     "output_type": "stream",
     "text": [
      "    Feature A     Feature B    \n",
      "           A1  A2        B1  B2\n",
      "a 1         0   1         2   3\n",
      "  2         4   5         6   7\n",
      "  3         8   9        10  11\n",
      "b 1        12  13        14  15\n",
      "  2        16  17        18  19\n",
      "  3        20  21        22  23\n",
      "c 1        24  25        26  27\n",
      "  2        28  29        30  31\n",
      "d 2        32  33        34  35\n",
      "  3        36  37        38  39\n"
     ]
    }
   ],
   "source": [
    "df = pd.DataFrame(np.arange(40).reshape((10,4)),\n",
    "           index=[['a','a','a','b','b','b','c','c','d','d'],[1,2,3,1,2,3,1,2,2,3]],\n",
    "           columns=[['Feature A','Feature A','Feature B','Feature B'],\n",
    "                    ['A1','A2','B1','B2']])\n",
    "\n",
    "print(df)"
   ]
  },
  {
   "cell_type": "markdown",
   "id": "eef7a35d",
   "metadata": {},
   "source": [
    "#### When querying sub-frames, Pandas automatically attaches the relevant sub-hierarchy of labels"
   ]
  },
  {
   "cell_type": "code",
   "execution_count": 379,
   "id": "02f194e5",
   "metadata": {},
   "outputs": [
    {
     "name": "stdout",
     "output_type": "stream",
     "text": [
      "     A1  A2\n",
      "a 1   0   1\n",
      "  2   4   5\n",
      "  3   8   9\n",
      "b 1  12  13\n",
      "  2  16  17\n",
      "  3  20  21\n",
      "c 1  24  25\n",
      "  2  28  29\n",
      "d 2  32  33\n",
      "  3  36  37\n"
     ]
    }
   ],
   "source": [
    "print(df['Feature A'])"
   ]
  },
  {
   "cell_type": "code",
   "execution_count": 380,
   "id": "62fefc9f",
   "metadata": {},
   "outputs": [
    {
     "name": "stdout",
     "output_type": "stream",
     "text": [
      "  Feature A    Feature B    \n",
      "         A1 A2        B1  B2\n",
      "1         0  1         2   3\n",
      "2         4  5         6   7\n",
      "3         8  9        10  11\n"
     ]
    }
   ],
   "source": [
    "print(df.loc['a'])"
   ]
  },
  {
   "cell_type": "code",
   "execution_count": 381,
   "id": "ba79d88c",
   "metadata": {},
   "outputs": [
    {
     "name": "stdout",
     "output_type": "stream",
     "text": [
      "   A1  A2\n",
      "1   0   1\n",
      "2   4   5\n",
      "3   8   9\n"
     ]
    }
   ],
   "source": [
    "print(df['Feature A'].loc['a'])"
   ]
  },
  {
   "cell_type": "markdown",
   "id": "c0b2eaea",
   "metadata": {},
   "source": [
    "#### Let's look at an example of hierarchical indexing with real data:"
   ]
  },
  {
   "cell_type": "code",
   "execution_count": 382,
   "id": "ea6f6608",
   "metadata": {},
   "outputs": [
    {
     "data": {
      "text/plain": [
       "California  2000    33871648\n",
       "            2010    37253956\n",
       "New York    2000    18976457\n",
       "            2010    19378102\n",
       "Texas       2000    20851820\n",
       "            2010    25145561\n",
       "dtype: int64"
      ]
     },
     "execution_count": 382,
     "metadata": {},
     "output_type": "execute_result"
    }
   ],
   "source": [
    "# Given population in 2000 and 2010 of three states, listed by state\n",
    "populations = [33871648, 37253956, 18976457, 19378102, 20851820, 25145561]\n",
    "\n",
    "# Create a list of tuple\n",
    "index = [('California', 2000), ('California', 2010),\n",
    "         ('New York', 2000), ('New York', 2010),\n",
    "         ('Texas', 2000), ('Texas', 2010)]\n",
    "\n",
    "# Create a MultiIndex object\n",
    "index2D = pd.MultiIndex.from_tuples(index)\n",
    "\n",
    "# Create a Pandas series with hierarchical indexing \n",
    "pop = pd.Series(populations, index2D)\n",
    "pop"
   ]
  },
  {
   "cell_type": "markdown",
   "id": "e920ec0b",
   "metadata": {},
   "source": [
    "A dictionary can be as used as input, in which case Pandas automatically create a `MultiIndex`. \n",
    "\n",
    "Here is the same example as above, but using a dictionary as input:"
   ]
  },
  {
   "cell_type": "code",
   "execution_count": 383,
   "id": "7fb51c8c",
   "metadata": {},
   "outputs": [
    {
     "data": {
      "text/plain": [
       "California  2000    33871648\n",
       "            2010    37253956\n",
       "New York    2000    18976457\n",
       "            2010    19378102\n",
       "Texas       2000    20851820\n",
       "            2010    25145561\n",
       "dtype: int64"
      ]
     },
     "execution_count": 383,
     "metadata": {},
     "output_type": "execute_result"
    }
   ],
   "source": [
    "# Given population in 2000 and 2010 of three states, listed by state\n",
    "data = {('California', 2000): 33871648,\n",
    "        ('California', 2010): 37253956,\n",
    "        ('New York', 2000): 18976457,\n",
    "        ('New York', 2010): 19378102,\n",
    "        ('Texas', 2000): 20851820,\n",
    "        ('Texas', 2010): 25145561}\n",
    "\n",
    "# Create a Pandas series with hierarchical indexing\n",
    "pd.Series(data)"
   ]
  },
  {
   "cell_type": "markdown",
   "id": "0cb0645c",
   "metadata": {},
   "source": [
    "Same result, but less code..."
   ]
  },
  {
   "cell_type": "markdown",
   "id": "6042f309",
   "metadata": {},
   "source": [
    "## Please visit this URL and challenge yourself on the practice exercises:\n",
    "\n",
    "https://datacarpentry.org/python-ecology-lesson/03-index-slice-subset/index.html\n",
    "\n",
    "Metadata on this dataset can be found here: https://www.esapubs.org/archive/ecol/E090/118/Portal_rodent_metadata.htm"
   ]
  },
  {
   "cell_type": "code",
   "execution_count": 384,
   "id": "360e0bb6",
   "metadata": {},
   "outputs": [],
   "source": [
    "surveys = pd.read_csv(\"./surveys.csv\") "
   ]
  },
  {
   "cell_type": "code",
   "execution_count": 385,
   "id": "4765e903",
   "metadata": {},
   "outputs": [
    {
     "data": {
      "text/plain": [
       "(35549, 9)"
      ]
     },
     "execution_count": 385,
     "metadata": {},
     "output_type": "execute_result"
    }
   ],
   "source": [
    "surveys.shape"
   ]
  },
  {
   "cell_type": "code",
   "execution_count": 386,
   "id": "09e2d21a",
   "metadata": {},
   "outputs": [
    {
     "data": {
      "text/plain": [
       "Index(['record_id', 'month', 'day', 'year', 'plot_id', 'species_id', 'sex',\n",
       "       'hindfoot_length', 'weight'],\n",
       "      dtype='object')"
      ]
     },
     "execution_count": 386,
     "metadata": {},
     "output_type": "execute_result"
    }
   ],
   "source": [
    "surveys.columns"
   ]
  },
  {
   "cell_type": "code",
   "execution_count": 387,
   "id": "ec82895c",
   "metadata": {},
   "outputs": [
    {
     "data": {
      "text/plain": [
       "record_id            int64\n",
       "month                int64\n",
       "day                  int64\n",
       "year                 int64\n",
       "plot_id              int64\n",
       "species_id          object\n",
       "sex                 object\n",
       "hindfoot_length    float64\n",
       "weight             float64\n",
       "dtype: object"
      ]
     },
     "execution_count": 387,
     "metadata": {},
     "output_type": "execute_result"
    }
   ],
   "source": [
    "surveys.dtypes"
   ]
  },
  {
   "cell_type": "code",
   "execution_count": 388,
   "id": "b76c1daa",
   "metadata": {},
   "outputs": [
    {
     "data": {
      "text/html": [
       "<div>\n",
       "<style scoped>\n",
       "    .dataframe tbody tr th:only-of-type {\n",
       "        vertical-align: middle;\n",
       "    }\n",
       "\n",
       "    .dataframe tbody tr th {\n",
       "        vertical-align: top;\n",
       "    }\n",
       "\n",
       "    .dataframe thead th {\n",
       "        text-align: right;\n",
       "    }\n",
       "</style>\n",
       "<table border=\"1\" class=\"dataframe\">\n",
       "  <thead>\n",
       "    <tr style=\"text-align: right;\">\n",
       "      <th></th>\n",
       "      <th>record_id</th>\n",
       "      <th>month</th>\n",
       "      <th>day</th>\n",
       "      <th>year</th>\n",
       "      <th>plot_id</th>\n",
       "      <th>species_id</th>\n",
       "      <th>sex</th>\n",
       "      <th>hindfoot_length</th>\n",
       "      <th>weight</th>\n",
       "    </tr>\n",
       "  </thead>\n",
       "  <tbody>\n",
       "    <tr>\n",
       "      <th>0</th>\n",
       "      <td>1</td>\n",
       "      <td>7</td>\n",
       "      <td>16</td>\n",
       "      <td>1977</td>\n",
       "      <td>2</td>\n",
       "      <td>NL</td>\n",
       "      <td>M</td>\n",
       "      <td>32.0</td>\n",
       "      <td>NaN</td>\n",
       "    </tr>\n",
       "    <tr>\n",
       "      <th>1</th>\n",
       "      <td>2</td>\n",
       "      <td>7</td>\n",
       "      <td>16</td>\n",
       "      <td>1977</td>\n",
       "      <td>3</td>\n",
       "      <td>NL</td>\n",
       "      <td>M</td>\n",
       "      <td>33.0</td>\n",
       "      <td>NaN</td>\n",
       "    </tr>\n",
       "    <tr>\n",
       "      <th>2</th>\n",
       "      <td>3</td>\n",
       "      <td>7</td>\n",
       "      <td>16</td>\n",
       "      <td>1977</td>\n",
       "      <td>2</td>\n",
       "      <td>DM</td>\n",
       "      <td>F</td>\n",
       "      <td>37.0</td>\n",
       "      <td>NaN</td>\n",
       "    </tr>\n",
       "    <tr>\n",
       "      <th>3</th>\n",
       "      <td>4</td>\n",
       "      <td>7</td>\n",
       "      <td>16</td>\n",
       "      <td>1977</td>\n",
       "      <td>7</td>\n",
       "      <td>DM</td>\n",
       "      <td>M</td>\n",
       "      <td>36.0</td>\n",
       "      <td>NaN</td>\n",
       "    </tr>\n",
       "    <tr>\n",
       "      <th>4</th>\n",
       "      <td>5</td>\n",
       "      <td>7</td>\n",
       "      <td>16</td>\n",
       "      <td>1977</td>\n",
       "      <td>3</td>\n",
       "      <td>DM</td>\n",
       "      <td>M</td>\n",
       "      <td>35.0</td>\n",
       "      <td>NaN</td>\n",
       "    </tr>\n",
       "  </tbody>\n",
       "</table>\n",
       "</div>"
      ],
      "text/plain": [
       "   record_id  month  day  year  plot_id species_id sex  hindfoot_length  \\\n",
       "0          1      7   16  1977        2         NL   M             32.0   \n",
       "1          2      7   16  1977        3         NL   M             33.0   \n",
       "2          3      7   16  1977        2         DM   F             37.0   \n",
       "3          4      7   16  1977        7         DM   M             36.0   \n",
       "4          5      7   16  1977        3         DM   M             35.0   \n",
       "\n",
       "   weight  \n",
       "0     NaN  \n",
       "1     NaN  \n",
       "2     NaN  \n",
       "3     NaN  \n",
       "4     NaN  "
      ]
     },
     "execution_count": 388,
     "metadata": {},
     "output_type": "execute_result"
    }
   ],
   "source": [
    "surveys.head()"
   ]
  },
  {
   "cell_type": "code",
   "execution_count": 389,
   "id": "87aac23f",
   "metadata": {},
   "outputs": [
    {
     "data": {
      "text/html": [
       "<div>\n",
       "<style scoped>\n",
       "    .dataframe tbody tr th:only-of-type {\n",
       "        vertical-align: middle;\n",
       "    }\n",
       "\n",
       "    .dataframe tbody tr th {\n",
       "        vertical-align: top;\n",
       "    }\n",
       "\n",
       "    .dataframe thead th {\n",
       "        text-align: right;\n",
       "    }\n",
       "</style>\n",
       "<table border=\"1\" class=\"dataframe\">\n",
       "  <thead>\n",
       "    <tr style=\"text-align: right;\">\n",
       "      <th></th>\n",
       "      <th>record_id</th>\n",
       "      <th>month</th>\n",
       "      <th>day</th>\n",
       "      <th>year</th>\n",
       "      <th>plot_id</th>\n",
       "      <th>species_id</th>\n",
       "      <th>sex</th>\n",
       "      <th>hindfoot_length</th>\n",
       "      <th>weight</th>\n",
       "    </tr>\n",
       "  </thead>\n",
       "  <tbody>\n",
       "    <tr>\n",
       "      <th>35544</th>\n",
       "      <td>35545</td>\n",
       "      <td>12</td>\n",
       "      <td>31</td>\n",
       "      <td>2002</td>\n",
       "      <td>15</td>\n",
       "      <td>AH</td>\n",
       "      <td>NaN</td>\n",
       "      <td>NaN</td>\n",
       "      <td>NaN</td>\n",
       "    </tr>\n",
       "    <tr>\n",
       "      <th>35545</th>\n",
       "      <td>35546</td>\n",
       "      <td>12</td>\n",
       "      <td>31</td>\n",
       "      <td>2002</td>\n",
       "      <td>15</td>\n",
       "      <td>AH</td>\n",
       "      <td>NaN</td>\n",
       "      <td>NaN</td>\n",
       "      <td>NaN</td>\n",
       "    </tr>\n",
       "    <tr>\n",
       "      <th>35546</th>\n",
       "      <td>35547</td>\n",
       "      <td>12</td>\n",
       "      <td>31</td>\n",
       "      <td>2002</td>\n",
       "      <td>10</td>\n",
       "      <td>RM</td>\n",
       "      <td>F</td>\n",
       "      <td>15.0</td>\n",
       "      <td>14.0</td>\n",
       "    </tr>\n",
       "    <tr>\n",
       "      <th>35547</th>\n",
       "      <td>35548</td>\n",
       "      <td>12</td>\n",
       "      <td>31</td>\n",
       "      <td>2002</td>\n",
       "      <td>7</td>\n",
       "      <td>DO</td>\n",
       "      <td>M</td>\n",
       "      <td>36.0</td>\n",
       "      <td>51.0</td>\n",
       "    </tr>\n",
       "    <tr>\n",
       "      <th>35548</th>\n",
       "      <td>35549</td>\n",
       "      <td>12</td>\n",
       "      <td>31</td>\n",
       "      <td>2002</td>\n",
       "      <td>5</td>\n",
       "      <td>NaN</td>\n",
       "      <td>NaN</td>\n",
       "      <td>NaN</td>\n",
       "      <td>NaN</td>\n",
       "    </tr>\n",
       "  </tbody>\n",
       "</table>\n",
       "</div>"
      ],
      "text/plain": [
       "       record_id  month  day  year  plot_id species_id  sex  hindfoot_length  \\\n",
       "35544      35545     12   31  2002       15         AH  NaN              NaN   \n",
       "35545      35546     12   31  2002       15         AH  NaN              NaN   \n",
       "35546      35547     12   31  2002       10         RM    F             15.0   \n",
       "35547      35548     12   31  2002        7         DO    M             36.0   \n",
       "35548      35549     12   31  2002        5        NaN  NaN              NaN   \n",
       "\n",
       "       weight  \n",
       "35544     NaN  \n",
       "35545     NaN  \n",
       "35546    14.0  \n",
       "35547    51.0  \n",
       "35548     NaN  "
      ]
     },
     "execution_count": 389,
     "metadata": {},
     "output_type": "execute_result"
    }
   ],
   "source": [
    "surveys.tail()"
   ]
  },
  {
   "cell_type": "markdown",
   "id": "eb71e1ed",
   "metadata": {},
   "source": [
    "#### Practice Exercice:"
   ]
  },
  {
   "cell_type": "code",
   "execution_count": 390,
   "id": "011fc3c8",
   "metadata": {
    "scrolled": true
   },
   "outputs": [
    {
     "data": {
      "text/html": [
       "<div>\n",
       "<style scoped>\n",
       "    .dataframe tbody tr th:only-of-type {\n",
       "        vertical-align: middle;\n",
       "    }\n",
       "\n",
       "    .dataframe tbody tr th {\n",
       "        vertical-align: top;\n",
       "    }\n",
       "\n",
       "    .dataframe thead th {\n",
       "        text-align: right;\n",
       "    }\n",
       "</style>\n",
       "<table border=\"1\" class=\"dataframe\">\n",
       "  <thead>\n",
       "    <tr style=\"text-align: right;\">\n",
       "      <th></th>\n",
       "      <th>record_id</th>\n",
       "      <th>month</th>\n",
       "      <th>day</th>\n",
       "      <th>year</th>\n",
       "      <th>plot_id</th>\n",
       "      <th>species_id</th>\n",
       "      <th>sex</th>\n",
       "      <th>hindfoot_length</th>\n",
       "      <th>weight</th>\n",
       "    </tr>\n",
       "  </thead>\n",
       "  <tbody>\n",
       "    <tr>\n",
       "      <th>0</th>\n",
       "      <td>1</td>\n",
       "      <td>7</td>\n",
       "      <td>16</td>\n",
       "      <td>1977</td>\n",
       "      <td>2</td>\n",
       "      <td>NL</td>\n",
       "      <td>M</td>\n",
       "      <td>32.0</td>\n",
       "      <td>NaN</td>\n",
       "    </tr>\n",
       "    <tr>\n",
       "      <th>10</th>\n",
       "      <td>11</td>\n",
       "      <td>7</td>\n",
       "      <td>16</td>\n",
       "      <td>1977</td>\n",
       "      <td>5</td>\n",
       "      <td>DS</td>\n",
       "      <td>F</td>\n",
       "      <td>53.0</td>\n",
       "      <td>NaN</td>\n",
       "    </tr>\n",
       "  </tbody>\n",
       "</table>\n",
       "</div>"
      ],
      "text/plain": [
       "    record_id  month  day  year  plot_id species_id sex  hindfoot_length  \\\n",
       "0           1      7   16  1977        2         NL   M             32.0   \n",
       "10         11      7   16  1977        5         DS   F             53.0   \n",
       "\n",
       "    weight  \n",
       "0      NaN  \n",
       "10     NaN  "
      ]
     },
     "execution_count": 390,
     "metadata": {},
     "output_type": "execute_result"
    }
   ],
   "source": [
    "# 1) What does this do?\n",
    "surveys.loc[[0, 10]] # Same as surveys.loc[[0, 10],:]"
   ]
  },
  {
   "cell_type": "code",
   "execution_count": 391,
   "id": "3e558e31",
   "metadata": {},
   "outputs": [
    {
     "data": {
      "text/plain": [
       "species_id     NL\n",
       "plot_id         2\n",
       "weight        NaN\n",
       "Name: 0, dtype: object"
      ]
     },
     "execution_count": 391,
     "metadata": {},
     "output_type": "execute_result"
    }
   ],
   "source": [
    "# 2) What does this do?\n",
    "surveys[['species_id', 'plot_id', 'weight']].loc[0] # Same as surveys.loc[0,['species_id', 'plot_id', 'weight']]"
   ]
  },
  {
   "cell_type": "code",
   "execution_count": 392,
   "id": "7d586709",
   "metadata": {
    "collapsed": true
   },
   "outputs": [
    {
     "ename": "KeyError",
     "evalue": "'[35549] not in index'",
     "output_type": "error",
     "traceback": [
      "\u001b[0;31m---------------------------------------------------------------------------\u001b[0m",
      "\u001b[0;31mKeyError\u001b[0m                                  Traceback (most recent call last)",
      "Input \u001b[0;32mIn [392]\u001b[0m, in \u001b[0;36m<cell line: 2>\u001b[0;34m()\u001b[0m\n\u001b[1;32m      1\u001b[0m \u001b[38;5;66;03m# 3) What happens when you type the code below? Why?\u001b[39;00m\n\u001b[0;32m----> 2\u001b[0m \u001b[43msurveys\u001b[49m\u001b[38;5;241;43m.\u001b[39;49m\u001b[43mloc\u001b[49m\u001b[43m[\u001b[49m\u001b[43m[\u001b[49m\u001b[38;5;241;43m10\u001b[39;49m\u001b[43m,\u001b[49m\u001b[43m \u001b[49m\u001b[38;5;241;43m100\u001b[39;49m\u001b[43m,\u001b[49m\u001b[43m \u001b[49m\u001b[38;5;241;43m35549\u001b[39;49m\u001b[43m]\u001b[49m\u001b[43m]\u001b[49m\n",
      "File \u001b[0;32m~/opt/anaconda3/lib/python3.9/site-packages/pandas/core/indexing.py:967\u001b[0m, in \u001b[0;36m_LocationIndexer.__getitem__\u001b[0;34m(self, key)\u001b[0m\n\u001b[1;32m    964\u001b[0m axis \u001b[38;5;241m=\u001b[39m \u001b[38;5;28mself\u001b[39m\u001b[38;5;241m.\u001b[39maxis \u001b[38;5;129;01mor\u001b[39;00m \u001b[38;5;241m0\u001b[39m\n\u001b[1;32m    966\u001b[0m maybe_callable \u001b[38;5;241m=\u001b[39m com\u001b[38;5;241m.\u001b[39mapply_if_callable(key, \u001b[38;5;28mself\u001b[39m\u001b[38;5;241m.\u001b[39mobj)\n\u001b[0;32m--> 967\u001b[0m \u001b[38;5;28;01mreturn\u001b[39;00m \u001b[38;5;28;43mself\u001b[39;49m\u001b[38;5;241;43m.\u001b[39;49m\u001b[43m_getitem_axis\u001b[49m\u001b[43m(\u001b[49m\u001b[43mmaybe_callable\u001b[49m\u001b[43m,\u001b[49m\u001b[43m \u001b[49m\u001b[43maxis\u001b[49m\u001b[38;5;241;43m=\u001b[39;49m\u001b[43maxis\u001b[49m\u001b[43m)\u001b[49m\n",
      "File \u001b[0;32m~/opt/anaconda3/lib/python3.9/site-packages/pandas/core/indexing.py:1191\u001b[0m, in \u001b[0;36m_LocIndexer._getitem_axis\u001b[0;34m(self, key, axis)\u001b[0m\n\u001b[1;32m   1188\u001b[0m     \u001b[38;5;28;01mif\u001b[39;00m \u001b[38;5;28mhasattr\u001b[39m(key, \u001b[38;5;124m\"\u001b[39m\u001b[38;5;124mndim\u001b[39m\u001b[38;5;124m\"\u001b[39m) \u001b[38;5;129;01mand\u001b[39;00m key\u001b[38;5;241m.\u001b[39mndim \u001b[38;5;241m>\u001b[39m \u001b[38;5;241m1\u001b[39m:\n\u001b[1;32m   1189\u001b[0m         \u001b[38;5;28;01mraise\u001b[39;00m \u001b[38;5;167;01mValueError\u001b[39;00m(\u001b[38;5;124m\"\u001b[39m\u001b[38;5;124mCannot index with multidimensional key\u001b[39m\u001b[38;5;124m\"\u001b[39m)\n\u001b[0;32m-> 1191\u001b[0m     \u001b[38;5;28;01mreturn\u001b[39;00m \u001b[38;5;28;43mself\u001b[39;49m\u001b[38;5;241;43m.\u001b[39;49m\u001b[43m_getitem_iterable\u001b[49m\u001b[43m(\u001b[49m\u001b[43mkey\u001b[49m\u001b[43m,\u001b[49m\u001b[43m \u001b[49m\u001b[43maxis\u001b[49m\u001b[38;5;241;43m=\u001b[39;49m\u001b[43maxis\u001b[49m\u001b[43m)\u001b[49m\n\u001b[1;32m   1193\u001b[0m \u001b[38;5;66;03m# nested tuple slicing\u001b[39;00m\n\u001b[1;32m   1194\u001b[0m \u001b[38;5;28;01mif\u001b[39;00m is_nested_tuple(key, labels):\n",
      "File \u001b[0;32m~/opt/anaconda3/lib/python3.9/site-packages/pandas/core/indexing.py:1132\u001b[0m, in \u001b[0;36m_LocIndexer._getitem_iterable\u001b[0;34m(self, key, axis)\u001b[0m\n\u001b[1;32m   1129\u001b[0m \u001b[38;5;28mself\u001b[39m\u001b[38;5;241m.\u001b[39m_validate_key(key, axis)\n\u001b[1;32m   1131\u001b[0m \u001b[38;5;66;03m# A collection of keys\u001b[39;00m\n\u001b[0;32m-> 1132\u001b[0m keyarr, indexer \u001b[38;5;241m=\u001b[39m \u001b[38;5;28;43mself\u001b[39;49m\u001b[38;5;241;43m.\u001b[39;49m\u001b[43m_get_listlike_indexer\u001b[49m\u001b[43m(\u001b[49m\u001b[43mkey\u001b[49m\u001b[43m,\u001b[49m\u001b[43m \u001b[49m\u001b[43maxis\u001b[49m\u001b[43m)\u001b[49m\n\u001b[1;32m   1133\u001b[0m \u001b[38;5;28;01mreturn\u001b[39;00m \u001b[38;5;28mself\u001b[39m\u001b[38;5;241m.\u001b[39mobj\u001b[38;5;241m.\u001b[39m_reindex_with_indexers(\n\u001b[1;32m   1134\u001b[0m     {axis: [keyarr, indexer]}, copy\u001b[38;5;241m=\u001b[39m\u001b[38;5;28;01mTrue\u001b[39;00m, allow_dups\u001b[38;5;241m=\u001b[39m\u001b[38;5;28;01mTrue\u001b[39;00m\n\u001b[1;32m   1135\u001b[0m )\n",
      "File \u001b[0;32m~/opt/anaconda3/lib/python3.9/site-packages/pandas/core/indexing.py:1327\u001b[0m, in \u001b[0;36m_LocIndexer._get_listlike_indexer\u001b[0;34m(self, key, axis)\u001b[0m\n\u001b[1;32m   1324\u001b[0m ax \u001b[38;5;241m=\u001b[39m \u001b[38;5;28mself\u001b[39m\u001b[38;5;241m.\u001b[39mobj\u001b[38;5;241m.\u001b[39m_get_axis(axis)\n\u001b[1;32m   1325\u001b[0m axis_name \u001b[38;5;241m=\u001b[39m \u001b[38;5;28mself\u001b[39m\u001b[38;5;241m.\u001b[39mobj\u001b[38;5;241m.\u001b[39m_get_axis_name(axis)\n\u001b[0;32m-> 1327\u001b[0m keyarr, indexer \u001b[38;5;241m=\u001b[39m \u001b[43max\u001b[49m\u001b[38;5;241;43m.\u001b[39;49m\u001b[43m_get_indexer_strict\u001b[49m\u001b[43m(\u001b[49m\u001b[43mkey\u001b[49m\u001b[43m,\u001b[49m\u001b[43m \u001b[49m\u001b[43maxis_name\u001b[49m\u001b[43m)\u001b[49m\n\u001b[1;32m   1329\u001b[0m \u001b[38;5;28;01mreturn\u001b[39;00m keyarr, indexer\n",
      "File \u001b[0;32m~/opt/anaconda3/lib/python3.9/site-packages/pandas/core/indexes/base.py:5782\u001b[0m, in \u001b[0;36mIndex._get_indexer_strict\u001b[0;34m(self, key, axis_name)\u001b[0m\n\u001b[1;32m   5779\u001b[0m \u001b[38;5;28;01melse\u001b[39;00m:\n\u001b[1;32m   5780\u001b[0m     keyarr, indexer, new_indexer \u001b[38;5;241m=\u001b[39m \u001b[38;5;28mself\u001b[39m\u001b[38;5;241m.\u001b[39m_reindex_non_unique(keyarr)\n\u001b[0;32m-> 5782\u001b[0m \u001b[38;5;28;43mself\u001b[39;49m\u001b[38;5;241;43m.\u001b[39;49m\u001b[43m_raise_if_missing\u001b[49m\u001b[43m(\u001b[49m\u001b[43mkeyarr\u001b[49m\u001b[43m,\u001b[49m\u001b[43m \u001b[49m\u001b[43mindexer\u001b[49m\u001b[43m,\u001b[49m\u001b[43m \u001b[49m\u001b[43maxis_name\u001b[49m\u001b[43m)\u001b[49m\n\u001b[1;32m   5784\u001b[0m keyarr \u001b[38;5;241m=\u001b[39m \u001b[38;5;28mself\u001b[39m\u001b[38;5;241m.\u001b[39mtake(indexer)\n\u001b[1;32m   5785\u001b[0m \u001b[38;5;28;01mif\u001b[39;00m \u001b[38;5;28misinstance\u001b[39m(key, Index):\n\u001b[1;32m   5786\u001b[0m     \u001b[38;5;66;03m# GH 42790 - Preserve name from an Index\u001b[39;00m\n",
      "File \u001b[0;32m~/opt/anaconda3/lib/python3.9/site-packages/pandas/core/indexes/base.py:5845\u001b[0m, in \u001b[0;36mIndex._raise_if_missing\u001b[0;34m(self, key, indexer, axis_name)\u001b[0m\n\u001b[1;32m   5842\u001b[0m     \u001b[38;5;28;01mraise\u001b[39;00m \u001b[38;5;167;01mKeyError\u001b[39;00m(\u001b[38;5;124mf\u001b[39m\u001b[38;5;124m\"\u001b[39m\u001b[38;5;124mNone of [\u001b[39m\u001b[38;5;132;01m{\u001b[39;00mkey\u001b[38;5;132;01m}\u001b[39;00m\u001b[38;5;124m] are in the [\u001b[39m\u001b[38;5;132;01m{\u001b[39;00maxis_name\u001b[38;5;132;01m}\u001b[39;00m\u001b[38;5;124m]\u001b[39m\u001b[38;5;124m\"\u001b[39m)\n\u001b[1;32m   5844\u001b[0m not_found \u001b[38;5;241m=\u001b[39m \u001b[38;5;28mlist\u001b[39m(ensure_index(key)[missing_mask\u001b[38;5;241m.\u001b[39mnonzero()[\u001b[38;5;241m0\u001b[39m]]\u001b[38;5;241m.\u001b[39munique())\n\u001b[0;32m-> 5845\u001b[0m \u001b[38;5;28;01mraise\u001b[39;00m \u001b[38;5;167;01mKeyError\u001b[39;00m(\u001b[38;5;124mf\u001b[39m\u001b[38;5;124m\"\u001b[39m\u001b[38;5;132;01m{\u001b[39;00mnot_found\u001b[38;5;132;01m}\u001b[39;00m\u001b[38;5;124m not in index\u001b[39m\u001b[38;5;124m\"\u001b[39m)\n",
      "\u001b[0;31mKeyError\u001b[0m: '[35549] not in index'"
     ]
    }
   ],
   "source": [
    "# 3) What happens when you type the code below? Why?\n",
    "surveys.loc[[10, 100, 35549]]"
   ]
  },
  {
   "cell_type": "code",
   "execution_count": 393,
   "id": "5a63e02d",
   "metadata": {
    "collapsed": true
   },
   "outputs": [
    {
     "ename": "IndexError",
     "evalue": "positional indexers are out-of-bounds",
     "output_type": "error",
     "traceback": [
      "\u001b[0;31m---------------------------------------------------------------------------\u001b[0m",
      "\u001b[0;31mIndexError\u001b[0m                                Traceback (most recent call last)",
      "File \u001b[0;32m~/opt/anaconda3/lib/python3.9/site-packages/pandas/core/indexing.py:1482\u001b[0m, in \u001b[0;36m_iLocIndexer._get_list_axis\u001b[0;34m(self, key, axis)\u001b[0m\n\u001b[1;32m   1481\u001b[0m \u001b[38;5;28;01mtry\u001b[39;00m:\n\u001b[0;32m-> 1482\u001b[0m     \u001b[38;5;28;01mreturn\u001b[39;00m \u001b[38;5;28;43mself\u001b[39;49m\u001b[38;5;241;43m.\u001b[39;49m\u001b[43mobj\u001b[49m\u001b[38;5;241;43m.\u001b[39;49m\u001b[43m_take_with_is_copy\u001b[49m\u001b[43m(\u001b[49m\u001b[43mkey\u001b[49m\u001b[43m,\u001b[49m\u001b[43m \u001b[49m\u001b[43maxis\u001b[49m\u001b[38;5;241;43m=\u001b[39;49m\u001b[43maxis\u001b[49m\u001b[43m)\u001b[49m\n\u001b[1;32m   1483\u001b[0m \u001b[38;5;28;01mexcept\u001b[39;00m \u001b[38;5;167;01mIndexError\u001b[39;00m \u001b[38;5;28;01mas\u001b[39;00m err:\n\u001b[1;32m   1484\u001b[0m     \u001b[38;5;66;03m# re-raise with different error message\u001b[39;00m\n",
      "File \u001b[0;32m~/opt/anaconda3/lib/python3.9/site-packages/pandas/core/generic.py:3716\u001b[0m, in \u001b[0;36mNDFrame._take_with_is_copy\u001b[0;34m(self, indices, axis)\u001b[0m\n\u001b[1;32m   3709\u001b[0m \u001b[38;5;124;03m\"\"\"\u001b[39;00m\n\u001b[1;32m   3710\u001b[0m \u001b[38;5;124;03mInternal version of the `take` method that sets the `_is_copy`\u001b[39;00m\n\u001b[1;32m   3711\u001b[0m \u001b[38;5;124;03mattribute to keep track of the parent dataframe (using in indexing\u001b[39;00m\n\u001b[0;32m   (...)\u001b[0m\n\u001b[1;32m   3714\u001b[0m \u001b[38;5;124;03mSee the docstring of `take` for full explanation of the parameters.\u001b[39;00m\n\u001b[1;32m   3715\u001b[0m \u001b[38;5;124;03m\"\"\"\u001b[39;00m\n\u001b[0;32m-> 3716\u001b[0m result \u001b[38;5;241m=\u001b[39m \u001b[38;5;28;43mself\u001b[39;49m\u001b[38;5;241;43m.\u001b[39;49m\u001b[43mtake\u001b[49m\u001b[43m(\u001b[49m\u001b[43mindices\u001b[49m\u001b[38;5;241;43m=\u001b[39;49m\u001b[43mindices\u001b[49m\u001b[43m,\u001b[49m\u001b[43m \u001b[49m\u001b[43maxis\u001b[49m\u001b[38;5;241;43m=\u001b[39;49m\u001b[43maxis\u001b[49m\u001b[43m)\u001b[49m\n\u001b[1;32m   3717\u001b[0m \u001b[38;5;66;03m# Maybe set copy if we didn't actually change the index.\u001b[39;00m\n",
      "File \u001b[0;32m~/opt/anaconda3/lib/python3.9/site-packages/pandas/core/generic.py:3703\u001b[0m, in \u001b[0;36mNDFrame.take\u001b[0;34m(self, indices, axis, is_copy, **kwargs)\u001b[0m\n\u001b[1;32m   3701\u001b[0m \u001b[38;5;28mself\u001b[39m\u001b[38;5;241m.\u001b[39m_consolidate_inplace()\n\u001b[0;32m-> 3703\u001b[0m new_data \u001b[38;5;241m=\u001b[39m \u001b[38;5;28;43mself\u001b[39;49m\u001b[38;5;241;43m.\u001b[39;49m\u001b[43m_mgr\u001b[49m\u001b[38;5;241;43m.\u001b[39;49m\u001b[43mtake\u001b[49m\u001b[43m(\u001b[49m\n\u001b[1;32m   3704\u001b[0m \u001b[43m    \u001b[49m\u001b[43mindices\u001b[49m\u001b[43m,\u001b[49m\u001b[43m \u001b[49m\u001b[43maxis\u001b[49m\u001b[38;5;241;43m=\u001b[39;49m\u001b[38;5;28;43mself\u001b[39;49m\u001b[38;5;241;43m.\u001b[39;49m\u001b[43m_get_block_manager_axis\u001b[49m\u001b[43m(\u001b[49m\u001b[43maxis\u001b[49m\u001b[43m)\u001b[49m\u001b[43m,\u001b[49m\u001b[43m \u001b[49m\u001b[43mverify\u001b[49m\u001b[38;5;241;43m=\u001b[39;49m\u001b[38;5;28;43;01mTrue\u001b[39;49;00m\n\u001b[1;32m   3705\u001b[0m \u001b[43m\u001b[49m\u001b[43m)\u001b[49m\n\u001b[1;32m   3706\u001b[0m \u001b[38;5;28;01mreturn\u001b[39;00m \u001b[38;5;28mself\u001b[39m\u001b[38;5;241m.\u001b[39m_constructor(new_data)\u001b[38;5;241m.\u001b[39m__finalize__(\u001b[38;5;28mself\u001b[39m, method\u001b[38;5;241m=\u001b[39m\u001b[38;5;124m\"\u001b[39m\u001b[38;5;124mtake\u001b[39m\u001b[38;5;124m\"\u001b[39m)\n",
      "File \u001b[0;32m~/opt/anaconda3/lib/python3.9/site-packages/pandas/core/internals/managers.py:897\u001b[0m, in \u001b[0;36mBaseBlockManager.take\u001b[0;34m(self, indexer, axis, verify)\u001b[0m\n\u001b[1;32m    896\u001b[0m n \u001b[38;5;241m=\u001b[39m \u001b[38;5;28mself\u001b[39m\u001b[38;5;241m.\u001b[39mshape[axis]\n\u001b[0;32m--> 897\u001b[0m indexer \u001b[38;5;241m=\u001b[39m \u001b[43mmaybe_convert_indices\u001b[49m\u001b[43m(\u001b[49m\u001b[43mindexer\u001b[49m\u001b[43m,\u001b[49m\u001b[43m \u001b[49m\u001b[43mn\u001b[49m\u001b[43m,\u001b[49m\u001b[43m \u001b[49m\u001b[43mverify\u001b[49m\u001b[38;5;241;43m=\u001b[39;49m\u001b[43mverify\u001b[49m\u001b[43m)\u001b[49m\n\u001b[1;32m    899\u001b[0m new_labels \u001b[38;5;241m=\u001b[39m \u001b[38;5;28mself\u001b[39m\u001b[38;5;241m.\u001b[39maxes[axis]\u001b[38;5;241m.\u001b[39mtake(indexer)\n",
      "File \u001b[0;32m~/opt/anaconda3/lib/python3.9/site-packages/pandas/core/indexers/utils.py:292\u001b[0m, in \u001b[0;36mmaybe_convert_indices\u001b[0;34m(indices, n, verify)\u001b[0m\n\u001b[1;32m    291\u001b[0m     \u001b[38;5;28;01mif\u001b[39;00m mask\u001b[38;5;241m.\u001b[39many():\n\u001b[0;32m--> 292\u001b[0m         \u001b[38;5;28;01mraise\u001b[39;00m \u001b[38;5;167;01mIndexError\u001b[39;00m(\u001b[38;5;124m\"\u001b[39m\u001b[38;5;124mindices are out-of-bounds\u001b[39m\u001b[38;5;124m\"\u001b[39m)\n\u001b[1;32m    293\u001b[0m \u001b[38;5;28;01mreturn\u001b[39;00m indices\n",
      "\u001b[0;31mIndexError\u001b[0m: indices are out-of-bounds",
      "\nThe above exception was the direct cause of the following exception:\n",
      "\u001b[0;31mIndexError\u001b[0m                                Traceback (most recent call last)",
      "Input \u001b[0;32mIn [393]\u001b[0m, in \u001b[0;36m<cell line: 2>\u001b[0;34m()\u001b[0m\n\u001b[1;32m      1\u001b[0m \u001b[38;5;66;03m# 4) What happens when you type the code below? Why?\u001b[39;00m\n\u001b[0;32m----> 2\u001b[0m \u001b[43msurveys\u001b[49m\u001b[38;5;241;43m.\u001b[39;49m\u001b[43miloc\u001b[49m\u001b[43m[\u001b[49m\u001b[43m[\u001b[49m\u001b[38;5;241;43m10\u001b[39;49m\u001b[43m,\u001b[49m\u001b[43m \u001b[49m\u001b[38;5;241;43m100\u001b[39;49m\u001b[43m,\u001b[49m\u001b[43m \u001b[49m\u001b[38;5;241;43m35549\u001b[39;49m\u001b[43m]\u001b[49m\u001b[43m]\u001b[49m\n",
      "File \u001b[0;32m~/opt/anaconda3/lib/python3.9/site-packages/pandas/core/indexing.py:967\u001b[0m, in \u001b[0;36m_LocationIndexer.__getitem__\u001b[0;34m(self, key)\u001b[0m\n\u001b[1;32m    964\u001b[0m axis \u001b[38;5;241m=\u001b[39m \u001b[38;5;28mself\u001b[39m\u001b[38;5;241m.\u001b[39maxis \u001b[38;5;129;01mor\u001b[39;00m \u001b[38;5;241m0\u001b[39m\n\u001b[1;32m    966\u001b[0m maybe_callable \u001b[38;5;241m=\u001b[39m com\u001b[38;5;241m.\u001b[39mapply_if_callable(key, \u001b[38;5;28mself\u001b[39m\u001b[38;5;241m.\u001b[39mobj)\n\u001b[0;32m--> 967\u001b[0m \u001b[38;5;28;01mreturn\u001b[39;00m \u001b[38;5;28;43mself\u001b[39;49m\u001b[38;5;241;43m.\u001b[39;49m\u001b[43m_getitem_axis\u001b[49m\u001b[43m(\u001b[49m\u001b[43mmaybe_callable\u001b[49m\u001b[43m,\u001b[49m\u001b[43m \u001b[49m\u001b[43maxis\u001b[49m\u001b[38;5;241;43m=\u001b[39;49m\u001b[43maxis\u001b[49m\u001b[43m)\u001b[49m\n",
      "File \u001b[0;32m~/opt/anaconda3/lib/python3.9/site-packages/pandas/core/indexing.py:1511\u001b[0m, in \u001b[0;36m_iLocIndexer._getitem_axis\u001b[0;34m(self, key, axis)\u001b[0m\n\u001b[1;32m   1509\u001b[0m \u001b[38;5;66;03m# a list of integers\u001b[39;00m\n\u001b[1;32m   1510\u001b[0m \u001b[38;5;28;01melif\u001b[39;00m is_list_like_indexer(key):\n\u001b[0;32m-> 1511\u001b[0m     \u001b[38;5;28;01mreturn\u001b[39;00m \u001b[38;5;28;43mself\u001b[39;49m\u001b[38;5;241;43m.\u001b[39;49m\u001b[43m_get_list_axis\u001b[49m\u001b[43m(\u001b[49m\u001b[43mkey\u001b[49m\u001b[43m,\u001b[49m\u001b[43m \u001b[49m\u001b[43maxis\u001b[49m\u001b[38;5;241;43m=\u001b[39;49m\u001b[43maxis\u001b[49m\u001b[43m)\u001b[49m\n\u001b[1;32m   1513\u001b[0m \u001b[38;5;66;03m# a single integer\u001b[39;00m\n\u001b[1;32m   1514\u001b[0m \u001b[38;5;28;01melse\u001b[39;00m:\n\u001b[1;32m   1515\u001b[0m     key \u001b[38;5;241m=\u001b[39m item_from_zerodim(key)\n",
      "File \u001b[0;32m~/opt/anaconda3/lib/python3.9/site-packages/pandas/core/indexing.py:1485\u001b[0m, in \u001b[0;36m_iLocIndexer._get_list_axis\u001b[0;34m(self, key, axis)\u001b[0m\n\u001b[1;32m   1482\u001b[0m     \u001b[38;5;28;01mreturn\u001b[39;00m \u001b[38;5;28mself\u001b[39m\u001b[38;5;241m.\u001b[39mobj\u001b[38;5;241m.\u001b[39m_take_with_is_copy(key, axis\u001b[38;5;241m=\u001b[39maxis)\n\u001b[1;32m   1483\u001b[0m \u001b[38;5;28;01mexcept\u001b[39;00m \u001b[38;5;167;01mIndexError\u001b[39;00m \u001b[38;5;28;01mas\u001b[39;00m err:\n\u001b[1;32m   1484\u001b[0m     \u001b[38;5;66;03m# re-raise with different error message\u001b[39;00m\n\u001b[0;32m-> 1485\u001b[0m     \u001b[38;5;28;01mraise\u001b[39;00m \u001b[38;5;167;01mIndexError\u001b[39;00m(\u001b[38;5;124m\"\u001b[39m\u001b[38;5;124mpositional indexers are out-of-bounds\u001b[39m\u001b[38;5;124m\"\u001b[39m) \u001b[38;5;28;01mfrom\u001b[39;00m \u001b[38;5;21;01merr\u001b[39;00m\n",
      "\u001b[0;31mIndexError\u001b[0m: positional indexers are out-of-bounds"
     ]
    }
   ],
   "source": [
    "# 4) What happens when you type the code below? Why?\n",
    "surveys.iloc[[10, 100, 35549]]"
   ]
  },
  {
   "cell_type": "code",
   "execution_count": null,
   "id": "1b0ecc66",
   "metadata": {},
   "outputs": [],
   "source": [
    "# 5) How can you index the data by the values in the column \"record_id\"?"
   ]
  },
  {
   "cell_type": "code",
   "execution_count": 397,
   "id": "ffa8ac8e",
   "metadata": {},
   "outputs": [
    {
     "data": {
      "text/html": [
       "<div>\n",
       "<style scoped>\n",
       "    .dataframe tbody tr th:only-of-type {\n",
       "        vertical-align: middle;\n",
       "    }\n",
       "\n",
       "    .dataframe tbody tr th {\n",
       "        vertical-align: top;\n",
       "    }\n",
       "\n",
       "    .dataframe thead th {\n",
       "        text-align: right;\n",
       "    }\n",
       "</style>\n",
       "<table border=\"1\" class=\"dataframe\">\n",
       "  <thead>\n",
       "    <tr style=\"text-align: right;\">\n",
       "      <th></th>\n",
       "      <th>month</th>\n",
       "      <th>day</th>\n",
       "      <th>year</th>\n",
       "      <th>plot_id</th>\n",
       "      <th>species_id</th>\n",
       "      <th>sex</th>\n",
       "      <th>hindfoot_length</th>\n",
       "      <th>weight</th>\n",
       "    </tr>\n",
       "    <tr>\n",
       "      <th>record_id</th>\n",
       "      <th></th>\n",
       "      <th></th>\n",
       "      <th></th>\n",
       "      <th></th>\n",
       "      <th></th>\n",
       "      <th></th>\n",
       "      <th></th>\n",
       "      <th></th>\n",
       "    </tr>\n",
       "  </thead>\n",
       "  <tbody>\n",
       "    <tr>\n",
       "      <th>1</th>\n",
       "      <td>7</td>\n",
       "      <td>16</td>\n",
       "      <td>1977</td>\n",
       "      <td>2</td>\n",
       "      <td>NL</td>\n",
       "      <td>M</td>\n",
       "      <td>32.0</td>\n",
       "      <td>NaN</td>\n",
       "    </tr>\n",
       "    <tr>\n",
       "      <th>2</th>\n",
       "      <td>7</td>\n",
       "      <td>16</td>\n",
       "      <td>1977</td>\n",
       "      <td>3</td>\n",
       "      <td>NL</td>\n",
       "      <td>M</td>\n",
       "      <td>33.0</td>\n",
       "      <td>NaN</td>\n",
       "    </tr>\n",
       "    <tr>\n",
       "      <th>3</th>\n",
       "      <td>7</td>\n",
       "      <td>16</td>\n",
       "      <td>1977</td>\n",
       "      <td>2</td>\n",
       "      <td>DM</td>\n",
       "      <td>F</td>\n",
       "      <td>37.0</td>\n",
       "      <td>NaN</td>\n",
       "    </tr>\n",
       "    <tr>\n",
       "      <th>4</th>\n",
       "      <td>7</td>\n",
       "      <td>16</td>\n",
       "      <td>1977</td>\n",
       "      <td>7</td>\n",
       "      <td>DM</td>\n",
       "      <td>M</td>\n",
       "      <td>36.0</td>\n",
       "      <td>NaN</td>\n",
       "    </tr>\n",
       "    <tr>\n",
       "      <th>5</th>\n",
       "      <td>7</td>\n",
       "      <td>16</td>\n",
       "      <td>1977</td>\n",
       "      <td>3</td>\n",
       "      <td>DM</td>\n",
       "      <td>M</td>\n",
       "      <td>35.0</td>\n",
       "      <td>NaN</td>\n",
       "    </tr>\n",
       "    <tr>\n",
       "      <th>...</th>\n",
       "      <td>...</td>\n",
       "      <td>...</td>\n",
       "      <td>...</td>\n",
       "      <td>...</td>\n",
       "      <td>...</td>\n",
       "      <td>...</td>\n",
       "      <td>...</td>\n",
       "      <td>...</td>\n",
       "    </tr>\n",
       "    <tr>\n",
       "      <th>35545</th>\n",
       "      <td>12</td>\n",
       "      <td>31</td>\n",
       "      <td>2002</td>\n",
       "      <td>15</td>\n",
       "      <td>AH</td>\n",
       "      <td>NaN</td>\n",
       "      <td>NaN</td>\n",
       "      <td>NaN</td>\n",
       "    </tr>\n",
       "    <tr>\n",
       "      <th>35546</th>\n",
       "      <td>12</td>\n",
       "      <td>31</td>\n",
       "      <td>2002</td>\n",
       "      <td>15</td>\n",
       "      <td>AH</td>\n",
       "      <td>NaN</td>\n",
       "      <td>NaN</td>\n",
       "      <td>NaN</td>\n",
       "    </tr>\n",
       "    <tr>\n",
       "      <th>35547</th>\n",
       "      <td>12</td>\n",
       "      <td>31</td>\n",
       "      <td>2002</td>\n",
       "      <td>10</td>\n",
       "      <td>RM</td>\n",
       "      <td>F</td>\n",
       "      <td>15.0</td>\n",
       "      <td>14.0</td>\n",
       "    </tr>\n",
       "    <tr>\n",
       "      <th>35548</th>\n",
       "      <td>12</td>\n",
       "      <td>31</td>\n",
       "      <td>2002</td>\n",
       "      <td>7</td>\n",
       "      <td>DO</td>\n",
       "      <td>M</td>\n",
       "      <td>36.0</td>\n",
       "      <td>51.0</td>\n",
       "    </tr>\n",
       "    <tr>\n",
       "      <th>35549</th>\n",
       "      <td>12</td>\n",
       "      <td>31</td>\n",
       "      <td>2002</td>\n",
       "      <td>5</td>\n",
       "      <td>NaN</td>\n",
       "      <td>NaN</td>\n",
       "      <td>NaN</td>\n",
       "      <td>NaN</td>\n",
       "    </tr>\n",
       "  </tbody>\n",
       "</table>\n",
       "<p>35549 rows × 8 columns</p>\n",
       "</div>"
      ],
      "text/plain": [
       "           month  day  year  plot_id species_id  sex  hindfoot_length  weight\n",
       "record_id                                                                    \n",
       "1              7   16  1977        2         NL    M             32.0     NaN\n",
       "2              7   16  1977        3         NL    M             33.0     NaN\n",
       "3              7   16  1977        2         DM    F             37.0     NaN\n",
       "4              7   16  1977        7         DM    M             36.0     NaN\n",
       "5              7   16  1977        3         DM    M             35.0     NaN\n",
       "...          ...  ...   ...      ...        ...  ...              ...     ...\n",
       "35545         12   31  2002       15         AH  NaN              NaN     NaN\n",
       "35546         12   31  2002       15         AH  NaN              NaN     NaN\n",
       "35547         12   31  2002       10         RM    F             15.0    14.0\n",
       "35548         12   31  2002        7         DO    M             36.0    51.0\n",
       "35549         12   31  2002        5        NaN  NaN              NaN     NaN\n",
       "\n",
       "[35549 rows x 8 columns]"
      ]
     },
     "execution_count": 397,
     "metadata": {},
     "output_type": "execute_result"
    }
   ],
   "source": [
    "surveys = pd.read_csv(\"./surveys.csv\", index_col='record_id')\n",
    "surveys"
   ]
  },
  {
   "cell_type": "code",
   "execution_count": null,
   "id": "e3e2cdff",
   "metadata": {},
   "outputs": [],
   "source": [
    "# 6) Create a new DataFrame that contains only records from 2000-2010"
   ]
  },
  {
   "cell_type": "code",
   "execution_count": null,
   "id": "0cbd61ec",
   "metadata": {},
   "outputs": [],
   "source": []
  },
  {
   "cell_type": "code",
   "execution_count": null,
   "id": "f65be077",
   "metadata": {},
   "outputs": [],
   "source": [
    "# 7) Create a new DataFrame that contains only observations that are \n",
    "#    of sex male or female and where weight values are greater than 10"
   ]
  },
  {
   "cell_type": "code",
   "execution_count": null,
   "id": "15bf26d6",
   "metadata": {},
   "outputs": [],
   "source": []
  },
  {
   "cell_type": "markdown",
   "id": "cceaf1ae",
   "metadata": {},
   "source": [
    "## Thank you Everyone!\n"
   ]
  }
 ],
 "metadata": {
  "kernelspec": {
   "display_name": "Python 3 (ipykernel)",
   "language": "python",
   "name": "python3"
  },
  "language_info": {
   "codemirror_mode": {
    "name": "ipython",
    "version": 3
   },
   "file_extension": ".py",
   "mimetype": "text/x-python",
   "name": "python",
   "nbconvert_exporter": "python",
   "pygments_lexer": "ipython3",
   "version": "3.9.12"
  }
 },
 "nbformat": 4,
 "nbformat_minor": 5
}
