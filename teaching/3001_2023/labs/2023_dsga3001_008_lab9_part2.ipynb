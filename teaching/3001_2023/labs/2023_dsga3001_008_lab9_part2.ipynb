{
  "cells": [
    {
      "cell_type": "code",
      "execution_count": null,
      "metadata": {
        "colab": {
          "base_uri": "https://localhost:8080/"
        },
        "id": "ef9uCUbyC28B",
        "outputId": "b670c582-a7b5-4f27-faee-f27b8cc8c807"
      },
      "outputs": [
        {
          "name": "stdout",
          "output_type": "stream",
          "text": [
            "Cloning into 'alpha-zero-general'...\n",
            "remote: Enumerating objects: 1156, done.\u001b[K\n",
            "remote: Counting objects: 100% (9/9), done.\u001b[K\n",
            "remote: Compressing objects: 100% (9/9), done.\u001b[K\n",
            "remote: Total 1156 (delta 3), reused 4 (delta 0), pack-reused 1147\u001b[K\n",
            "Receiving objects: 100% (1156/1156), 424.24 MiB | 27.30 MiB/s, done.\n",
            "Resolving deltas: 100% (635/635), done.\n",
            "Updating files: 100% (123/123), done.\n"
          ]
        }
      ],
      "source": [
        "!git clone https://github.com/suragnair/alpha-zero-general/\n",
        "!mv alpha-zero-general/* ./\n",
        "!rm -rf alpha-zero-general/"
      ]
    },
    {
      "cell_type": "code",
      "execution_count": null,
      "metadata": {
        "colab": {
          "background_save": true
        },
        "id": "w14U7uZOC9JX"
      },
      "outputs": [],
      "source": [
        "import Arena\n",
        "from MCTS import MCTS\n",
        "from othello.OthelloGame import OthelloGame\n",
        "from tictactoe.TicTacToeGame import TicTacToeGame\n",
        "from tictactoe.TicTacToePlayers import *\n",
        "from tictactoe.keras.NNet import NNetWrapper as NNet\n",
        "\n",
        "\n",
        "import numpy as np\n",
        "from utils import *\n",
        "\n",
        "\"\"\"\n",
        "use this script to play any two agents against each other, or play manually with\n",
        "any agent.\n",
        "\"\"\"\n",
        "\n",
        "mini_othello = True  # Play in 6x6 instead of the normal 8x8.\n",
        "human_vs_cpu = True\n",
        "\n",
        "# if mini_othello:\n",
        "#     g = OthelloGame(6)\n",
        "# else:\n",
        "#     g = OthelloGame(8)\n",
        "g = TicTacToeGame()\n",
        "\n",
        "# all players\n",
        "rp = RandomPlayer(g).play\n",
        "hp = HumanTicTacToePlayer(g).play\n",
        "\n",
        "\n",
        "\n",
        "# nnet players\n",
        "n1 = NNet(g)\n",
        "# if mini_othello:\n",
        "#     n1.load_checkpoint('./pretrained_models/othello/pytorch/','6x100x25_best.pth.tar')\n",
        "# else:\n",
        "#     n1.load_checkpoint('./pretrained_models/othello/pytorch/','8x8_100checkpoints_best.pth.tar')\n",
        "n1.load_checkpoint('/content/pretrained_models/tictactoe/keras/', 'best-25eps-25sim-10epch.pth.tar')\n",
        "args1 = dotdict({'numMCTSSims': 50, 'cpuct':1.0})\n",
        "mcts1 = MCTS(g, n1, args1)\n",
        "n1p = lambda x: np.argmax(mcts1.getActionProb(x, temp=0))\n",
        "\n",
        "if human_vs_cpu:\n",
        "    player2 = hp\n",
        "else:\n",
        "\n",
        "    n2 = NNet(g)\n",
        "    n2.load_checkpoint('/content/pretrained_models/tictactoe/keras/', 'best-25eps-25sim-10epch.pth.tar')\n",
        "    args2 = dotdict({'numMCTSSims': 50, 'cpuct': 1.0})\n",
        "    mcts2 = MCTS(g, n2, args2)\n",
        "    n2p = lambda x: np.argmax(mcts2.getActionProb(x, temp=0))\n",
        "\n",
        "    player2 = n2p  # Player 2 is neural network if it's cpu vs cpu.\n",
        "\n",
        "arena = Arena.Arena(n1p, player2, g, display=TicTacToeGame.display)\n",
        "\n",
        "print(arena.playGames(2, verbose=True))"
      ]
    },
    {
      "cell_type": "code",
      "execution_count": null,
      "metadata": {
        "id": "dPEsruWRJfmo"
      },
      "outputs": [],
      "source": []
    }
  ],
  "metadata": {
    "colab": {
      "provenance": []
    },
    "kernelspec": {
      "display_name": "Python 3",
      "name": "python3"
    },
    "language_info": {
      "name": "python"
    }
  },
  "nbformat": 4,
  "nbformat_minor": 0
}